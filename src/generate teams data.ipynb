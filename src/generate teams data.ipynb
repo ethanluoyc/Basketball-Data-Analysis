{
 "metadata": {
  "name": "",
  "signature": "sha256:83e772843ed0a0092a0546e58d603a5a085affe9fbd8b49c5ccd9786212b8969"
 },
 "nbformat": 3,
 "nbformat_minor": 0,
 "worksheets": [
  {
   "cells": [
    {
     "cell_type": "code",
     "collapsed": true,
     "input": [
      "from data_operation import *\n",
      "from calc import *\n",
      "from Basketball import BasketballGame,BasketballPart\n",
      "import glob\n",
      "import re,os\n",
      "import numpy as np\n",
      "import pandas as pd\n",
      "# teamname   = 'CLE' \n",
      "FOLDERPATH = '../data/input/test/training set/'\n",
      "OUTPUTPATH = '../data/output/test/'\n",
      "FILENAMES  = [os.path.basename(x) for x in glob.glob(FOLDERPATH+'*.csv')]\n",
      "ALLTEAMS   = ['CLE', 'NJN', 'NYK', 'MIL', 'PHI', 'ATL', 'MIN', 'DEN', 'OKC', \n",
      "              'MIA', 'WAS', 'MEM', 'CHI', 'LAL', 'POR', 'GSW', 'UTA', 'ORL', \n",
      "              'DET', 'IND', 'TOR', 'HOU', 'SAS', 'BOS', 'LAC', 'PHX', 'SAC']\n",
      "\n",
      "COL = ['teamname','SN', 'NO',\n",
      "       'P1','P2','P3','P4','P5']\n",
      "\n",
      "COLS =['interval',\n",
      "       'FGM','FGA','FGP',\n",
      "       'B3M','B3A','B3P',\n",
      "       'FTM','FTA','FTP',\n",
      "       'ORB','ORBP',\n",
      "       'DRB','DRBP',\n",
      "       'TRB','TRBP',\n",
      "       'TOV','TOVP',\n",
      "       'STL','BLK','F',\n",
      "       'PTD','P'\n",
      "      ]\n",
      "\n",
      "PLAYERCOL = ['P1','P2','P3','P4','P5']\n",
      "def generate_row(df,col):\n",
      "    row = []\n",
      "    for attribute in col:\n",
      "        item = getattr(df,attribute)\n",
      "        row.append(item)\n",
      "    return row\n"
     ],
     "language": "python",
     "metadata": {},
     "outputs": [
      {
       "output_type": "stream",
       "stream": "stderr",
       "text": [
        "/Users/luoyicheng/.virtualenvs/venv/lib/python2.7/site-packages/pandas/io/excel.py:626: UserWarning: Installed openpyxl is not supported at this time. Use >=1.6.1 and <2.0.0.\n",
        "  .format(openpyxl_compat.start_ver, openpyxl_compat.stop_ver))\n"
       ]
      }
     ],
     "prompt_number": 3
    },
    {
     "cell_type": "code",
     "collapsed": true,
     "input": [
      "def generate_teams_data():\n",
      "    a=[]\n",
      "    record=[]\n",
      "    for game in FILENAMES:\n",
      "        result = re.search(teamname,game)\n",
      "        if result:\n",
      "            filepath = FOLDERPATH+game\n",
      "            teamno =1 if result.start()==9 else 2\n",
      "            df=pd.read_csv(filepath)\n",
      "            team = BasketballGame(game,df,teamname,teamno)\n",
      "            print 'loading combination data from '+game+' ...'\n",
      "            for nth_combi in range(1,team.totalcombi+1):\n",
      "                combi_data_raw = team.give_nth_combination(nth_combi).copy()\n",
      "                combi_data = BasketballPart(team,nth_combi)\n",
      "                player_list = get_player_list(combi_data_raw,team.teamno)\n",
      "                player_list = player_list[0]\n",
      "                record=[]\n",
      "                record.extend([teamname,team.SN,nth_combi])\n",
      "                record.extend(player_list)\n",
      "                record.extend(generate_row(combi_data,COLS))\n",
      "                oppselector = combi_data_raw[combi_data_raw['team']==team.oppteamname]\n",
      "                record.extend([calculate_ORB(oppselector),calculate_DRB(oppselector)])\n",
      "                a.append(record)\n",
      "                record=[]\n",
      "            print 'complete!'\n",
      "    dfo=pd.DataFrame(a,columns=COL+COLS+['oppORB','oppDRB'])\n",
      "    print \"finished\"\n",
      "    return dfo"
     ],
     "language": "python",
     "metadata": {},
     "outputs": [],
     "prompt_number": 68
    },
    {
     "cell_type": "code",
     "collapsed": true,
     "input": [
      "df = pd.read_csv('../data/20081028.CLEBOS.csv')\n",
      "team = BasketballGame('20081028.CLEBOS.csv',df,'CLE',1)\n",
      "ref = pd.read_csv(\"/Users/luoyicheng/Dropbox/dev/teams_2008-09_data/CLE.csv\")\n",
      "pts_sum =0\n",
      "interval_total = 0\n",
      "for lineup_no in range(1,team.totalcombi+1):\n",
      "    lineup_data = team.give_nth_combination(lineup_no)\n",
      "    player_name = get_player_list(lineup_data,1)[0].tolist()\n",
      "    interval = calculate_interval(team,lineup_no)\n",
      "    key = \" - \".join(sorted([\",\".join(name.split()[::-1]) for name in player_name]))\n",
      "#     print key\n",
      "    mask = ref['GROUP_NAME']==key\n",
      "    print 'YES' if mask.any() else 'NO'\n",
      "    interval_total += interval\n",
      "    if mask.any(): pts_sum +=ref[ref['GROUP_NAME']==key].squeeze().PTS*interval/float(2880)\n",
      "    print \"interval score : %s\"%ref[ref['GROUP_NAME']==key].squeeze().PTS\n",
      "    print \"agg score: %s\"%pts_sum\n",
      "print pts_sum\n",
      "print interval_total\n",
      "print \"the actual pts is %s\"%team.P\n"
     ],
     "language": "python",
     "metadata": {},
     "outputs": [
      {
       "output_type": "stream",
       "stream": "stdout",
       "text": [
        "YES\n",
        "interval score : 103.0\n",
        "agg score: 15.128125\n",
        "YES\n",
        "interval score : 112.3\n",
        "agg score: 18.6375\n",
        "YES\n",
        "interval score : 83.5\n",
        "agg score: 19.159375\n",
        "YES\n",
        "interval score : 107.9\n",
        "agg score: 26.2403125\n",
        "YES\n",
        "interval score : 84.3\n",
        "agg score: 36.4851041667\n",
        "YES\n",
        "interval score : 72.2\n",
        "agg score: 37.5630902778\n",
        "YES\n",
        "interval score : 106.7\n",
        "agg score: 38.8227430556\n",
        "YES\n",
        "interval score : 103.0\n",
        "agg score: 47.6206597222\n",
        "NO\n",
        "interval score : Series([], name: PTS, dtype: float64)\n",
        "agg score: 47.6206597222\n",
        "YES\n",
        "interval score : 103.0\n",
        "agg score: 60.1380208333\n",
        "YES"
       ]
      },
      {
       "output_type": "stream",
       "stream": "stdout",
       "text": [
        "\n",
        "interval score : 112.3\n",
        "agg score: 64.1543055556\n",
        "YES\n",
        "interval score : 120.0\n",
        "agg score: 66.7376388889\n",
        "YES\n",
        "interval score : 107.9\n",
        "agg score: 71.1585416667\n",
        "YES\n",
        "interval score : 84.3\n",
        "agg score: 71.9195833333\n",
        "YES\n",
        "interval score : 56.9\n",
        "agg score: 76.9180902778\n",
        "YES\n",
        "interval score : 103.6\n",
        "agg score: 87.6378125\n",
        "YES\n",
        "interval score : 102.6\n",
        "agg score: 95.2971875\n",
        "YES\n",
        "interval score : 127.9\n",
        "agg score: 95.9633333333\n",
        "95.9633333333\n",
        "2880\n",
        "the actual pts is 85\n"
       ]
      }
     ],
     "prompt_number": 71
    },
    {
     "cell_type": "code",
     "collapsed": true,
     "input": [
      "# teammedian = dfn.median(axis=0)\n",
      "# dfr = dfm[dfm['interval']>600].reset_index()\n",
      "# for att in ['FGM','FGA','FGP','B3M','B3A','FTM','FTA','ORB','DRB','TRB','TOV','STL','BLK','F']:\n",
      "#     dfr[att]=dfr[att]/dfr.interval\n",
      "\n",
      "SUPFOLDERPATH = '../data/input/test/training set/'\n",
      "SUPOUTPUTPATH = '../data/output/test/'\n",
      "SUPFILENAMES = [os.path.basename(x) for x in glob.glob(SUPFOLDERPATH+'*.csv')]\n",
      "\n",
      "\n",
      "PRECOL = ['interval','PTD','P']\n",
      "STATS  = ['FGM','FGA','FGP',\n",
      "          'B3M','B3A','B3P',\n",
      "          'FTM','FTA','FTP',\n",
      "          'ORB','ORBP',\n",
      "          'DRB','DRBP',\n",
      "          'TRB','TRBP',\n",
      "          'TOV','TOVP',\n",
      "          'STL','BLK','F',\n",
      "          'oppORB','oppDRB',\n",
      "         ]\n",
      "NORM   = ['FGM','FGA','B3M','B3A','FTM','FTA','ORB','DRB','TRB','TOV','STL','BLK','F'\n",
      "         ]\n",
      "\n",
      "def normalize(df,attributes=NORM):\n",
      "    '''This function is to normalize the stats based on time interval'''\n",
      "    '''normalized data = pre_normalized_data / interval (in seconds)'''\n",
      "    df1= df.copy()\n",
      "    for att in attributes:\n",
      "        df1.ix[att]=df1[att]/df1.interval\n",
      "    return df1 \n",
      "\n",
      "def denormalize(df,interval,attributes=NORM):\n",
      "    df1= df.copy()\n",
      "    for att in attributes:\n",
      "        df1.ix[att]=df1.ix[att]*interval\n",
      "    return df1 \n",
      "\n",
      "def generate_supplied_data(dfr,team_median):\n",
      "    record=[]\n",
      "    a=[]\n",
      "    output=pd.DataFrame()\n",
      "    for game in SUPFILENAMES:#LOOP OVER ALL GAMES IN THE FOLDER\n",
      "        result = re.search(teamname,game)\n",
      "        if result:\n",
      "            filepath = SUPFOLDERPATH+game\n",
      "            teamno =1 if result.start()==9 else 2\n",
      "            df=pd.read_csv(filepath)\n",
      "            team = BasketballGame(game,df,teamname,teamno)\n",
      "            a=[]\n",
      "            total_time = team.MP*60\n",
      "            for nth_combi in range(1,team.totalcombi+1): #LOOP OVER TEAMS OF A GAME\n",
      "                combi_data_raw = team.give_nth_combination(nth_combi).copy() #This is used to obtain teh members of the team\n",
      "                combi_data = BasketballPart(team,nth_combi)\n",
      "                \n",
      "                player_list = get_player_list(combi_data_raw,team.teamno)\n",
      "                player_list = player_list[0]\n",
      "                # load the outcome of the team\n",
      "                record=[]\n",
      "                record.extend([team.teamname,team.SN,nth_combi])\n",
      "                record.extend(player_list)\n",
      "                record.extend(generate_row(combi_data,PRECOL))\n",
      "                # END loading outcome of the game\n",
      "                #load stats of the team from historical data\n",
      "                temp = (dfr[(dfr[PLAYERCOL]==np.array(player_list)).all(1)]).squeeze() #load performance data of the team\n",
      "                if len(temp.index)==0: #check whether this team is in the reference dataframe, if not, use the team_median instead\n",
      "                    historical_stats = normalize(team_median)\n",
      "                else:\n",
      "                    historical_stats = normalize(temp)\n",
      "                    print 'referred for insterval of',combi_data.interval\n",
      "                historical_stats = denormalize(historical_stats,combi_data.interval)\n",
      "                record.extend(generate_row(historical_stats,STATS))\n",
      "                # END loading historical stats of the team\n",
      "                a.append(record)\n",
      "                record=[]\n",
      "            a=pd.DataFrame(a,columns=COL+PRECOL+STATS)\n",
      "            output = pd.concat([output,a],axis=0)\n",
      "    return output\n",
      "\n",
      "def aggregate_teams_data(dfi):\n",
      "    '''This is to calculate the aggregate score from teamS of a game'''\n",
      "    def percentage(dfm,dfa):\n",
      "        try:\n",
      "            if dfa > 0:\n",
      "                return float(dfm)/dfa\n",
      "            else:\n",
      "                return 0\n",
      "        except: print dfa   \n",
      "    df = dfi.sum()\n",
      "    df['FGP']  = df.apply(lambda row : percentage(row['FGM'],row['FGA']),axis=1)\n",
      "    df['FTP']  = df.apply(lambda row : percentage(row['FTM'],row['FTA']),axis=1)\n",
      "    df['B3P']  = df.apply(lambda row : percentage(row['B3M'],row['B3A']),axis=1)\n",
      "    df['ORBP'] = df.apply(lambda row : percentage(row['ORB'],row['ORB']+row['oppDRB']),axis=1)\n",
      "    df['DRBP'] = df.apply(lambda row : percentage(row['DRB'],row['DRB']+row['oppORB']),axis=1)\n",
      "    df['TRBP'] = df.apply(lambda row : percentage(row['TRB'],row['TRB']+row['oppORB']+row['oppDRB']),axis=1)\n",
      "    df['TOVP'] = df.apply(lambda row : percentage(row['TOV'],row['FGA']+row['FTA']*0.44+row['TOV']),axis=1)\n",
      "    return df\n",
      "print 'finished'"
     ],
     "language": "python",
     "metadata": {},
     "outputs": [
      {
       "output_type": "stream",
       "stream": "stdout",
       "text": [
        "finished\n"
       ]
      }
     ],
     "prompt_number": 3
    },
    {
     "cell_type": "code",
     "collapsed": false,
     "input": [
      "# bigdata = pd.DataFrame() \n",
      "# for team in ALLTEAMS:\n",
      "#     teamname = team\n",
      "#     df = generate_teams_data()\n",
      "#     bigdata = bigdata.append(df,ignore_index=True)\n",
      "# print bigdata"
     ],
     "language": "python",
     "metadata": {},
     "outputs": [
      {
       "output_type": "stream",
       "stream": "stdout",
       "text": [
        "loading combination data from 20081228.MIACLE.csv ...\n",
        "complete!"
       ]
      },
      {
       "output_type": "stream",
       "stream": "stdout",
       "text": [
        "\n",
        "loading combination data from 20081230.CLEMIA.csv ..."
       ]
      },
      {
       "output_type": "stream",
       "stream": "stdout",
       "text": [
        "\n",
        "complete!"
       ]
      },
      {
       "output_type": "stream",
       "stream": "stdout",
       "text": [
        "\n",
        "loading combination data from 20090102.CHICLE.csv ..."
       ]
      },
      {
       "output_type": "stream",
       "stream": "stdout",
       "text": [
        "\n",
        "complete!"
       ]
      },
      {
       "output_type": "stream",
       "stream": "stdout",
       "text": [
        "\n",
        "loading combination data from 20090104.CLEWAS.csv ..."
       ]
      },
      {
       "output_type": "stream",
       "stream": "stdout",
       "text": [
        "\n",
        "complete!"
       ]
      },
      {
       "output_type": "stream",
       "stream": "stdout",
       "text": [
        "\n",
        "loading combination data from 20090107.CHACLE.csv ..."
       ]
      },
      {
       "output_type": "stream",
       "stream": "stdout",
       "text": [
        "\n",
        "complete!"
       ]
      },
      {
       "output_type": "stream",
       "stream": "stdout",
       "text": [
        "\n",
        "loading combination data from 20090109.BOSCLE.csv ..."
       ]
      },
      {
       "output_type": "stream",
       "stream": "stdout",
       "text": [
        "\n",
        "complete!"
       ]
      },
      {
       "output_type": "stream",
       "stream": "stdout",
       "text": [
        "\n",
        "loading combination data from 20090113.CLEMEM.csv ..."
       ]
      },
      {
       "output_type": "stream",
       "stream": "stdout",
       "text": [
        "\n",
        "complete!"
       ]
      },
      {
       "output_type": "stream",
       "stream": "stdout",
       "text": [
        "\n",
        "loading combination data from 20090115.CLECHI.csv ..."
       ]
      },
      {
       "output_type": "stream",
       "stream": "stdout",
       "text": [
        "\n"
       ]
      },
      {
       "ename": "KeyboardInterrupt",
       "evalue": "",
       "output_type": "pyerr",
       "traceback": [
        "\u001b[0;31m---------------------------------------------------------------------------\u001b[0m\n\u001b[0;31mKeyboardInterrupt\u001b[0m                         Traceback (most recent call last)",
        "\u001b[0;32m<ipython-input-4-4d906e977c2c>\u001b[0m in \u001b[0;36m<module>\u001b[0;34m()\u001b[0m\n\u001b[1;32m      2\u001b[0m \u001b[0;32mfor\u001b[0m \u001b[0mteam\u001b[0m \u001b[0;32min\u001b[0m \u001b[0mALLTEAMS\u001b[0m\u001b[0;34m:\u001b[0m\u001b[0;34m\u001b[0m\u001b[0m\n\u001b[1;32m      3\u001b[0m     \u001b[0mteamname\u001b[0m \u001b[0;34m=\u001b[0m \u001b[0mteam\u001b[0m\u001b[0;34m\u001b[0m\u001b[0m\n\u001b[0;32m----> 4\u001b[0;31m     \u001b[0mdf\u001b[0m \u001b[0;34m=\u001b[0m \u001b[0mgenerate_teams_data\u001b[0m\u001b[0;34m(\u001b[0m\u001b[0;34m)\u001b[0m\u001b[0;34m\u001b[0m\u001b[0m\n\u001b[0m\u001b[1;32m      5\u001b[0m     \u001b[0mbigdata\u001b[0m \u001b[0;34m=\u001b[0m \u001b[0mbigdata\u001b[0m\u001b[0;34m.\u001b[0m\u001b[0mappend\u001b[0m\u001b[0;34m(\u001b[0m\u001b[0mdf\u001b[0m\u001b[0;34m,\u001b[0m\u001b[0mignore_index\u001b[0m\u001b[0;34m=\u001b[0m\u001b[0mTrue\u001b[0m\u001b[0;34m)\u001b[0m\u001b[0;34m\u001b[0m\u001b[0m\n\u001b[1;32m      6\u001b[0m \u001b[0;32mprint\u001b[0m \u001b[0mbigdata\u001b[0m\u001b[0;34m\u001b[0m\u001b[0m\n",
        "\u001b[0;32m<ipython-input-2-9a96de23f2a9>\u001b[0m in \u001b[0;36mgenerate_teams_data\u001b[0;34m()\u001b[0m\n\u001b[1;32m     12\u001b[0m             \u001b[0;32mfor\u001b[0m \u001b[0mnth_combi\u001b[0m \u001b[0;32min\u001b[0m \u001b[0mrange\u001b[0m\u001b[0;34m(\u001b[0m\u001b[0;36m1\u001b[0m\u001b[0;34m,\u001b[0m\u001b[0mteam\u001b[0m\u001b[0;34m.\u001b[0m\u001b[0mtotalcombi\u001b[0m\u001b[0;34m+\u001b[0m\u001b[0;36m1\u001b[0m\u001b[0;34m)\u001b[0m\u001b[0;34m:\u001b[0m\u001b[0;34m\u001b[0m\u001b[0m\n\u001b[1;32m     13\u001b[0m                 \u001b[0mcombi_data_raw\u001b[0m \u001b[0;34m=\u001b[0m \u001b[0mteam\u001b[0m\u001b[0;34m.\u001b[0m\u001b[0mgive_nth_combination\u001b[0m\u001b[0;34m(\u001b[0m\u001b[0mnth_combi\u001b[0m\u001b[0;34m)\u001b[0m\u001b[0;34m.\u001b[0m\u001b[0mcopy\u001b[0m\u001b[0;34m(\u001b[0m\u001b[0;34m)\u001b[0m\u001b[0;34m\u001b[0m\u001b[0m\n\u001b[0;32m---> 14\u001b[0;31m                 \u001b[0mcombi_data\u001b[0m \u001b[0;34m=\u001b[0m \u001b[0mBasketballPart\u001b[0m\u001b[0;34m(\u001b[0m\u001b[0mteam\u001b[0m\u001b[0;34m,\u001b[0m\u001b[0mnth_combi\u001b[0m\u001b[0;34m)\u001b[0m\u001b[0;34m\u001b[0m\u001b[0m\n\u001b[0m\u001b[1;32m     15\u001b[0m                 \u001b[0mplayer_list\u001b[0m \u001b[0;34m=\u001b[0m \u001b[0mget_player_list\u001b[0m\u001b[0;34m(\u001b[0m\u001b[0mcombi_data_raw\u001b[0m\u001b[0;34m,\u001b[0m\u001b[0mteam\u001b[0m\u001b[0;34m.\u001b[0m\u001b[0mteamno\u001b[0m\u001b[0;34m)\u001b[0m\u001b[0;34m\u001b[0m\u001b[0m\n\u001b[1;32m     16\u001b[0m                 \u001b[0mplayer_list\u001b[0m \u001b[0;34m=\u001b[0m \u001b[0mplayer_list\u001b[0m\u001b[0;34m[\u001b[0m\u001b[0;36m0\u001b[0m\u001b[0;34m]\u001b[0m\u001b[0;34m\u001b[0m\u001b[0m\n",
        "\u001b[0;32m/Users/luoyicheng/Developer/research/data_analysis/src/Basketball.pyc\u001b[0m in \u001b[0;36m__init__\u001b[0;34m(self, Basketball, nth_combination)\u001b[0m\n\u001b[1;32m    154\u001b[0m                 \u001b[0mself\u001b[0m\u001b[0;34m.\u001b[0m\u001b[0mFTP\u001b[0m \u001b[0;34m=\u001b[0m \u001b[0mfloat\u001b[0m\u001b[0;34m(\u001b[0m\u001b[0mself\u001b[0m\u001b[0;34m.\u001b[0m\u001b[0mFTM\u001b[0m\u001b[0;34m)\u001b[0m \u001b[0;34m/\u001b[0m \u001b[0mself\u001b[0m\u001b[0;34m.\u001b[0m\u001b[0mFTA\u001b[0m \u001b[0;32mif\u001b[0m \u001b[0mself\u001b[0m\u001b[0;34m.\u001b[0m\u001b[0mFTA\u001b[0m\u001b[0;34m!=\u001b[0m\u001b[0;36m0\u001b[0m \u001b[0;32melse\u001b[0m \u001b[0;36m0\u001b[0m\u001b[0;34m\u001b[0m\u001b[0m\n\u001b[1;32m    155\u001b[0m                 \u001b[0mself\u001b[0m\u001b[0;34m.\u001b[0m\u001b[0mP\u001b[0m \u001b[0;34m=\u001b[0m \u001b[0mint\u001b[0m\u001b[0;34m(\u001b[0m\u001b[0mscore_calculate\u001b[0m\u001b[0;34m(\u001b[0m\u001b[0mselector\u001b[0m\u001b[0;34m)\u001b[0m\u001b[0;34m)\u001b[0m\u001b[0;34m\u001b[0m\u001b[0m\n\u001b[0;32m--> 156\u001b[0;31m                 \u001b[0mself\u001b[0m\u001b[0;34m.\u001b[0m\u001b[0mORB\u001b[0m \u001b[0;34m=\u001b[0m \u001b[0mcalculate_ORB\u001b[0m\u001b[0;34m(\u001b[0m\u001b[0mselector\u001b[0m\u001b[0;34m)\u001b[0m\u001b[0;34m\u001b[0m\u001b[0m\n\u001b[0m\u001b[1;32m    157\u001b[0m                 \u001b[0mself\u001b[0m\u001b[0;34m.\u001b[0m\u001b[0mDRB\u001b[0m \u001b[0;34m=\u001b[0m \u001b[0mcalculate_DRB\u001b[0m\u001b[0;34m(\u001b[0m\u001b[0mselector\u001b[0m\u001b[0;34m)\u001b[0m\u001b[0;34m\u001b[0m\u001b[0m\n\u001b[1;32m    158\u001b[0m                 \u001b[0mself\u001b[0m\u001b[0;34m.\u001b[0m\u001b[0mTRB\u001b[0m \u001b[0;34m=\u001b[0m \u001b[0mself\u001b[0m\u001b[0;34m.\u001b[0m\u001b[0mORB\u001b[0m\u001b[0;34m+\u001b[0m\u001b[0mself\u001b[0m\u001b[0;34m.\u001b[0m\u001b[0mDRB\u001b[0m\u001b[0;34m\u001b[0m\u001b[0m\n",
        "\u001b[0;32m/Users/luoyicheng/Developer/research/data_analysis/src/calc.pyc\u001b[0m in \u001b[0;36mcalculate_ORB\u001b[0;34m(df)\u001b[0m\n\u001b[1;32m     38\u001b[0m         \u001b[0;32mreturn\u001b[0m \u001b[0mtime_in\u001b[0m\u001b[0;34m\u001b[0m\u001b[0m\n\u001b[1;32m     39\u001b[0m \u001b[0;32mdef\u001b[0m \u001b[0mcalculate_ORB\u001b[0m\u001b[0;34m(\u001b[0m\u001b[0mdf\u001b[0m\u001b[0;34m)\u001b[0m\u001b[0;34m:\u001b[0m\u001b[0;34m\u001b[0m\u001b[0m\n\u001b[0;32m---> 40\u001b[0;31m         \u001b[0mcond\u001b[0m \u001b[0;34m=\u001b[0m \u001b[0;34m(\u001b[0m\u001b[0mdf\u001b[0m\u001b[0;34m[\u001b[0m\u001b[0;34m'etype'\u001b[0m\u001b[0;34m]\u001b[0m\u001b[0;34m==\u001b[0m\u001b[0;34m'rebound'\u001b[0m\u001b[0;34m)\u001b[0m\u001b[0;34m&\u001b[0m\u001b[0;34m(\u001b[0m\u001b[0mdf\u001b[0m\u001b[0;34m[\u001b[0m\u001b[0;34m'type'\u001b[0m\u001b[0;34m]\u001b[0m\u001b[0;34m==\u001b[0m\u001b[0;34m'off'\u001b[0m\u001b[0;34m)\u001b[0m\u001b[0;34m\u001b[0m\u001b[0m\n\u001b[0m\u001b[1;32m     41\u001b[0m         \u001b[0;32mreturn\u001b[0m \u001b[0mlen\u001b[0m\u001b[0;34m(\u001b[0m\u001b[0mdf\u001b[0m\u001b[0;34m[\u001b[0m\u001b[0mcond\u001b[0m\u001b[0;34m]\u001b[0m\u001b[0;34m.\u001b[0m\u001b[0mindex\u001b[0m\u001b[0;34m)\u001b[0m\u001b[0;34m\u001b[0m\u001b[0m\n\u001b[1;32m     42\u001b[0m \u001b[0;32mdef\u001b[0m \u001b[0mcalculate_DRB\u001b[0m\u001b[0;34m(\u001b[0m\u001b[0mdf\u001b[0m\u001b[0;34m)\u001b[0m\u001b[0;34m:\u001b[0m\u001b[0;34m\u001b[0m\u001b[0m\n",
        "\u001b[0;32m/Users/luoyicheng/.virtualenvs/venv/lib/python2.7/site-packages/pandas/core/ops.pyc\u001b[0m in \u001b[0;36mwrapper\u001b[0;34m(self, other)\u001b[0m\n\u001b[1;32m    571\u001b[0m \u001b[0;34m\u001b[0m\u001b[0m\n\u001b[1;32m    572\u001b[0m             res = pd.Series(res, index=self.index, name=self.name,\n\u001b[0;32m--> 573\u001b[0;31m                             dtype='bool')\n\u001b[0m\u001b[1;32m    574\u001b[0m \u001b[0;34m\u001b[0m\u001b[0m\n\u001b[1;32m    575\u001b[0m             \u001b[0;31m# mask out the invalids\u001b[0m\u001b[0;34m\u001b[0m\u001b[0;34m\u001b[0m\u001b[0m\n",
        "\u001b[0;32m/Users/luoyicheng/.virtualenvs/venv/lib/python2.7/site-packages/pandas/core/series.pyc\u001b[0m in \u001b[0;36m__init__\u001b[0;34m(self, data, index, dtype, name, copy, fastpath)\u001b[0m\n\u001b[1;32m    227\u001b[0m             \u001b[0;32melse\u001b[0m\u001b[0;34m:\u001b[0m\u001b[0;34m\u001b[0m\u001b[0m\n\u001b[1;32m    228\u001b[0m                 data = _sanitize_array(data, index, dtype, copy,\n\u001b[0;32m--> 229\u001b[0;31m                                        raise_cast_failure=True)\n\u001b[0m\u001b[1;32m    230\u001b[0m \u001b[0;34m\u001b[0m\u001b[0m\n\u001b[1;32m    231\u001b[0m                 \u001b[0mdata\u001b[0m \u001b[0;34m=\u001b[0m \u001b[0mSingleBlockManager\u001b[0m\u001b[0;34m(\u001b[0m\u001b[0mdata\u001b[0m\u001b[0;34m,\u001b[0m \u001b[0mindex\u001b[0m\u001b[0;34m,\u001b[0m \u001b[0mfastpath\u001b[0m\u001b[0;34m=\u001b[0m\u001b[0mTrue\u001b[0m\u001b[0;34m)\u001b[0m\u001b[0;34m\u001b[0m\u001b[0m\n",
        "\u001b[0;32m/Users/luoyicheng/.virtualenvs/venv/lib/python2.7/site-packages/pandas/core/series.pyc\u001b[0m in \u001b[0;36m_sanitize_array\u001b[0;34m(data, index, dtype, copy, raise_cast_failure)\u001b[0m\n\u001b[1;32m   2442\u001b[0m                         \u001b[0;32mraise\u001b[0m \u001b[0mTypeError\u001b[0m\u001b[0;34m(\u001b[0m\u001b[0;34m'Cannot cast datetime64 to %s'\u001b[0m \u001b[0;34m%\u001b[0m \u001b[0mdtype\u001b[0m\u001b[0;34m)\u001b[0m\u001b[0;34m\u001b[0m\u001b[0m\n\u001b[1;32m   2443\u001b[0m                 \u001b[0;32melse\u001b[0m\u001b[0;34m:\u001b[0m\u001b[0;34m\u001b[0m\u001b[0m\n\u001b[0;32m-> 2444\u001b[0;31m                     \u001b[0msubarr\u001b[0m \u001b[0;34m=\u001b[0m \u001b[0m_try_cast\u001b[0m\u001b[0;34m(\u001b[0m\u001b[0mdata\u001b[0m\u001b[0;34m,\u001b[0m \u001b[0mTrue\u001b[0m\u001b[0;34m)\u001b[0m\u001b[0;34m\u001b[0m\u001b[0m\n\u001b[0m\u001b[1;32m   2445\u001b[0m         \u001b[0;32melse\u001b[0m\u001b[0;34m:\u001b[0m\u001b[0;34m\u001b[0m\u001b[0m\n\u001b[1;32m   2446\u001b[0m             \u001b[0;31m# don't coerce Index types\u001b[0m\u001b[0;34m\u001b[0m\u001b[0;34m\u001b[0m\u001b[0m\n",
        "\u001b[0;32m/Users/luoyicheng/.virtualenvs/venv/lib/python2.7/site-packages/pandas/core/series.pyc\u001b[0m in \u001b[0;36m_try_cast\u001b[0;34m(arr, take_fast_path)\u001b[0m\n\u001b[1;32m   2409\u001b[0m         \u001b[0;31m# perf shortcut as this is the most common case\u001b[0m\u001b[0;34m\u001b[0m\u001b[0;34m\u001b[0m\u001b[0m\n\u001b[1;32m   2410\u001b[0m         \u001b[0;32mif\u001b[0m \u001b[0mtake_fast_path\u001b[0m\u001b[0;34m:\u001b[0m\u001b[0;34m\u001b[0m\u001b[0m\n\u001b[0;32m-> 2411\u001b[0;31m             \u001b[0;32mif\u001b[0m \u001b[0m_possibly_castable\u001b[0m\u001b[0;34m(\u001b[0m\u001b[0marr\u001b[0m\u001b[0;34m)\u001b[0m \u001b[0;32mand\u001b[0m \u001b[0;32mnot\u001b[0m \u001b[0mcopy\u001b[0m \u001b[0;32mand\u001b[0m \u001b[0mdtype\u001b[0m \u001b[0;32mis\u001b[0m \u001b[0mNone\u001b[0m\u001b[0;34m:\u001b[0m\u001b[0;34m\u001b[0m\u001b[0m\n\u001b[0m\u001b[1;32m   2412\u001b[0m                 \u001b[0;32mreturn\u001b[0m \u001b[0marr\u001b[0m\u001b[0;34m\u001b[0m\u001b[0m\n\u001b[1;32m   2413\u001b[0m \u001b[0;34m\u001b[0m\u001b[0m\n",
        "\u001b[0;32m/Users/luoyicheng/.virtualenvs/venv/lib/python2.7/site-packages/pandas/core/common.pyc\u001b[0m in \u001b[0;36m_possibly_castable\u001b[0;34m(arr)\u001b[0m\n\u001b[1;32m   1690\u001b[0m         \u001b[0;32mreturn\u001b[0m \u001b[0marr\u001b[0m\u001b[0;34m.\u001b[0m\u001b[0mdtype\u001b[0m \u001b[0;32min\u001b[0m \u001b[0m_DATELIKE_DTYPES\u001b[0m\u001b[0;34m\u001b[0m\u001b[0m\n\u001b[1;32m   1691\u001b[0m \u001b[0;34m\u001b[0m\u001b[0m\n\u001b[0;32m-> 1692\u001b[0;31m     \u001b[0;32mreturn\u001b[0m \u001b[0marr\u001b[0m\u001b[0;34m.\u001b[0m\u001b[0mdtype\u001b[0m\u001b[0;34m.\u001b[0m\u001b[0mname\u001b[0m \u001b[0;32mnot\u001b[0m \u001b[0;32min\u001b[0m \u001b[0m_POSSIBLY_CAST_DTYPES\u001b[0m\u001b[0;34m\u001b[0m\u001b[0m\n\u001b[0m\u001b[1;32m   1693\u001b[0m \u001b[0;34m\u001b[0m\u001b[0m\n\u001b[1;32m   1694\u001b[0m \u001b[0;34m\u001b[0m\u001b[0m\n",
        "\u001b[0;31mKeyboardInterrupt\u001b[0m: "
       ]
      }
     ],
     "prompt_number": 4
    },
    {
     "cell_type": "code",
     "collapsed": false,
     "input": [
      "bigdata.to_csv('bigdata.csv',index=False)"
     ],
     "language": "python",
     "metadata": {},
     "outputs": []
    },
    {
     "cell_type": "code",
     "collapsed": true,
     "input": [
      "bigdata = pd.read_csv('bigdata.csv')\n",
      "df = bigdata.copy()\n",
      "df = df[df['interval']>=600]\n",
      "grouped = df.groupby(['P1','P2','P3','P4','P5'],sort=True,as_index=False)\n",
      "reference = aggregate_teams_data(grouped)\n",
      "grouped_by_team = df.groupby(['teamname'],sort=True,as_index=False)\n",
      "teams_median = grouped_by_team.median()\n",
      "print 'finished'"
     ],
     "language": "python",
     "metadata": {},
     "outputs": [
      {
       "output_type": "stream",
       "stream": "stdout",
       "text": [
        "finished\n"
       ]
      }
     ],
     "prompt_number": 5
    },
    {
     "cell_type": "code",
     "collapsed": false,
     "input": [
      "# reference[(reference[PLAYERCOL]==np.array(['Ben Wallace','Daniel Gibson','J.J. Hickson','LeBron James','Mo Williams'])).all(1)]\n",
      "reference[reference['P1']=='Ben Wallace']\n"
     ],
     "language": "python",
     "metadata": {},
     "outputs": [
      {
       "html": [
        "<div style=\"max-height:1000px;max-width:1500px;overflow:auto;\">\n",
        "<table border=\"1\" class=\"dataframe\">\n",
        "  <thead>\n",
        "    <tr style=\"text-align: right;\">\n",
        "      <th></th>\n",
        "      <th>P1</th>\n",
        "      <th>P2</th>\n",
        "      <th>P3</th>\n",
        "      <th>P4</th>\n",
        "      <th>P5</th>\n",
        "      <th>NO</th>\n",
        "      <th>interval</th>\n",
        "      <th>FGM</th>\n",
        "      <th>FGA</th>\n",
        "      <th>FGP</th>\n",
        "      <th>...</th>\n",
        "      <th>TRBP</th>\n",
        "      <th>TOV</th>\n",
        "      <th>TOVP</th>\n",
        "      <th>STL</th>\n",
        "      <th>BLK</th>\n",
        "      <th>F</th>\n",
        "      <th>PTD</th>\n",
        "      <th>P</th>\n",
        "      <th>oppORB</th>\n",
        "      <th>oppDRB</th>\n",
        "    </tr>\n",
        "  </thead>\n",
        "  <tbody>\n",
        "  </tbody>\n",
        "</table>\n",
        "<p>0 rows \u00d7 31 columns</p>\n",
        "</div>"
       ],
       "metadata": {},
       "output_type": "pyout",
       "prompt_number": 6,
       "text": [
        "Empty DataFrame\n",
        "Columns: [P1, P2, P3, P4, P5, NO, interval, FGM, FGA, FGP, B3M, B3A, B3P, FTM, FTA, FTP, ORB, ORBP, DRB, DRBP, TRB, TRBP, TOV, TOVP, STL, BLK, F, PTD, P, oppORB, oppDRB]\n",
        "Index: []\n",
        "\n",
        "[0 rows x 31 columns]"
       ]
      }
     ],
     "prompt_number": 6
    },
    {
     "cell_type": "code",
     "collapsed": true,
     "input": [
      "output = pd.DataFrame()\n",
      "for team in ALLTEAMS:\n",
      "    teamname = team\n",
      "    print team\n",
      "    team_median = teams_median[teams_median.teamname==teamname].squeeze()\n",
      "    data = generate_supplied_data(reference,team_median)\n",
      "    agg_data = aggregate_teams_data(data.groupby('SN',as_index=False))\n",
      "    print agg_data\n",
      "    output = output.append(agg_data,ignore_index=True)\n",
      "print output\n"
     ],
     "language": "python",
     "metadata": {},
     "outputs": [
      {
       "output_type": "stream",
       "stream": "stdout",
       "text": [
        "CLE\n",
        "referred for insterval of"
       ]
      },
      {
       "output_type": "stream",
       "stream": "stdout",
       "text": [
        " 118\n",
        "referred for insterval of"
       ]
      },
      {
       "output_type": "stream",
       "stream": "stdout",
       "text": [
        " 517\n",
        "referred for insterval of"
       ]
      },
      {
       "output_type": "stream",
       "stream": "stdout",
       "text": [
        " 86\n",
        "referred for insterval of"
       ]
      },
      {
       "output_type": "stream",
       "stream": "stdout",
       "text": [
        " 308\n",
        "referred for insterval of"
       ]
      },
      {
       "output_type": "stream",
       "stream": "stdout",
       "text": [
        " 467\n",
        "referred for insterval of"
       ]
      },
      {
       "output_type": "stream",
       "stream": "stdout",
       "text": [
        " 7\n",
        "referred for insterval of"
       ]
      },
      {
       "output_type": "stream",
       "stream": "stdout",
       "text": [
        " 464\n",
        "referred for insterval of"
       ]
      },
      {
       "output_type": "stream",
       "stream": "stdout",
       "text": [
        " 452\n",
        "referred for insterval of"
       ]
      },
      {
       "output_type": "stream",
       "stream": "stdout",
       "text": [
        " 396\n",
        "referred for insterval of"
       ]
      },
      {
       "output_type": "stream",
       "stream": "stdout",
       "text": [
        " 164\n",
        "referred for insterval of"
       ]
      },
      {
       "output_type": "stream",
       "stream": "stdout",
       "text": [
        " 523\n",
        "referred for insterval of"
       ]
      },
      {
       "output_type": "stream",
       "stream": "stdout",
       "text": [
        " 359\n",
        "referred for insterval of"
       ]
      },
      {
       "output_type": "stream",
       "stream": "stdout",
       "text": [
        " 424\n",
        "referred for insterval of"
       ]
      },
      {
       "output_type": "stream",
       "stream": "stdout",
       "text": [
        " 481\n",
        "referred for insterval of"
       ]
      },
      {
       "output_type": "stream",
       "stream": "stdout",
       "text": [
        " 433\n",
        "referred for insterval of"
       ]
      },
      {
       "output_type": "stream",
       "stream": "stdout",
       "text": [
        " 158\n",
        "referred for insterval of"
       ]
      },
      {
       "output_type": "stream",
       "stream": "stdout",
       "text": [
        " 411\n",
        "referred for insterval of"
       ]
      },
      {
       "output_type": "stream",
       "stream": "stdout",
       "text": [
        " 224\n",
        "referred for insterval of"
       ]
      },
      {
       "output_type": "stream",
       "stream": "stdout",
       "text": [
        " 458\n",
        "referred for insterval of"
       ]
      },
      {
       "output_type": "stream",
       "stream": "stdout",
       "text": [
        " 542\n",
        "referred for insterval of"
       ]
      },
      {
       "output_type": "stream",
       "stream": "stdout",
       "text": [
        " 279\n",
        "referred for insterval of"
       ]
      },
      {
       "output_type": "stream",
       "stream": "stdout",
       "text": [
        " 435\n",
        "referred for insterval of"
       ]
      },
      {
       "output_type": "stream",
       "stream": "stdout",
       "text": [
        " 99\n",
        "referred for insterval of"
       ]
      },
      {
       "output_type": "stream",
       "stream": "stdout",
       "text": [
        " 528\n",
        "referred for insterval of"
       ]
      },
      {
       "output_type": "stream",
       "stream": "stdout",
       "text": [
        " 494\n",
        "referred for insterval of"
       ]
      },
      {
       "output_type": "stream",
       "stream": "stdout",
       "text": [
        " 410\n",
        "referred for insterval of"
       ]
      },
      {
       "output_type": "stream",
       "stream": "stdout",
       "text": [
        " 519\n",
        "referred for insterval of"
       ]
      },
      {
       "output_type": "stream",
       "stream": "stdout",
       "text": [
        " 508\n",
        "referred for insterval of"
       ]
      },
      {
       "output_type": "stream",
       "stream": "stdout",
       "text": [
        " 530\n",
        "referred for insterval of"
       ]
      },
      {
       "output_type": "stream",
       "stream": "stdout",
       "text": [
        " 486\n",
        "referred for insterval of"
       ]
      },
      {
       "output_type": "stream",
       "stream": "stdout",
       "text": [
        " 89\n",
        "referred for insterval of"
       ]
      },
      {
       "output_type": "stream",
       "stream": "stdout",
       "text": [
        " 470\n",
        "referred for insterval of"
       ]
      },
      {
       "output_type": "stream",
       "stream": "stdout",
       "text": [
        " 208\n",
        "referred for insterval of"
       ]
      },
      {
       "output_type": "stream",
       "stream": "stdout",
       "text": [
        " 467\n",
        "referred for insterval of"
       ]
      },
      {
       "output_type": "stream",
       "stream": "stdout",
       "text": [
        " 429\n",
        "referred for insterval of"
       ]
      },
      {
       "output_type": "stream",
       "stream": "stdout",
       "text": [
        " 108\n",
        "referred for insterval of"
       ]
      },
      {
       "output_type": "stream",
       "stream": "stdout",
       "text": [
        " 423\n",
        "referred for insterval of"
       ]
      },
      {
       "output_type": "stream",
       "stream": "stdout",
       "text": [
        " 189\n",
        "referred for insterval of"
       ]
      },
      {
       "output_type": "stream",
       "stream": "stdout",
       "text": [
        " 573\n",
        "referred for insterval of"
       ]
      },
      {
       "output_type": "stream",
       "stream": "stdout",
       "text": [
        " 536\n",
        "referred for insterval of"
       ]
      },
      {
       "output_type": "stream",
       "stream": "stdout",
       "text": [
        " 230\n",
        "referred for insterval of"
       ]
      },
      {
       "output_type": "stream",
       "stream": "stdout",
       "text": [
        " 428\n",
        "referred for insterval of"
       ]
      },
      {
       "output_type": "stream",
       "stream": "stdout",
       "text": [
        " 606\n",
        "referred for insterval of"
       ]
      },
      {
       "output_type": "stream",
       "stream": "stdout",
       "text": [
        " 401\n",
        "referred for insterval of"
       ]
      },
      {
       "output_type": "stream",
       "stream": "stdout",
       "text": [
        " 115\n",
        "referred for insterval of"
       ]
      },
      {
       "output_type": "stream",
       "stream": "stdout",
       "text": [
        " 426\n",
        "referred for insterval of"
       ]
      },
      {
       "output_type": "stream",
       "stream": "stdout",
       "text": [
        " 440\n",
        "referred for insterval of"
       ]
      },
      {
       "output_type": "stream",
       "stream": "stdout",
       "text": [
        " 193\n",
        "referred for insterval of"
       ]
      },
      {
       "output_type": "stream",
       "stream": "stdout",
       "text": [
        " 410\n",
        "referred for insterval of"
       ]
      },
      {
       "output_type": "stream",
       "stream": "stdout",
       "text": [
        " 479\n",
        "referred for insterval of"
       ]
      },
      {
       "output_type": "stream",
       "stream": "stdout",
       "text": [
        " 146\n",
        "referred for insterval of"
       ]
      },
      {
       "output_type": "stream",
       "stream": "stdout",
       "text": [
        " 344\n",
        "referred for insterval of"
       ]
      },
      {
       "output_type": "stream",
       "stream": "stdout",
       "text": [
        " 311\n",
        "referred for insterval of"
       ]
      },
      {
       "output_type": "stream",
       "stream": "stdout",
       "text": [
        " 574\n",
        "referred for insterval of"
       ]
      },
      {
       "output_type": "stream",
       "stream": "stdout",
       "text": [
        " 801\n",
        "referred for insterval of"
       ]
      },
      {
       "output_type": "stream",
       "stream": "stdout",
       "text": [
        " 534\n",
        "referred for insterval of"
       ]
      },
      {
       "output_type": "stream",
       "stream": "stdout",
       "text": [
        " 414\n",
        "referred for insterval of"
       ]
      },
      {
       "output_type": "stream",
       "stream": "stdout",
       "text": [
        " 477\n",
        "referred for insterval of"
       ]
      },
      {
       "output_type": "stream",
       "stream": "stdout",
       "text": [
        " 60\n",
        "referred for insterval of"
       ]
      },
      {
       "output_type": "stream",
       "stream": "stdout",
       "text": [
        " 462\n",
        "referred for insterval of"
       ]
      },
      {
       "output_type": "stream",
       "stream": "stdout",
       "text": [
        " 120\n",
        "referred for insterval of"
       ]
      },
      {
       "output_type": "stream",
       "stream": "stdout",
       "text": [
        " 487\n",
        "referred for insterval of"
       ]
      },
      {
       "output_type": "stream",
       "stream": "stdout",
       "text": [
        " 109\n",
        "referred for insterval of"
       ]
      },
      {
       "output_type": "stream",
       "stream": "stdout",
       "text": [
        " 537\n",
        "referred for insterval of"
       ]
      },
      {
       "output_type": "stream",
       "stream": "stdout",
       "text": [
        " 484\n",
        "referred for insterval of"
       ]
      },
      {
       "output_type": "stream",
       "stream": "stdout",
       "text": [
        " 204\n",
        "referred for insterval of"
       ]
      },
      {
       "output_type": "stream",
       "stream": "stdout",
       "text": [
        " 467\n",
        "referred for insterval of"
       ]
      },
      {
       "output_type": "stream",
       "stream": "stdout",
       "text": [
        " 271\n",
        "                 SN   NO  interval  PTD    P        FGM        FGA      FGP  \\\n",
        "0   20081228.MIACLE   91      2880    7   93  34.797441  65.501066  0.53125   \n",
        "1   20081230.CLEMIA  253      2880   -9   95  34.797441  65.501066  0.53125   \n",
        "2   20090102.CHICLE  253      2880   25  117  34.797441  65.501066  0.53125   \n",
        "3   20090104.CLEWAS  171      2880   -3   77  34.797441  65.501066  0.53125   \n",
        "4   20090107.CHACLE  171      2880   30  111  34.797441  65.501066  0.53125   \n",
        "5   20090109.BOSCLE  153      2880   15   98  34.797441  65.501066  0.53125   \n",
        "6   20090113.CLEMEM  210      2880   15  102  34.797441  65.501066  0.53125   \n",
        "7   20090115.CLECHI  171      3180   -9   93  38.422175  72.324094  0.53125   \n",
        "8   20090116.NOHCLE  210      2880   14   92  34.797441  65.501066  0.53125   \n",
        "9   20090119.CLELAL  153      2880  -17   88  34.797441  65.501066  0.53125   \n",
        "10  20090121.CLEPOR  325      2880    6  104  34.797441  65.501066  0.53125   \n",
        "11  20090123.CLEGSW  210      2880    1  106  34.797441  65.501066  0.53125   \n",
        "12  20090124.CLEUTA  171      2880    5  102  34.797441  65.501066  0.53125   \n",
        "13  20090127.SACCLE  136      2880    7  117  34.797441  65.501066  0.53125   \n",
        "14  20090129.CLEORL  231      2880  -11   88  34.797441  65.501066  0.53125   \n",
        "15  20090130.LACCLE  210      2880   17  112  34.797441  65.501066  0.53125   \n",
        "16  20090201.CLEDET  153      2880   10   90  34.797441  65.501066  0.53125   \n",
        "17  20090203.TORCLE  190      2880   18  101  34.797441  65.501066  0.53125   \n",
        "18  20090204.CLENYK  300      2880    5  107  34.797441  65.501066  0.53125   \n",
        "19  20090208.LALCLE  105      2880  -10   91  34.797441  65.501066  0.53125   \n",
        "20  20090210.CLEIND  253      2880   -1   95  34.797441  65.501066  0.53125   \n",
        "21  20090211.PHXCLE  171      2880   17  109  34.797441  65.501066  0.53125   \n",
        "22  20090218.CLETOR  171      2880   17   93  34.797441  65.501066  0.53125   \n",
        "23  20090220.CLEMIL  300      2880    8  111  34.797441  65.501066  0.53125   \n",
        "24  20090222.DETCLE   91      2880   21   99  34.797441  65.501066  0.53125   \n",
        "25  20090224.MEMCLE  136      2880   15   94  34.797441  65.501066  0.53125   \n",
        "26  20090226.CLEHOU  120      2880  -19   74  34.797441  65.501066  0.53125   \n",
        "27  20090227.CLESAS  231      2880   11   97  34.797441  65.501066  0.53125   \n",
        "28  20090301.CLEATL  171      2880    1   88  34.797441  65.501066  0.53125   \n",
        "29  20090302.CLEMIA  210      2880    7  107  34.797441  65.501066  0.53125   \n",
        "30  20090304.MILCLE  136      2880   18   91  34.797441  65.501066  0.53125   \n",
        "31  20090306.CLEBOS  231      2880  -11   94  34.797441  65.501066  0.53125   \n",
        "32  20090307.MIACLE  136      2880   10   99  34.797441  65.501066  0.53125   \n",
        "33  20090310.CLELAC  231      2880    4   87  34.797441  65.501066  0.53125   \n",
        "34  20090312.CLEPHX  171      2880    8  119  34.797441  65.501066  0.53125   \n",
        "35  20090313.CLESAC  136      3180    3  126  38.422175  72.324094  0.53125   \n",
        "36  20090315.NYKCLE  120      2880    5   98  34.797441  65.501066  0.53125   \n",
        "37  20090317.ORLCLE  190      2880    4   97  34.797441  65.501066  0.53125   \n",
        "38  20090321.ATLCLE  171      2880    6  102  34.797441  65.501066  0.53125   \n",
        "39  20090322.CLENJN  231      2880    8   96  34.797441  65.501066  0.53125   \n",
        "40  20090325.NJNCLE  136      2880   11   98  34.797441  65.501066  0.53125   \n",
        "41  20090327.MINCLE  136      2880   22  107  34.797441  65.501066  0.53125   \n",
        "42  20090329.DALCLE  171      2880   28  102  34.797441  65.501066  0.53125   \n",
        "43  20090331.DETCLE  171      2880    6   79  34.797441  65.501066  0.53125   \n",
        "44  20090402.CLEWAS  153      2880   -8  101  34.797441  65.501066  0.53125   \n",
        "45  20090403.CLEORL   45      2880  -29   87  34.797441  65.501066  0.53125   \n",
        "46  20090405.SASCLE  210      2880   20  101  34.797441  65.501066  0.53125   \n",
        "47  20090408.WASCLE   91      2880   12   98  34.797441  65.501066  0.53125   \n",
        "48  20090410.CLEPHI  171      2880   10  102  34.797441  65.501066  0.53125   \n",
        "49  20090412.BOSCLE  153      2880   31  107  34.797441  65.501066  0.53125   \n",
        "50  20090413.CLEIND  190      2880    8  117  34.797441  65.501066  0.53125   \n",
        "51  20090415.PHICLE  528      3180   -1  110  38.422175  72.324094  0.53125   \n",
        "\n",
        "          B3M        B3A    ...          DRBP        TRB      TRBP        TOV  \\\n",
        "0   12.281450  24.562900    ...      0.485789  40.938166  0.259204  20.469083   \n",
        "1   12.281450  24.562900    ...      0.358254  40.938166  0.171334  20.469083   \n",
        "2   12.281450  24.562900    ...      0.358254  40.938166  0.171334  20.469083   \n",
        "3   12.281450  24.562900    ...      0.405577  40.938166  0.201727  20.469083   \n",
        "4   12.281450  24.562900    ...      0.405577  40.938166  0.201727  20.469083   \n",
        "5   12.281450  24.562900    ...      0.419428  40.938166  0.211089  20.469083   \n",
        "6   12.281450  24.562900    ...      0.380449  40.938166  0.185292  20.469083   \n",
        "7   13.560768  27.121535    ...      0.429672  45.202559  0.218156  22.601279   \n",
        "8   12.281450  24.562900    ...      0.380449  40.938166  0.185292  20.469083   \n",
        "9   12.281450  24.562900    ...      0.419428  40.938166  0.211089  20.469083   \n",
        "10  12.281450  24.562900    ...      0.329425  40.938166  0.153939  20.469083   \n",
        "11  12.281450  24.562900    ...      0.380449  40.938166  0.185292  20.469083   \n",
        "12  12.281450  24.562900    ...      0.405577  40.938166  0.201727  20.469083   \n",
        "13  12.281450  24.562900    ...      0.434258  40.938166  0.221361  20.469083   \n",
        "14  12.281450  24.562900    ...      0.369018  40.938166  0.178040  20.469083   \n",
        "15  12.281450  24.562900    ...      0.380449  40.938166  0.185292  20.469083   \n",
        "16  12.281450  24.562900    ...      0.419428  40.938166  0.211089  20.469083   \n",
        "17  12.281450  24.562900    ...      0.392611  40.938166  0.193161  20.469083   \n",
        "18  12.281450  24.562900    ...      0.338505  40.938166  0.159331  20.469083   \n",
        "19  12.281450  24.562900    ...      0.467305  40.938166  0.245230  20.469083   \n",
        "20  12.281450  24.562900    ...      0.358254  40.938166  0.171334  20.469083   \n",
        "21  12.281450  24.562900    ...      0.405577  40.938166  0.201727  20.469083   \n",
        "22  12.281450  24.562900    ...      0.405577  40.938166  0.201727  20.469083   \n",
        "23  12.281450  24.562900    ...      0.338505  40.938166  0.159331  20.469083   \n",
        "24  12.281450  24.562900    ...      0.485789  40.938166  0.259204  20.469083   \n",
        "25  12.281450  24.562900    ...      0.434258  40.938166  0.221361  20.469083   \n",
        "26  12.281450  24.562900    ...      0.434258  40.938166  0.221361  20.469083   \n",
        "27  12.281450  24.562900    ...      0.338505  40.938166  0.159331  20.469083   \n",
        "28  12.281450  24.562900    ...      0.358254  40.938166  0.171334  20.469083   \n",
        "29  12.281450  24.562900    ...      0.338505  40.938166  0.159331  20.469083   \n",
        "30  12.281450  24.562900    ...      0.405577  40.938166  0.201727  20.469083   \n",
        "31  12.281450  24.562900    ...      0.329425  40.938166  0.153939  20.469083   \n",
        "32  12.281450  24.562900    ...      0.392611  40.938166  0.193161  20.469083   \n",
        "33  12.281450  24.562900    ...      0.338505  40.938166  0.159331  20.469083   \n",
        "34  12.281450  24.562900    ...      0.380449  40.938166  0.185292  20.469083   \n",
        "35  13.560768  27.121535    ...      0.458742  45.202559  0.238911  22.601279   \n",
        "36  12.281450  24.562900    ...      0.419428  40.938166  0.211089  20.469083   \n",
        "37  12.281450  24.562900    ...      0.358254  40.938166  0.171334  20.469083   \n",
        "38  12.281450  24.562900    ...      0.369018  40.938166  0.178040  20.469083   \n",
        "39  12.281450  24.562900    ...      0.329425  40.938166  0.153939  20.469083   \n",
        "40  12.281450  24.562900    ...      0.392611  40.938166  0.193161  20.469083   \n",
        "41  12.281450  24.562900    ...      0.405577  40.938166  0.201727  20.469083   \n",
        "42  12.281450  24.562900    ...      0.369018  40.938166  0.178040  20.469083   \n",
        "43  12.281450  24.562900    ...      0.369018  40.938166  0.178040  20.469083   \n",
        "44  12.281450  24.562900    ...      0.369018  40.938166  0.178040  20.469083   \n",
        "45  12.281450  24.562900    ...      0.527521  40.938166  0.292545  20.469083   \n",
        "46  12.281450  24.562900    ...      0.380449  40.938166  0.185292  20.469083   \n",
        "47  12.281450  24.562900    ...      0.450176  40.938166  0.232685  20.469083   \n",
        "48  12.281450  24.562900    ...      0.358254  40.938166  0.171334  20.469083   \n",
        "49  12.281450  24.562900    ...      0.380449  40.938166  0.185292  20.469083   \n",
        "50  12.281450  24.562900    ...      0.348099  40.938166  0.165114  20.469083   \n",
        "51  13.560768  27.121535    ...      0.297641  45.202559  0.135661  22.601279   \n",
        "\n",
        "        TOVP       STL       BLK          F  oppORB  oppDRB  \n",
        "0   0.215517  6.140725  6.140725  34.797441      39      78  \n",
        "1   0.215517  6.140725  6.140725  34.797441      66     132  \n",
        "2   0.215517  6.140725  6.140725  34.797441      66     132  \n",
        "3   0.215517  6.140725  6.140725  34.797441      54     108  \n",
        "4   0.215517  6.140725  6.140725  34.797441      54     108  \n",
        "5   0.215517  6.140725  6.140725  34.797441      51     102  \n",
        "6   0.215517  6.140725  6.140725  34.797441      60     120  \n",
        "7   0.215517  6.780384  6.780384  38.422175      54     108  \n",
        "8   0.215517  6.140725  6.140725  34.797441      60     120  \n",
        "9   0.215517  6.140725  6.140725  34.797441      51     102  \n",
        "10  0.215517  6.140725  6.140725  34.797441      75     150  \n",
        "11  0.215517  6.140725  6.140725  34.797441      60     120  \n",
        "12  0.215517  6.140725  6.140725  34.797441      54     108  \n",
        "13  0.215517  6.140725  6.140725  34.797441      48      96  \n",
        "14  0.215517  6.140725  6.140725  34.797441      63     126  \n",
        "15  0.215517  6.140725  6.140725  34.797441      60     120  \n",
        "16  0.215517  6.140725  6.140725  34.797441      51     102  \n",
        "17  0.215517  6.140725  6.140725  34.797441      57     114  \n",
        "18  0.215517  6.140725  6.140725  34.797441      72     144  \n",
        "19  0.215517  6.140725  6.140725  34.797441      42      84  \n",
        "20  0.215517  6.140725  6.140725  34.797441      66     132  \n",
        "21  0.215517  6.140725  6.140725  34.797441      54     108  \n",
        "22  0.215517  6.140725  6.140725  34.797441      54     108  \n",
        "23  0.215517  6.140725  6.140725  34.797441      72     144  \n",
        "24  0.215517  6.140725  6.140725  34.797441      39      78  \n",
        "25  0.215517  6.140725  6.140725  34.797441      48      96  \n",
        "26  0.215517  6.140725  6.140725  34.797441      48      96  \n",
        "27  0.215517  6.140725  6.140725  34.797441      72     144  \n",
        "28  0.215517  6.140725  6.140725  34.797441      66     132  \n",
        "29  0.215517  6.140725  6.140725  34.797441      72     144  \n",
        "30  0.215517  6.140725  6.140725  34.797441      54     108  \n",
        "31  0.215517  6.140725  6.140725  34.797441      75     150  \n",
        "32  0.215517  6.140725  6.140725  34.797441      57     114  \n",
        "33  0.215517  6.140725  6.140725  34.797441      72     144  \n",
        "34  0.215517  6.140725  6.140725  34.797441      60     120  \n",
        "35  0.215517  6.780384  6.780384  38.422175      48      96  \n",
        "36  0.215517  6.140725  6.140725  34.797441      51     102  \n",
        "37  0.215517  6.140725  6.140725  34.797441      66     132  \n",
        "38  0.215517  6.140725  6.140725  34.797441      63     126  \n",
        "39  0.215517  6.140725  6.140725  34.797441      75     150  \n",
        "40  0.215517  6.140725  6.140725  34.797441      57     114  \n",
        "41  0.215517  6.140725  6.140725  34.797441      54     108  \n",
        "42  0.215517  6.140725  6.140725  34.797441      63     126  \n",
        "43  0.215517  6.140725  6.140725  34.797441      63     126  \n",
        "44  0.215517  6.140725  6.140725  34.797441      63     126  \n",
        "45  0.215517  6.140725  6.140725  34.797441      33      66  \n",
        "46  0.215517  6.140725  6.140725  34.797441      60     120  \n",
        "47  0.215517  6.140725  6.140725  34.797441      45      90  \n",
        "48  0.215517  6.140725  6.140725  34.797441      66     132  \n",
        "49  0.215517  6.140725  6.140725  34.797441      60     120  \n",
        "50  0.215517  6.140725  6.140725  34.797441      69     138  \n",
        "51  0.215517  6.780384  6.780384  38.422175      96     192  \n",
        "\n",
        "[52 rows x 27 columns]"
       ]
      },
      {
       "output_type": "stream",
       "stream": "stdout",
       "text": [
        "\n",
        "NJN\n",
        "referred for insterval of"
       ]
      },
      {
       "output_type": "stream",
       "stream": "stdout",
       "text": [
        " 13\n",
        "referred for insterval of"
       ]
      },
      {
       "output_type": "stream",
       "stream": "stdout",
       "text": [
        " 278.0\n",
        "referred for insterval of"
       ]
      },
      {
       "output_type": "stream",
       "stream": "stdout",
       "text": [
        " 126.0\n",
        "referred for insterval of"
       ]
      },
      {
       "output_type": "stream",
       "stream": "stdout",
       "text": [
        " 119\n",
        "referred for insterval of"
       ]
      },
      {
       "output_type": "stream",
       "stream": "stdout",
       "text": [
        " 258\n",
        "referred for insterval of"
       ]
      },
      {
       "output_type": "stream",
       "stream": "stdout",
       "text": [
        " 603\n",
        "referred for insterval of"
       ]
      },
      {
       "output_type": "stream",
       "stream": "stdout",
       "text": [
        " 71\n",
        "referred for insterval of"
       ]
      },
      {
       "output_type": "stream",
       "stream": "stdout",
       "text": [
        " 109\n",
        "referred for insterval of"
       ]
      },
      {
       "output_type": "stream",
       "stream": "stdout",
       "text": [
        " 112\n",
        "referred for insterval of"
       ]
      },
      {
       "output_type": "stream",
       "stream": "stdout",
       "text": [
        " 86\n",
        "referred for insterval of"
       ]
      },
      {
       "output_type": "stream",
       "stream": "stdout",
       "text": [
        " 158\n",
        "referred for insterval of"
       ]
      },
      {
       "output_type": "stream",
       "stream": "stdout",
       "text": [
        " 61\n",
        "referred for insterval of"
       ]
      },
      {
       "output_type": "stream",
       "stream": "stdout",
       "text": [
        " 296\n",
        "referred for insterval of"
       ]
      },
      {
       "output_type": "stream",
       "stream": "stdout",
       "text": [
        " 146\n",
        "referred for insterval of"
       ]
      },
      {
       "output_type": "stream",
       "stream": "stdout",
       "text": [
        " 97\n",
        "referred for insterval of"
       ]
      },
      {
       "output_type": "stream",
       "stream": "stdout",
       "text": [
        " 497\n",
        "referred for insterval of"
       ]
      },
      {
       "output_type": "stream",
       "stream": "stdout",
       "text": [
        " 211\n",
        "referred for insterval of"
       ]
      },
      {
       "output_type": "stream",
       "stream": "stdout",
       "text": [
        " 382\n",
        "referred for insterval of"
       ]
      },
      {
       "output_type": "stream",
       "stream": "stdout",
       "text": [
        " 521\n",
        "referred for insterval of"
       ]
      },
      {
       "output_type": "stream",
       "stream": "stdout",
       "text": [
        " 276\n",
        "referred for insterval of"
       ]
      },
      {
       "output_type": "stream",
       "stream": "stdout",
       "text": [
        " 535\n",
        "referred for insterval of"
       ]
      },
      {
       "output_type": "stream",
       "stream": "stdout",
       "text": [
        " 486\n",
        "referred for insterval of"
       ]
      },
      {
       "output_type": "stream",
       "stream": "stdout",
       "text": [
        " 430\n",
        "referred for insterval of"
       ]
      },
      {
       "output_type": "stream",
       "stream": "stdout",
       "text": [
        " 628\n",
        "referred for insterval of"
       ]
      },
      {
       "output_type": "stream",
       "stream": "stdout",
       "text": [
        " 180\n",
        "referred for insterval of"
       ]
      },
      {
       "output_type": "stream",
       "stream": "stdout",
       "text": [
        " 228\n",
        "referred for insterval of"
       ]
      },
      {
       "output_type": "stream",
       "stream": "stdout",
       "text": [
        " 315\n",
        "referred for insterval of"
       ]
      },
      {
       "output_type": "stream",
       "stream": "stdout",
       "text": [
        " 306\n",
        "                 SN   NO  interval  PTD    P        FGM        FGA       FGP  \\\n",
        "0   20081227.NJNCHA  171      3180   11  114  43.915516  87.831032  0.500000   \n",
        "1   20081229.CHINJN  136      2880  -13   87  39.772543  79.545085  0.500000   \n",
        "2   20081231.NJNDET  153      2880   -8   75  39.772543  79.545085  0.500000   \n",
        "3   20090102.ATLNJN  231      3180    2   93  43.915516  87.831032  0.500000   \n",
        "4   20090105.SACNJN  190      2880    8   98  39.772543  79.545085  0.500000   \n",
        "5   20090107.MEMNJN  153      2880   11  100  39.772543  79.545085  0.500000   \n",
        "6   20090109.NJNMIL  351      2880   -2  102  39.743926  79.552528  0.499593   \n",
        "7   20090112.OKCNJN  325      3180    4  103  44.769433  87.608930  0.511014   \n",
        "8   20090114.NJNBOS  153      2880  -32   86  39.772543  79.545085  0.500000   \n",
        "9   20090115.PORNJN  276      2880   -6   99  39.772543  79.545085  0.500000   \n",
        "10  20090117.BOSNJN  136      2880  -20   85  38.728537  79.816629  0.485219   \n",
        "11  20090121.NJNNOH  153      2880  -10   92  39.772543  79.545085  0.500000   \n",
        "12  20090123.NJNSAS  190      2880   -3   91  39.922612  79.506053  0.502133   \n",
        "13  20090124.NJNMEM  231      2880   11   99  39.772543  79.545085  0.500000   \n",
        "14  20090126.NJNOKC  210      2880   -9   85  39.772543  79.545085  0.500000   \n",
        "15  20090128.TORNJN  136      2880   -1  106  39.772543  79.545085  0.500000   \n",
        "16  20090130.NJNATL  231      2880  -17   88  40.002931  79.485162  0.503275   \n",
        "17  20090131.NJNPHI  231      2880    2   85  40.009272  79.483512  0.503366   \n",
        "18  20090203.MILNJN  276      2880   14   99  40.288275  79.410944  0.507339   \n",
        "19  20090204.NJNWAS  105      2880   27  115  39.772543  79.545085  0.500000   \n",
        "20  20090207.DENNJN  210      2880   44  114  39.901476  79.511550  0.501832   \n",
        "21  20090208.NJNORL  210      2880  -17   84  39.772543  79.545085  0.500000   \n",
        "22  20090210.SASNJN  190      2880  -15   93  39.772543  79.545085  0.500000   \n",
        "23  20090217.NJNHOU  190      2880  -26   88  40.398185  79.382357  0.508906   \n",
        "24  20090218.NJNDAL  190      2880  -15   98  40.081136  79.464821  0.504388   \n",
        "25  20090220.WASNJN  120      2880  -11   96  39.772543  79.545085  0.500000   \n",
        "26  20090223.PHINJN  378      2880    2   98  39.772543  79.545085  0.500000   \n",
        "27  20090225.CHINJN  190      2880   12  111  39.772543  79.545085  0.500000   \n",
        "28  20090301.NOHNJN  210      2880   -3   96  39.772543  79.545085  0.500000   \n",
        "29  20090303.NJNMIL  300      2880    4   99  39.772543  79.545085  0.500000   \n",
        "30  20090304.BOSNJN  231      2880   -4  111  39.977567  79.491759  0.502915   \n",
        "31  20090306.NJNORL  276      2880   -3  102  39.772543  79.545085  0.500000   \n",
        "32  20090308.NYKNJN  231      2880    5  106  39.772543  79.545085  0.500000   \n",
        "33  20090311.NJNGSW  378      2880   -4  112  39.772543  79.545085  0.500000   \n",
        "34  20090313.NJNPOR  378      2880   -9  100  39.772543  79.545085  0.500000   \n",
        "35  20090315.NJNLAC  253      2880   -2  105  39.772543  79.545085  0.500000   \n",
        "36  20090316.NJNDEN  210      2880  -25   96  39.772543  79.545085  0.500000   \n",
        "37  20090318.NJNNYK  231      2880   26  115  39.772543  79.545085  0.500000   \n",
        "38  20090320.MIANJN  190      2880    8   96  39.772543  79.545085  0.500000   \n",
        "39  20090322.CLENJN  171      2880   -8   88  39.772543  79.545085  0.500000   \n",
        "40  20090325.NJNCLE  136      2880  -11   87  39.772543  79.545085  0.500000   \n",
        "41  20090327.LALNJN  120      2880   -8   95  39.772543  79.545085  0.500000   \n",
        "42  20090329.NJNMIN  190      2880   -9   99  39.772543  79.545085  0.500000   \n",
        "43  20090330.MILNJN  153      2880  -29   78  39.772543  79.545085  0.500000   \n",
        "44  20090401.DETNJN  136      2880   13  111  42.076428  78.945850  0.532978   \n",
        "45  20090404.NJNCHI  120      2880   -9   94  42.587933  78.812808  0.540368   \n",
        "46  20090405.PHINJN  153      2880   29   96  41.708652  79.041507  0.527680   \n",
        "47  20090408.NJNBOS  120      2880   -2  104  41.962291  78.975536  0.531333   \n",
        "48  20090410.NJNDET  171      2880   -7   93  41.085123  79.203686  0.518727   \n",
        "49  20090411.ORLNJN  120      2880   10  103  39.772543  79.545085  0.500000   \n",
        "50  20090413.CHANJN  171      2880    4   91  39.772543  79.545085  0.500000   \n",
        "51  20090415.NJNNYK  120      2880  -29   73  39.772543  79.545085  0.500000   \n",
        "\n",
        "          B3M        B3A    ...      DRBP        TRB      TRBP       TOV  \\\n",
        "0   10.333063  33.582453    ...         1  59.415110  0.336792  5.166531   \n",
        "1    9.358245  30.414297    ...         1  53.809911  0.340979  4.679123   \n",
        "2    9.358245  30.414297    ...         1  53.809911  0.327490  4.679123   \n",
        "3   10.333063  33.582453    ...         1  59.415110  0.303270  5.166531   \n",
        "4    9.358245  30.414297    ...         1  53.809911  0.303479  4.679123   \n",
        "5    9.358245  30.414297    ...         1  53.809911  0.327490  4.679123   \n",
        "6    9.337562  30.427923    ...         1  53.868843  0.241165  4.701119   \n",
        "7   10.950245  33.175876    ...         1  57.656584  0.263084  4.510154   \n",
        "8    9.358245  30.414297    ...         1  53.809911  0.327490  4.679123   \n",
        "9    9.358245  30.414297    ...         1  53.809911  0.264669  4.679123   \n",
        "10   8.603673  30.911382    ...         1  55.959898  0.348747  5.481614   \n",
        "11   9.358245  30.414297    ...         1  53.809911  0.327490  4.679123   \n",
        "12   9.466711  30.342844    ...         1  53.500863  0.303120  4.563769   \n",
        "13   9.358245  30.414297    ...         1  53.809911  0.282749  4.679123   \n",
        "14   9.358245  30.414297    ...         1  53.809911  0.292748  4.679123   \n",
        "15   9.358245  30.414297    ...         1  53.809911  0.340979  4.679123   \n",
        "16   9.524762  30.304602    ...         1  53.335457  0.281698  4.502031   \n",
        "17   9.529345  30.301583    ...         1  53.322399  0.281649  4.497157   \n",
        "18   9.730999  30.168741    ...         1  52.747831  0.262104  4.282697   \n",
        "19   9.358245  30.414297    ...         1  53.809911  0.371590  4.679123   \n",
        "20   9.451434  30.352908    ...         1  53.544391  0.292521  4.580016   \n",
        "21   9.358245  30.414297    ...         1  53.809911  0.292748  4.679123   \n",
        "22   9.358245  30.414297    ...         1  53.809911  0.303479  4.679123   \n",
        "23   9.810438  30.116409    ...         1  52.521486  0.299231  4.198213   \n",
        "24   9.581287  30.267366    ...         1  53.174404  0.301828  4.441917   \n",
        "25   9.358245  30.414297    ...         1  53.809911  0.355627  4.679123   \n",
        "26   9.358245  30.414297    ...         1  53.809911  0.234660  4.679123   \n",
        "27   9.358245  30.414297    ...         1  53.809911  0.303479  4.679123   \n",
        "28   9.358245  30.414297    ...         1  53.809911  0.292748  4.679123   \n",
        "29   9.358245  30.414297    ...         1  53.809911  0.256470  4.679123   \n",
        "30   9.506430  30.316678    ...         1  53.387690  0.281896  4.521527   \n",
        "31   9.358245  30.414297    ...         1  53.809911  0.264669  4.679123   \n",
        "32   9.358245  30.414297    ...         1  53.809911  0.282749  4.679123   \n",
        "33   9.358245  30.414297    ...         1  53.809911  0.234660  4.679123   \n",
        "34   9.358245  30.414297    ...         1  53.809911  0.234660  4.679123   \n",
        "35   9.358245  30.414297    ...         1  53.809911  0.273411  4.679123   \n",
        "36   9.358245  30.414297    ...         1  53.809911  0.292748  4.679123   \n",
        "37   9.358245  30.414297    ...         1  53.809911  0.282749  4.679123   \n",
        "38   9.358245  30.414297    ...         1  53.809911  0.303479  4.679123   \n",
        "39   9.358245  30.414297    ...         1  53.809911  0.315028  4.679123   \n",
        "40   9.358245  30.414297    ...         1  53.809911  0.340979  4.679123   \n",
        "41   9.358245  30.414297    ...         1  53.809911  0.355627  4.679123   \n",
        "42   9.358245  30.414297    ...         1  53.809911  0.303479  4.679123   \n",
        "43   9.358245  30.414297    ...         1  53.809911  0.327490  4.679123   \n",
        "44  11.023416  29.317343    ...         1  49.065373  0.323724  2.908205   \n",
        "45  11.393114  29.073799    ...         1  48.011999  0.333389  2.515028   \n",
        "46  10.757600  29.492453    ...         1  49.822758  0.312716  3.190902   \n",
        "47  10.940921  29.371688    ...         1  49.300424  0.339300  2.995938   \n",
        "48  10.306934  29.789335    ...         1  51.106830  0.305833  3.670187   \n",
        "49   9.358245  30.414297    ...         1  53.809911  0.355627  4.679123   \n",
        "50   9.358245  30.414297    ...         1  53.809911  0.315028  4.679123   \n",
        "51   9.358245  30.414297    ...         1  53.809911  0.355627  4.679123   \n",
        "\n",
        "        TOVP       STL  BLK          F  oppORB  oppDRB  \n",
        "0   0.048972  7.749797    0  10.333063       0   117.0  \n",
        "1   0.048972  7.018684    0   9.358245       0   104.0  \n",
        "2   0.048972  7.018684    0   9.358245       0   110.5  \n",
        "3   0.048972  7.749797    0  10.333063       0   136.5  \n",
        "4   0.048972  7.018684    0   9.358245       0   123.5  \n",
        "5   0.048972  7.018684    0   9.358245       0   110.5  \n",
        "6   0.049179  7.030120    0   9.380680       0   169.5  \n",
        "7   0.043298  7.408544    0   9.663621       0   161.5  \n",
        "8   0.048972  7.018684    0   9.358245       0   110.5  \n",
        "9   0.048972  7.018684    0   9.358245       0   149.5  \n",
        "10  0.056407  7.435903    0  10.176710       0   104.5  \n",
        "11  0.048972  7.018684    0   9.358245       0   110.5  \n",
        "12  0.047882  6.958711    0   9.240596       0   123.0  \n",
        "13  0.048972  7.018684    0   9.358245       0   136.5  \n",
        "14  0.048972  7.018684    0   9.358245       0   130.0  \n",
        "15  0.048972  7.018684    0   9.358245       0   104.0  \n",
        "16  0.047296  6.926613    0   9.177629       0   136.0  \n",
        "17  0.047250  6.924079    0   9.172658       0   136.0  \n",
        "18  0.045204  6.812581    0   8.953929       0   148.5  \n",
        "19  0.048972  7.018684    0   9.358245       0    91.0  \n",
        "20  0.048036  6.967158    0   9.257166       0   129.5  \n",
        "21  0.048972  7.018684    0   9.358245       0   130.0  \n",
        "22  0.048972  7.018684    0   9.358245       0   123.5  \n",
        "23  0.044393  6.768657    0   8.867763       0   123.0  \n",
        "24  0.046725  6.895360    0   9.116318       0   123.0  \n",
        "25  0.048972  7.018684    0   9.358245       0    97.5  \n",
        "26  0.048972  7.018684    0   9.358245       0   175.5  \n",
        "27  0.048972  7.018684    0   9.358245       0   123.5  \n",
        "28  0.048972  7.018684    0   9.358245       0   130.0  \n",
        "29  0.048972  7.018684    0   9.358245       0   156.0  \n",
        "30  0.047481  6.936749    0   9.197513       0   136.0  \n",
        "31  0.048972  7.018684    0   9.358245       0   149.5  \n",
        "32  0.048972  7.018684    0   9.358245       0   136.5  \n",
        "33  0.048972  7.018684    0   9.358245       0   175.5  \n",
        "34  0.048972  7.018684    0   9.358245       0   175.5  \n",
        "35  0.048972  7.018684    0   9.358245       0   143.0  \n",
        "36  0.048972  7.018684    0   9.358245       0   130.0  \n",
        "37  0.048972  7.018684    0   9.358245       0   136.5  \n",
        "38  0.048972  7.018684    0   9.358245       0   123.5  \n",
        "39  0.048972  7.018684    0   9.358245       0   117.0  \n",
        "40  0.048972  7.018684    0   9.358245       0   104.0  \n",
        "41  0.048972  7.018684    0   9.358245       0    97.5  \n",
        "42  0.048972  7.018684    0   9.358245       0   123.5  \n",
        "43  0.048972  7.018684    0   9.358245       0   110.5  \n",
        "44  0.031629  6.097976    0   7.552078       0   102.5  \n",
        "45  0.027593  5.893562    0   7.151076       0    96.0  \n",
        "46  0.034488  6.244951    0   7.840402       0   109.5  \n",
        "47  0.032520  6.143589    0   7.641558       0    96.0  \n",
        "48  0.039255  6.494134    0   8.329227       0   116.0  \n",
        "49  0.048972  7.018684    0   9.358245       0    97.5  \n",
        "50  0.048972  7.018684    0   9.358245       0   117.0  \n",
        "51  0.048972  7.018684    0   9.358245       0    97.5  \n",
        "\n",
        "[52 rows x 27 columns]"
       ]
      },
      {
       "output_type": "stream",
       "stream": "stdout",
       "text": [
        "\n",
        "NYK\n",
        "referred for insterval of"
       ]
      },
      {
       "output_type": "stream",
       "stream": "stdout",
       "text": [
        " 36\n",
        "referred for insterval of"
       ]
      },
      {
       "output_type": "stream",
       "stream": "stdout",
       "text": [
        " 185\n",
        "referred for insterval of"
       ]
      },
      {
       "output_type": "stream",
       "stream": "stdout",
       "text": [
        " 137\n",
        "referred for insterval of"
       ]
      },
      {
       "output_type": "stream",
       "stream": "stdout",
       "text": [
        " 389\n",
        "referred for insterval of"
       ]
      },
      {
       "output_type": "stream",
       "stream": "stdout",
       "text": [
        " 123\n",
        "referred for insterval of"
       ]
      },
      {
       "output_type": "stream",
       "stream": "stdout",
       "text": [
        " 91\n",
        "referred for insterval of"
       ]
      },
      {
       "output_type": "stream",
       "stream": "stdout",
       "text": [
        " 74\n",
        "referred for insterval of"
       ]
      },
      {
       "output_type": "stream",
       "stream": "stdout",
       "text": [
        " 438\n",
        "referred for insterval of"
       ]
      },
      {
       "output_type": "stream",
       "stream": "stdout",
       "text": [
        " 220\n",
        "referred for insterval of"
       ]
      },
      {
       "output_type": "stream",
       "stream": "stdout",
       "text": [
        " 140\n",
        "referred for insterval of"
       ]
      },
      {
       "output_type": "stream",
       "stream": "stdout",
       "text": [
        " 172\n",
        "referred for insterval of"
       ]
      },
      {
       "output_type": "stream",
       "stream": "stdout",
       "text": [
        " 34\n",
        "referred for insterval of"
       ]
      },
      {
       "output_type": "stream",
       "stream": "stdout",
       "text": [
        " 270\n",
        "referred for insterval of"
       ]
      },
      {
       "output_type": "stream",
       "stream": "stdout",
       "text": [
        " 189\n",
        "referred for insterval of"
       ]
      },
      {
       "output_type": "stream",
       "stream": "stdout",
       "text": [
        " 177\n",
        "referred for insterval of"
       ]
      },
      {
       "output_type": "stream",
       "stream": "stdout",
       "text": [
        " 342\n",
        "referred for insterval of"
       ]
      },
      {
       "output_type": "stream",
       "stream": "stdout",
       "text": [
        " 59\n",
        "referred for insterval of"
       ]
      },
      {
       "output_type": "stream",
       "stream": "stdout",
       "text": [
        " 126\n",
        "referred for insterval of"
       ]
      },
      {
       "output_type": "stream",
       "stream": "stdout",
       "text": [
        " 330\n",
        "referred for insterval of"
       ]
      },
      {
       "output_type": "stream",
       "stream": "stdout",
       "text": [
        " 358\n",
        "referred for insterval of"
       ]
      },
      {
       "output_type": "stream",
       "stream": "stdout",
       "text": [
        " 266\n",
        "referred for insterval of"
       ]
      },
      {
       "output_type": "stream",
       "stream": "stdout",
       "text": [
        " 40\n",
        "referred for insterval of"
       ]
      },
      {
       "output_type": "stream",
       "stream": "stdout",
       "text": [
        " 84\n",
        "referred for insterval of"
       ]
      },
      {
       "output_type": "stream",
       "stream": "stdout",
       "text": [
        " 154\n",
        "referred for insterval of"
       ]
      },
      {
       "output_type": "stream",
       "stream": "stdout",
       "text": [
        " 445.0\n",
        "referred for insterval of"
       ]
      },
      {
       "output_type": "stream",
       "stream": "stdout",
       "text": [
        " 690.0\n",
        "referred for insterval of"
       ]
      },
      {
       "output_type": "stream",
       "stream": "stdout",
       "text": [
        " 754.0\n",
        "referred for insterval of"
       ]
      },
      {
       "output_type": "stream",
       "stream": "stdout",
       "text": [
        " 302\n",
        "referred for insterval of"
       ]
      },
      {
       "output_type": "stream",
       "stream": "stdout",
       "text": [
        " 249\n",
        "referred for insterval of"
       ]
      },
      {
       "output_type": "stream",
       "stream": "stdout",
       "text": [
        " 115\n",
        "referred for insterval of"
       ]
      },
      {
       "output_type": "stream",
       "stream": "stdout",
       "text": [
        " 81\n",
        "referred for insterval of"
       ]
      },
      {
       "output_type": "stream",
       "stream": "stdout",
       "text": [
        " 202\n",
        "referred for insterval of 96\n",
        "referred for insterval of"
       ]
      },
      {
       "output_type": "stream",
       "stream": "stdout",
       "text": [
        " 80\n",
        "referred for insterval of"
       ]
      },
      {
       "output_type": "stream",
       "stream": "stdout",
       "text": [
        " 499\n",
        "referred for insterval of"
       ]
      },
      {
       "output_type": "stream",
       "stream": "stdout",
       "text": [
        " 481\n",
        "referred for insterval of"
       ]
      },
      {
       "output_type": "stream",
       "stream": "stdout",
       "text": [
        " 296\n",
        "referred for insterval of"
       ]
      },
      {
       "output_type": "stream",
       "stream": "stdout",
       "text": [
        " 365\n",
        "referred for insterval of"
       ]
      },
      {
       "output_type": "stream",
       "stream": "stdout",
       "text": [
        " 127\n",
        "referred for insterval of"
       ]
      },
      {
       "output_type": "stream",
       "stream": "stdout",
       "text": [
        " 359\n",
        "referred for insterval of"
       ]
      },
      {
       "output_type": "stream",
       "stream": "stdout",
       "text": [
        " 385\n",
        "referred for insterval of"
       ]
      },
      {
       "output_type": "stream",
       "stream": "stdout",
       "text": [
        " 693\n",
        "referred for insterval of"
       ]
      },
      {
       "output_type": "stream",
       "stream": "stdout",
       "text": [
        " 415\n",
        "referred for insterval of"
       ]
      },
      {
       "output_type": "stream",
       "stream": "stdout",
       "text": [
        " 57\n",
        "referred for insterval of"
       ]
      },
      {
       "output_type": "stream",
       "stream": "stdout",
       "text": [
        " 126\n",
        "referred for insterval of 383\n",
        "referred for insterval of"
       ]
      },
      {
       "output_type": "stream",
       "stream": "stdout",
       "text": [
        " 61\n",
        "referred for insterval of"
       ]
      },
      {
       "output_type": "stream",
       "stream": "stdout",
       "text": [
        " 366.0\n",
        "referred for insterval of"
       ]
      },
      {
       "output_type": "stream",
       "stream": "stdout",
       "text": [
        " 410.0\n",
        "referred for insterval of"
       ]
      },
      {
       "output_type": "stream",
       "stream": "stdout",
       "text": [
        " 11.0\n",
        "referred for insterval of"
       ]
      },
      {
       "output_type": "stream",
       "stream": "stdout",
       "text": [
        " 10.0\n",
        "referred for insterval of"
       ]
      },
      {
       "output_type": "stream",
       "stream": "stdout",
       "text": [
        " 2.0\n",
        "referred for insterval of"
       ]
      },
      {
       "output_type": "stream",
       "stream": "stdout",
       "text": [
        " 391\n",
        "referred for insterval of"
       ]
      },
      {
       "output_type": "stream",
       "stream": "stdout",
       "text": [
        " 247\n",
        "referred for insterval of"
       ]
      },
      {
       "output_type": "stream",
       "stream": "stdout",
       "text": [
        " 317\n",
        "referred for insterval of"
       ]
      },
      {
       "output_type": "stream",
       "stream": "stdout",
       "text": [
        " 388\n",
        "referred for insterval of"
       ]
      },
      {
       "output_type": "stream",
       "stream": "stdout",
       "text": [
        " 810\n",
        "referred for insterval of"
       ]
      },
      {
       "output_type": "stream",
       "stream": "stdout",
       "text": [
        " 176\n",
        "referred for insterval of"
       ]
      },
      {
       "output_type": "stream",
       "stream": "stdout",
       "text": [
        " 318\n",
        "referred for insterval of"
       ]
      },
      {
       "output_type": "stream",
       "stream": "stdout",
       "text": [
        " 393\n",
        "referred for insterval of"
       ]
      },
      {
       "output_type": "stream",
       "stream": "stdout",
       "text": [
        " 155\n",
        "referred for insterval of"
       ]
      },
      {
       "output_type": "stream",
       "stream": "stdout",
       "text": [
        " 390\n",
        "referred for insterval of 88\n",
        "referred for insterval of"
       ]
      },
      {
       "output_type": "stream",
       "stream": "stdout",
       "text": [
        " 341\n",
        "referred for insterval of"
       ]
      },
      {
       "output_type": "stream",
       "stream": "stdout",
       "text": [
        " 110\n",
        "referred for insterval of"
       ]
      },
      {
       "output_type": "stream",
       "stream": "stdout",
       "text": [
        " 378\n",
        "referred for insterval of"
       ]
      },
      {
       "output_type": "stream",
       "stream": "stdout",
       "text": [
        " 515.0\n",
        "referred for insterval of"
       ]
      },
      {
       "output_type": "stream",
       "stream": "stdout",
       "text": [
        " 890.0\n",
        "referred for insterval of"
       ]
      },
      {
       "output_type": "stream",
       "stream": "stdout",
       "text": [
        " 156\n",
        "referred for insterval of"
       ]
      },
      {
       "output_type": "stream",
       "stream": "stdout",
       "text": [
        " 466\n",
        "referred for insterval of"
       ]
      },
      {
       "output_type": "stream",
       "stream": "stdout",
       "text": [
        " 872\n",
        "referred for insterval of"
       ]
      },
      {
       "output_type": "stream",
       "stream": "stdout",
       "text": [
        " 337\n",
        "referred for insterval of"
       ]
      },
      {
       "output_type": "stream",
       "stream": "stdout",
       "text": [
        " 382\n",
        "referred for insterval of"
       ]
      },
      {
       "output_type": "stream",
       "stream": "stdout",
       "text": [
        " 645\n",
        "referred for insterval of"
       ]
      },
      {
       "output_type": "stream",
       "stream": "stdout",
       "text": [
        " 51\n",
        "referred for insterval of"
       ]
      },
      {
       "output_type": "stream",
       "stream": "stdout",
       "text": [
        " 271\n",
        "referred for insterval of"
       ]
      },
      {
       "output_type": "stream",
       "stream": "stdout",
       "text": [
        " 195\n",
        "referred for insterval of"
       ]
      },
      {
       "output_type": "stream",
       "stream": "stdout",
       "text": [
        " 283\n",
        "referred for insterval of"
       ]
      },
      {
       "output_type": "stream",
       "stream": "stdout",
       "text": [
        " 67\n",
        "referred for insterval of"
       ]
      },
      {
       "output_type": "stream",
       "stream": "stdout",
       "text": [
        " 4\n",
        "referred for insterval of"
       ]
      },
      {
       "output_type": "stream",
       "stream": "stdout",
       "text": [
        " 402\n",
        "referred for insterval of"
       ]
      },
      {
       "output_type": "stream",
       "stream": "stdout",
       "text": [
        " 191\n",
        "referred for insterval of"
       ]
      },
      {
       "output_type": "stream",
       "stream": "stdout",
       "text": [
        " 521\n",
        "referred for insterval of"
       ]
      },
      {
       "output_type": "stream",
       "stream": "stdout",
       "text": [
        " 199\n",
        "referred for insterval of"
       ]
      },
      {
       "output_type": "stream",
       "stream": "stdout",
       "text": [
        " 90\n",
        "referred for insterval of"
       ]
      },
      {
       "output_type": "stream",
       "stream": "stdout",
       "text": [
        " 168\n",
        "referred for insterval of"
       ]
      },
      {
       "output_type": "stream",
       "stream": "stdout",
       "text": [
        " 107\n",
        "                 SN   NO  interval  PTD    P        FGM         FGA       FGP  \\\n",
        "0   20081226.MINNYK  171      2880  -13  107  38.173147   91.982865  0.415003   \n",
        "1   20081228.DENNYK  153      2880   -7  110  38.196286   91.671088  0.416667   \n",
        "2   20081230.NYKCHA  231      2880    4   93  39.494316   88.521640  0.446154   \n",
        "3   20090102.INDNYK  136      2880   -2  103  38.499818   90.934620  0.423379   \n",
        "4   20090104.BOSNYK  120      2880   12  100  39.450240   88.733845  0.444591   \n",
        "5   20090106.NYKOKC  120      2880   -8   99  38.196286   91.671088  0.416667   \n",
        "6   20090108.NYKDAL  120      2880   -5   94  38.196286   91.671088  0.416667   \n",
        "7   20090110.NYKHOU  171      2880  -20   76  38.739189   90.353828  0.428750   \n",
        "8   20090112.NYKNOH  153      2880    6  101  38.689982   90.635160  0.426876   \n",
        "9   20090114.WASNYK  120      2880    6  128  38.862576   90.054451  0.431545   \n",
        "10  20090116.NYKWAS  105      2880   -7   89  38.662689   90.539442  0.427026   \n",
        "11  20090117.PHINYK  136      2880  -10   97  39.477042   88.563553  0.445748   \n",
        "12  20090119.CHINYK  190      2880    4  102  38.196286   91.671088  0.416667   \n",
        "13  20090121.PHXNYK  210      2880    5  114  38.341883   91.317823  0.419873   \n",
        "14  20090123.MEMNYK  153      2880   20  108  38.507221   90.916657  0.423544   \n",
        "15  20090124.NYKPHI   91      2880   -6  110  38.196286   91.671088  0.416667   \n",
        "16  20090126.HOUNYK  120      2880    6  104  38.196286   91.671088  0.416667   \n",
        "17  20090128.ATLNYK   55      2880    8  112  39.010640   89.695199  0.434925   \n",
        "18  20090131.NYKIND  105      2880    9  122  39.736155   87.934861  0.451882   \n",
        "19  20090202.LALNYK  153      2880   -9  117  38.196286   91.671088  0.416667   \n",
        "20  20090204.CLENYK  136      2880   -5  102  38.502286   90.928632  0.423434   \n",
        "21  20090206.BOSNYK  136      2880  -10  100  38.196286   91.671088  0.416667   \n",
        "22  20090208.NYKPOR  105      2880   -1  108  38.196286   91.671088  0.416667   \n",
        "23  20090210.NYKGSW  153      2880  -17  127  38.180162   91.888344  0.415506   \n",
        "24  20090211.NYKLAC   78      3180   -4  124  41.977279  103.885082  0.404074   \n",
        "25  20090220.TORNYK  153      2880   30  127  38.941543   89.862850  0.433344   \n",
        "26  20090222.NYKTOR  120      2880  -11  100  38.196286   91.671088  0.416667   \n",
        "27  20090223.INDNYK  136      2880    4  123  38.158174   92.184604  0.413932   \n",
        "28  20090225.ORLNYK  171      2880   -5  109  38.022016   92.292838  0.411971   \n",
        "29  20090227.PHINYK  105      2880   -5  103  37.791644   93.206647  0.405461   \n",
        "30  20090228.NYKMIA   78      2880   -5  115  38.221251   91.658605  0.416996   \n",
        "31  20090304.ATLNYK  136      2880    4  109  38.594477   91.471993  0.421927   \n",
        "32  20090307.CHANYK  171      2880   -9  105  37.577436   94.349981  0.398277   \n",
        "33  20090308.NYKNJN  153      2880   -5  101  38.532688   91.502887  0.421109   \n",
        "34  20090310.NYKMIL  210      2880    8  120  38.060770   92.973081  0.409374   \n",
        "35  20090311.NYKDET  253      3180    5  116  42.367742  101.275626  0.418341   \n",
        "36  20090313.NYKMIN  120      2880    8  102  36.141615   99.001605  0.365061   \n",
        "37  20090315.NYKCLE   91      2880   -5   93  34.916202  103.556097  0.337172   \n",
        "38  20090318.NJNNYK  136      2880  -26   89  36.587502   97.643429  0.374705   \n",
        "39  20090320.SACNYK  210      2880  -27   94  38.196286   91.671088  0.416667   \n",
        "40  20090321.NYKORL  231      2880   -7  103  38.196286   91.671088  0.416667   \n",
        "41  20090323.ORLNYK  210      2880   -4  102  40.242041   86.707415  0.464113   \n",
        "42  20090325.LACNYK  105      3180   -5  135  45.690919   92.783322  0.492448   \n",
        "43  20090327.NOHNYK   78      2880   10  103  38.718989   91.409736  0.423576   \n",
        "44  20090328.NYKCHA   91      2880  -11   85  38.516773   91.510844  0.420898   \n",
        "45  20090331.NYKDEN  105      2880   -7  104  38.196286   91.671088  0.416667   \n",
        "46  20090404.TORNYK  120      2880   -7   95  38.859703   90.120412  0.431198   \n",
        "47  20090405.NYKTOR  136      2880    9  112  38.196286   91.671088  0.416667   \n",
        "48  20090407.NYKCHI  136      2880   -7  103  38.958364   90.016758  0.432790   \n",
        "49  20090408.DETNYK   91      2880  -27   86  39.634928   89.138200  0.444646   \n",
        "50  20090410.NYKORL  153      2880   10  105  38.224372   91.657045  0.417037   \n",
        "51  20090412.NYKMIA  120      2880  -17  105  38.512761   91.004207  0.423198   \n",
        "52  20090415.NJNNYK   91      2880   29  102  38.196286   91.671088  0.416667   \n",
        "\n",
        "          B3M        B3A    ...          DRBP        TRB      TRBP        TOV  \\\n",
        "0    7.665239  30.507908    ...      0.331810  38.632288  0.147096  11.344811   \n",
        "1    7.639257  30.557029    ...      0.402647  38.196286  0.169613  11.458886   \n",
        "2    9.199088  30.886240    ...      0.340526  34.766227  0.133837  14.685149   \n",
        "3    8.004009  30.634012    ...      0.414241  37.394200  0.177734  12.213316   \n",
        "4    9.168270  30.857251    ...      0.382596  35.037051  0.169231  14.552307   \n",
        "5    7.639257  30.557029    ...      0.433083  38.196286  0.187977  11.458886   \n",
        "6    7.639257  30.557029    ...      0.433083  38.196286  0.187977  11.458886   \n",
        "7    8.291658  30.694722    ...      0.383594  36.761661  0.158618  12.808273   \n",
        "8    8.266600  30.654842    ...      0.364699  37.129155  0.160642  12.650139   \n",
        "9    8.439931  30.726016    ...      0.426234  36.435609  0.183614  13.114952   \n",
        "10   8.199729  30.675320    ...      0.445276  36.963812  0.196654  12.618133   \n",
        "11   9.178330  30.881859    ...      0.404136  34.811874  0.169970  14.642214   \n",
        "12   7.639257  30.557029    ...      0.376208  38.196286  0.154518  11.458886   \n",
        "13   7.814219  30.593956    ...      0.362852  37.811546  0.148390  11.820767   \n",
        "14   8.012905  30.635889    ...      0.399537  37.374637  0.168830  12.231717   \n",
        "15   7.639257  30.557029    ...      0.468496  38.196286  0.210801  11.458886   \n",
        "16   7.639257  30.557029    ...      0.433083  38.196286  0.187977  11.458886   \n",
        "17   8.617858  30.763568    ...      0.525456  36.044348  0.251980  13.482967   \n",
        "18   9.489703  30.947575    ...      0.433862  34.127166  0.187381  15.286240   \n",
        "19   7.639257  30.557029    ...      0.402647  38.196286  0.169613  11.458886   \n",
        "20   8.006974  30.634638    ...      0.414216  37.387679  0.180279  12.219450   \n",
        "21   7.639257  30.557029    ...      0.417311  38.196286  0.178324  11.458886   \n",
        "22   7.639257  30.557029    ...      0.450094  38.196286  0.198736  11.458886   \n",
        "23   7.657362  30.522800    ...      0.369600  38.500107  0.161426  11.379395   \n",
        "24   8.657090  33.320189    ...      0.387400  45.901794  0.211625  11.677464   \n",
        "25   8.534825  30.746044    ...      0.395139  36.226936  0.164498  13.311227   \n",
        "26   7.639257  30.557029    ...      0.433083  38.196286  0.187977  11.458886   \n",
        "27   7.682050  30.476124    ...      0.351793  38.914407  0.161528  11.270998   \n",
        "28   8.024403  30.997613    ...      0.395230  38.722016  0.162888  11.436605   \n",
        "29   8.605736  31.419101    ...      0.432550  39.537323  0.182589  11.586064   \n",
        "30   7.644250  30.359807    ...      0.459664  38.221251  0.198840  11.611172   \n",
        "31   7.718895  27.411328    ...      0.366639  38.594477  0.137545  13.887845   \n",
        "32   9.376969  31.296820    ...      0.359725  40.679905  0.143401  12.296692   \n",
        "33   7.706538  27.899454    ...      0.371142  38.532688  0.142961  13.510938   \n",
        "34   8.581784  29.466362    ...      0.332024  39.676820  0.121085  13.035002   \n",
        "35   8.592808  31.952097    ...      0.354296  42.566507  0.128380  14.123366   \n",
        "36  12.180175  35.751564    ...      0.453357  44.394702  0.209020  11.196188   \n",
        "37  14.868358  38.763894    ...      0.440268  48.383088  0.233303  10.951024   \n",
        "38  11.377500  34.216940    ...      0.386110  43.354169  0.163382  11.706070   \n",
        "39   7.639257  30.557029    ...      0.364250  38.196286  0.147935  11.458886   \n",
        "40   7.639257  30.557029    ...      0.353028  38.196286  0.141890  11.458886   \n",
        "41  10.097622  31.075880    ...      0.344028  32.790356  0.134502  16.543624   \n",
        "42  12.611218  34.234824    ...      0.416391  33.061706  0.162816  21.567157   \n",
        "43   7.743798  26.427680    ...      0.420944  38.718989  0.163565  14.647371   \n",
        "44   7.703355  28.025183    ...      0.424199  38.516773  0.170793  13.413856   \n",
        "45   7.639257  30.557029    ...      0.450094  38.196286  0.198736  11.458886   \n",
        "46   8.448892  30.715306    ...      0.388822  36.529704  0.172693  13.094761   \n",
        "47   7.639257  30.557029    ...      0.417311  38.196286  0.178324  11.458886   \n",
        "48   8.510391  30.241033    ...      0.358443  36.517785  0.151201  13.555836   \n",
        "49  12.230781  33.256040    ...      0.461204  34.708669  0.199810  17.012900   \n",
        "50   7.644874  30.335154    ...      0.383080  38.224372  0.154614  11.630208   \n",
        "51   7.967047  30.209830    ...      0.408336  37.550963  0.169491  12.434979   \n",
        "52   7.639257  30.557029    ...      0.468496  38.196286  0.210801  11.458886   \n",
        "\n",
        "        TOVP        STL       BLK          F  oppORB  oppDRB  \n",
        "0   0.107275  11.038717  3.832619  16.248760      46     178  \n",
        "1   0.109329  11.458886  3.819629  15.278515      34     153  \n",
        "2   0.140071  11.139081  3.122016  14.852109      42     183  \n",
        "3   0.116520  11.384103  3.656499  15.178804      32     141  \n",
        "4   0.138292  10.974583  3.145933  15.262971      35     137  \n",
        "5   0.109329  11.458886  3.819629  15.278515      30     135  \n",
        "6   0.109329  11.458886  3.819629  15.278515      30     135  \n",
        "7   0.122189  11.325127  3.527851  15.100170      36     159  \n",
        "8   0.119997  11.067469  3.554649  15.726154      39     155  \n",
        "9   0.125112  11.294728  3.461538  15.059637      30     132  \n",
        "10  0.120377  11.343975  3.568966  15.125300      28     123  \n",
        "11  0.139662  11.143337  3.131300  14.857783      32     138  \n",
        "12  0.109329  11.458886  3.819629  15.278515      38     171  \n",
        "13  0.112779  11.423014  3.741379  15.230686      40     177  \n",
        "14  0.116695  11.382279  3.652520  15.176372      34     150  \n",
        "15  0.109329  11.458886  3.819629  15.278515      26     117  \n",
        "16  0.109329  11.458886  3.819629  15.278515      30     135  \n",
        "17  0.128618  11.258248  3.381963  15.010998      20      87  \n",
        "18  0.145797  11.079498  2.992042  14.772664      28     120  \n",
        "19  0.109329  11.458886  3.819629  15.278515      34     153  \n",
        "20  0.116578  11.383495  3.655172  15.177993      32     138  \n",
        "21  0.109329  11.458886  3.819629  15.278515      32     144  \n",
        "22  0.109329  11.458886  3.819629  15.278515      28     126  \n",
        "23  0.107894  11.166098  3.828681  15.954613      39     161  \n",
        "24  0.094326   9.061120  4.328545  25.163211      39     132  \n",
        "25  0.126982  11.275272  3.419098  15.033696      34     150  \n",
        "26  0.109329  11.458886  3.819629  15.278515      30     135  \n",
        "27  0.105965  10.766843  3.841025  16.876566      42     160  \n",
        "28  0.108545  11.436605  3.812202  15.248806      35     164  \n",
        "29  0.108877  11.368869  3.847542  15.086094      30     147  \n",
        "30  0.110583  11.430176  3.858324  15.179903      27     127  \n",
        "31  0.128806  11.000967  4.436823  13.705664      41     201  \n",
        "32  0.113419  11.183569  4.024689  14.540385      41     202  \n",
        "33  0.125855  11.072024  4.341052  13.949727      40     191  \n",
        "34  0.120581  11.100613  4.216041  14.156020      47     241  \n",
        "35  0.119979  12.367710  4.590745  15.905061      47     242  \n",
        "36  0.100576  11.196188  3.732063  14.928251      27     141  \n",
        "37  0.094489  10.707256  3.690969  15.495178      28     131  \n",
        "38  0.105725  11.156296  3.865372  14.691803      36     186  \n",
        "39  0.109329  11.458886  3.819629  15.278515      40     180  \n",
        "40  0.109329  11.458886  3.819629  15.278515      42     189  \n",
        "41  0.157772  10.954859  2.720159  14.606479      40     171  \n",
        "42  0.185642  11.742306  2.429568  15.538760      31     139  \n",
        "43  0.134675  10.857778  4.629817  13.213840      33     165  \n",
        "44  0.125091  11.090326  4.316383  14.012592      32     155  \n",
        "45  0.109329  11.458886  3.819629  15.278515      28     126  \n",
        "46  0.124660  11.197158  3.463210  15.282729      35     140  \n",
        "47  0.109329  11.458886  3.819629  15.278515      32     144  \n",
        "48  0.128402  11.087031  3.537251  15.099638      40     165  \n",
        "49  0.158227  10.790428  2.559731  14.387238      24     115  \n",
        "50  0.110740  11.426588  3.863161  15.167577      37     172  \n",
        "51  0.118189  11.333540  3.758980  14.984690      33     151  \n",
        "52  0.109329  11.458886  3.819629  15.278515      26     117  \n",
        "\n",
        "[53 rows x 27 columns]"
       ]
      },
      {
       "output_type": "stream",
       "stream": "stdout",
       "text": [
        "\n",
        "MIL\n",
        "referred for insterval of"
       ]
      },
      {
       "output_type": "stream",
       "stream": "stdout",
       "text": [
        " 39\n",
        "referred for insterval of"
       ]
      },
      {
       "output_type": "stream",
       "stream": "stdout",
       "text": [
        " 123\n",
        "referred for insterval of"
       ]
      },
      {
       "output_type": "stream",
       "stream": "stdout",
       "text": [
        " 63\n",
        "referred for insterval of"
       ]
      },
      {
       "output_type": "stream",
       "stream": "stdout",
       "text": [
        " 96\n",
        "referred for insterval of"
       ]
      },
      {
       "output_type": "stream",
       "stream": "stdout",
       "text": [
        " 609\n",
        "referred for insterval of"
       ]
      },
      {
       "output_type": "stream",
       "stream": "stdout",
       "text": [
        " 334\n",
        "referred for insterval of"
       ]
      },
      {
       "output_type": "stream",
       "stream": "stdout",
       "text": [
        " 59.0\n",
        "referred for insterval of"
       ]
      },
      {
       "output_type": "stream",
       "stream": "stdout",
       "text": [
        " 5.0\n",
        "referred for insterval of"
       ]
      },
      {
       "output_type": "stream",
       "stream": "stdout",
       "text": [
        " 9.0\n",
        "referred for insterval of"
       ]
      },
      {
       "output_type": "stream",
       "stream": "stdout",
       "text": [
        " 182\n",
        "referred for insterval of"
       ]
      },
      {
       "output_type": "stream",
       "stream": "stdout",
       "text": [
        " 653\n",
        "referred for insterval of"
       ]
      },
      {
       "output_type": "stream",
       "stream": "stdout",
       "text": [
        " 18\n",
        "referred for insterval of"
       ]
      },
      {
       "output_type": "stream",
       "stream": "stdout",
       "text": [
        " 47\n",
        "referred for insterval of"
       ]
      },
      {
       "output_type": "stream",
       "stream": "stdout",
       "text": [
        " 103\n",
        "referred for insterval of"
       ]
      },
      {
       "output_type": "stream",
       "stream": "stdout",
       "text": [
        " 469\n",
        "referred for insterval of"
       ]
      },
      {
       "output_type": "stream",
       "stream": "stdout",
       "text": [
        " 297\n",
        "referred for insterval of"
       ]
      },
      {
       "output_type": "stream",
       "stream": "stdout",
       "text": [
        " 212\n",
        "referred for insterval of"
       ]
      },
      {
       "output_type": "stream",
       "stream": "stdout",
       "text": [
        " 175\n",
        "referred for insterval of"
       ]
      },
      {
       "output_type": "stream",
       "stream": "stdout",
       "text": [
        " 198\n",
        "referred for insterval of"
       ]
      },
      {
       "output_type": "stream",
       "stream": "stdout",
       "text": [
        " 314\n",
        "referred for insterval of"
       ]
      },
      {
       "output_type": "stream",
       "stream": "stdout",
       "text": [
        " 193\n",
        "referred for insterval of"
       ]
      },
      {
       "output_type": "stream",
       "stream": "stdout",
       "text": [
        " 226\n",
        "referred for insterval of"
       ]
      },
      {
       "output_type": "stream",
       "stream": "stdout",
       "text": [
        " 7\n",
        "referred for insterval of"
       ]
      },
      {
       "output_type": "stream",
       "stream": "stdout",
       "text": [
        " 37\n",
        "referred for insterval of"
       ]
      },
      {
       "output_type": "stream",
       "stream": "stdout",
       "text": [
        " 87\n",
        "referred for insterval of"
       ]
      },
      {
       "output_type": "stream",
       "stream": "stdout",
       "text": [
        " 67\n",
        "referred for insterval of"
       ]
      },
      {
       "output_type": "stream",
       "stream": "stdout",
       "text": [
        " 7\n",
        "referred for insterval of"
       ]
      },
      {
       "output_type": "stream",
       "stream": "stdout",
       "text": [
        " 10\n",
        "referred for insterval of"
       ]
      },
      {
       "output_type": "stream",
       "stream": "stdout",
       "text": [
        " 35\n",
        "referred for insterval of"
       ]
      },
      {
       "output_type": "stream",
       "stream": "stdout",
       "text": [
        " 241\n",
        "referred for insterval of"
       ]
      },
      {
       "output_type": "stream",
       "stream": "stdout",
       "text": [
        " 243\n",
        "referred for insterval of"
       ]
      },
      {
       "output_type": "stream",
       "stream": "stdout",
       "text": [
        " 136\n",
        "referred for insterval of"
       ]
      },
      {
       "output_type": "stream",
       "stream": "stdout",
       "text": [
        " 301\n",
        "referred for insterval of"
       ]
      },
      {
       "output_type": "stream",
       "stream": "stdout",
       "text": [
        " 17\n",
        "referred for insterval of"
       ]
      },
      {
       "output_type": "stream",
       "stream": "stdout",
       "text": [
        " 355\n",
        "referred for insterval of"
       ]
      },
      {
       "output_type": "stream",
       "stream": "stdout",
       "text": [
        " 0\n",
        "referred for insterval of"
       ]
      },
      {
       "output_type": "stream",
       "stream": "stdout",
       "text": [
        " 605\n",
        "referred for insterval of"
       ]
      },
      {
       "output_type": "stream",
       "stream": "stdout",
       "text": [
        " 626\n",
        "referred for insterval of"
       ]
      },
      {
       "output_type": "stream",
       "stream": "stdout",
       "text": [
        " 290\n",
        "                 SN   NO  interval  PTD    P        FGM        FGA       FGP  \\\n",
        "0   20081227.DETMIL  153      2880  -11   76  35.215164  72.279493  0.487208   \n",
        "1   20081230.MILSAS  136      2880    2  100  34.979757  72.291498  0.483871   \n",
        "2   20081231.MILHOU  190      2880   -4   81  34.979757  72.291498  0.483871   \n",
        "3   20090102.CHAMIL  105      2880   28  103  34.979757  72.291498  0.483871   \n",
        "4   20090103.MILCHA  253      2880  -10   92  34.979757  72.291498  0.483871   \n",
        "5   20090105.TORMIL  120      2880   10  107  34.979757  72.291498  0.483871   \n",
        "6   20090107.PHIMIL  300      2880   -5  105  34.979757  72.291498  0.483871   \n",
        "7   20090109.NJNMIL  210      2880    2  104  34.247741  70.676859  0.484568   \n",
        "8   20090110.MILMIN  153      2880   -2  104  34.601943  71.458136  0.484227   \n",
        "9   20090112.MILWAS  190      2880    6   97  34.979757  72.291498  0.483871   \n",
        "10  20090114.MIAMIL  120      2880   -3   99  34.979757  72.291498  0.483871   \n",
        "11  20090116.MILSAC  190      2880    7  129  34.979757  72.291498  0.483871   \n",
        "12  20090117.MILLAC  231      2880   -9   92  34.979757  72.291498  0.483871   \n",
        "13  20090119.MILPOR  171      2880  -17   85  34.979757  72.291498  0.483871   \n",
        "14  20090121.DALMIL  210      2880   34  133  34.979757  72.291498  0.483871   \n",
        "15  20090124.SACMIL  253      2880    2  106  34.979757  72.291498  0.483871   \n",
        "16  20090126.MINMIL  210      2880   -7   83  34.979757  72.291498  0.483871   \n",
        "17  20090128.MILIND  253      2880   -8   99  32.582996  67.004858  0.486278   \n",
        "18  20090130.MILTOR  253      2880   11   96  33.665277  69.392093  0.485146   \n",
        "19  20090203.MILNJN  171      2880  -14   85  34.979757  72.291498  0.483871   \n",
        "20  20090207.DETMIL  351      3180   -5  121  38.336185  79.188160  0.484115   \n",
        "21  20090209.HOUMIL  253      2880   12  124  34.263484  70.711583  0.484553   \n",
        "22  20090211.INDMIL  253      2880   12  122  34.979757  72.291498  0.483871   \n",
        "23  20090217.MILDET  190      2880    6   92  34.979757  72.291498  0.483871   \n",
        "24  20090218.CHIMIL  231      2880   -9  104  34.979757  72.291498  0.483871   \n",
        "25  20090220.CLEMIL  276      2880   -8  103  34.979757  72.291498  0.483871   \n",
        "26  20090222.DENMIL  253      2880    3  120  34.979757  72.291498  0.483871   \n",
        "27  20090225.MILDAL  210      2880  -20   96  34.979757  72.291498  0.483871   \n",
        "28  20090227.MILNOH  210      2880   -1   94  33.048583  71.900405  0.459644   \n",
        "29  20090228.WASMIL  351      2880   16  109  35.088406  72.285957  0.485411   \n",
        "30  20090303.NJNMIL  300      2880   -4   95  34.979757  72.291498  0.483871   \n",
        "31  20090304.MILCLE  171      2880  -18   73  35.263452  72.277030  0.487893   \n",
        "32  20090306.MILCHI  190      2880  -15  102  31.660501  65.580276  0.482775   \n",
        "33  20090307.GSWMIL  210      2880    7  127  33.664066  70.645378  0.476522   \n",
        "34  20090310.NYKMIL  171      2880   -8  112  32.512330  68.709224  0.473187   \n",
        "35  20090313.NOHMIL  120      2880   -9   86  34.181262  72.129790  0.473886   \n",
        "36  20090315.BOSMIL  253      2880    9   86  34.722464  72.239392  0.480658   \n",
        "37  20090318.ORLMIL  190      2880  -26   80  35.129251  72.429205  0.485015   \n",
        "38  20090321.PORMIL  153      2880  -12   84  34.959055  72.287306  0.483613   \n",
        "39  20090325.MILTOR  171      2880   -9  106  34.979757  72.291498  0.483871   \n",
        "40  20090327.MILORL  276      2880  -16   94  34.979757  72.291498  0.483871   \n",
        "41  20090328.MILMIA  171      2880  -17   85  34.979757  72.291498  0.483871   \n",
        "42  20090330.MILNJN  190      2880   29  107  34.979757  72.291498  0.483871   \n",
        "43  20090401.LALMIL  276      2880   -6   98  34.979757  72.291498  0.483871   \n",
        "44  20090402.MILPHI  231      2880  -10   95  35.301006  69.717226  0.506346   \n",
        "45  20090404.MEMMIL  171      2880   -5  102  33.259914  68.497965  0.485561   \n",
        "46  20090408.ATLMIL  231      2880   -8  105  35.017688  72.326439  0.484162   \n",
        "47  20090411.OKCMIL   78      2880   17  115  40.774384  71.995985  0.566342   \n",
        "48  20090413.ORLMIL  136      2880   18   98  36.376518  73.578138  0.494393   \n",
        "49  20090415.MILIND  153      2880   -7  108  33.838442  69.774051  0.484972   \n",
        "\n",
        "          B3M        B3A    ...          DRBP        TRB      TRBP        TOV  \\\n",
        "0    9.330545  16.296222    ...      0.507861  44.416783  0.276884  13.866892   \n",
        "1    9.327935  16.323887    ...      0.522244  44.307692  0.283465  13.991903   \n",
        "2    9.327935  16.323887    ...      0.479308  44.307692  0.249892  13.991903   \n",
        "3    9.327935  16.323887    ...      0.555413  44.307692  0.311351  13.991903   \n",
        "4    9.327935  16.323887    ...      0.442895  44.307692  0.223429  13.991903   \n",
        "5    9.327935  16.323887    ...      0.538318  44.307692  0.296754  13.991903   \n",
        "6    9.327935  16.323887    ...      0.421546  44.307692  0.208696  13.991903   \n",
        "7    8.725506  15.575054    ...      0.467276  42.056991  0.231010  14.309934   \n",
        "8    9.017004  15.937393    ...      0.508409  43.146040  0.266094  14.156048   \n",
        "9    9.327935  16.323887    ...      0.479308  44.307692  0.249892  13.991903   \n",
        "10   9.327935  16.323887    ...      0.538318  44.307692  0.296754  13.991903   \n",
        "11   9.327935  16.323887    ...      0.479308  44.307692  0.249892  13.991903   \n",
        "12   9.327935  16.323887    ...      0.454402  44.307692  0.231604  13.991903   \n",
        "13   9.327935  16.323887    ...      0.492813  44.307692  0.260163  13.991903   \n",
        "14   9.327935  16.323887    ...      0.466523  44.307692  0.240401  13.991903   \n",
        "15   9.327935  16.323887    ...      0.442895  44.307692  0.223429  13.991903   \n",
        "16   9.327935  16.323887    ...      0.466523  44.307692  0.240401  13.991903   \n",
        "17   7.355466  13.872065    ...      0.407575  36.938462  0.193457  15.033198   \n",
        "18   8.246154  14.979209    ...      0.426819  40.266111  0.207273  14.562991   \n",
        "19   9.327935  16.323887    ...      0.492813  44.307692  0.260163  13.991903   \n",
        "20  10.063158  17.730395    ...      0.436630  48.039737  0.208832  15.574211   \n",
        "21   8.738462  15.591158    ...      0.436929  42.105393  0.214708  14.303095   \n",
        "22   9.327935  16.323887    ...      0.442895  44.307692  0.223429  13.991903   \n",
        "23   9.327935  16.323887    ...      0.479308  44.307692  0.249892  13.991903   \n",
        "24   9.327935  16.323887    ...      0.454402  44.307692  0.231604  13.991903   \n",
        "25   9.327935  16.323887    ...      0.431957  44.307692  0.215811  13.991903   \n",
        "26   9.327935  16.323887    ...      0.442895  44.307692  0.223429  13.991903   \n",
        "27   9.327935  16.323887    ...      0.466523  44.307692  0.240401  13.991903   \n",
        "28   9.212955  20.622672    ...      0.474020  44.261538  0.235107  14.819433   \n",
        "29   9.329140  16.311119    ...      0.402497  44.358042  0.198596  13.934206   \n",
        "30   9.327935  16.323887    ...      0.421546  44.307692  0.208696  13.991903   \n",
        "31   9.331080  16.290548    ...      0.493728  44.439161  0.265405  13.841249   \n",
        "32   6.828827  13.918049    ...      0.440649  35.031396  0.203634  15.432173   \n",
        "33   8.723805  17.014964    ...      0.464109  42.175113  0.226535  14.559788   \n",
        "34   8.006250  16.816832    ...      0.485073  39.554187  0.233283  15.058376   \n",
        "35   9.280394  18.101332    ...      0.541436  44.288609  0.274592  14.334067   \n",
        "36   9.312616  16.896619    ...      0.443898  44.301543  0.218988  14.102156   \n",
        "37   9.324989  16.372245    ...      0.478081  44.240182  0.251022  13.880454   \n",
        "38   9.326703  16.369969    ...      0.507184  44.307198  0.264825  14.000774   \n",
        "39   9.327935  16.323887    ...      0.492813  44.307692  0.260163  13.991903   \n",
        "40   9.327935  16.323887    ...      0.431957  44.307692  0.215811  13.991903   \n",
        "41   9.327935  16.323887    ...      0.492813  44.307692  0.260163  13.991903   \n",
        "42   9.327935  16.323887    ...      0.479308  44.307692  0.249892  13.991903   \n",
        "43   9.327935  16.323887    ...      0.431957  44.307692  0.215811  13.991903   \n",
        "44   8.411269  14.993454    ...      0.458976  41.496862  0.223707  13.711835   \n",
        "45   7.912551  14.564533    ...      0.477784  39.019755  0.236455  14.739105   \n",
        "46   9.327188  16.336157    ...      0.454093  44.290563  0.232752  13.963625   \n",
        "47   9.392177  15.642922    ...      0.610395  46.993007  0.364307  10.914712   \n",
        "48   9.300405  16.775709    ...      0.510528  43.676923  0.282375  12.950607   \n",
        "49   8.388664  15.156352    ...      0.495489  40.798535  0.255312  14.487758   \n",
        "\n",
        "        TOVP        STL        BLK          F  oppORB  oppDRB  \n",
        "0   0.135197   9.266082   9.330545  25.433379      34      82  \n",
        "1   0.136240   9.327935   9.327935  25.651822      32      80  \n",
        "2   0.136240   9.327935   9.327935  25.651822      38      95  \n",
        "3   0.136240   9.327935   9.327935  25.651822      28      70  \n",
        "4   0.136240   9.327935   9.327935  25.651822      44     110  \n",
        "5   0.136240   9.327935   9.327935  25.651822      30      75  \n",
        "6   0.136240   9.327935   9.327935  25.651822      48     120  \n",
        "7   0.140354   9.641762   9.030925  25.827654      38     102  \n",
        "8   0.138356   9.489910   9.174640  25.742574      33      86  \n",
        "9   0.136240   9.327935   9.327935  25.651822      38      95  \n",
        "10  0.136240   9.327935   9.327935  25.651822      30      75  \n",
        "11  0.136240   9.327935   9.327935  25.651822      38      95  \n",
        "12  0.136240   9.327935   9.327935  25.651822      42     105  \n",
        "13  0.136240   9.327935   9.327935  25.651822      36      90  \n",
        "14  0.136240   9.327935   9.327935  25.651822      40     100  \n",
        "15  0.136240   9.327935   9.327935  25.651822      44     110  \n",
        "16  0.136240   9.327935   9.327935  25.651822      40     100  \n",
        "17  0.149937  10.355466   8.355466  26.227530      43     111  \n",
        "18  0.143670   9.891474   8.794594  25.967563      43     111  \n",
        "19  0.136240   9.327935   9.327935  25.651822      36      90  \n",
        "20  0.137695  10.422764  10.183027  28.392896      49     133  \n",
        "21  0.140265   9.635013   9.037312  25.823873      43     111  \n",
        "22  0.136240   9.327935   9.327935  25.651822      44     110  \n",
        "23  0.136240   9.327935   9.327935  25.651822      38      95  \n",
        "24  0.136240   9.327935   9.327935  25.651822      42     105  \n",
        "25  0.136240   9.327935   9.327935  25.651822      46     115  \n",
        "26  0.136240   9.327935   9.327935  25.651822      44     110  \n",
        "27  0.136240   9.327935   9.327935  25.651822      40     100  \n",
        "28  0.144587   9.212955   9.212955  28.835628      40     104  \n",
        "29  0.135759   9.299388   9.329140  25.551002      52     127  \n",
        "30  0.136240   9.327935   9.327935  25.651822      48     120  \n",
        "31  0.134983   9.253394   9.331080  25.388570      36      87  \n",
        "32  0.154937  10.602226   8.086627  26.878141      36     101  \n",
        "33  0.142836   9.585874   9.011161  26.850895      39     105  \n",
        "34  0.149038   9.932358   8.648286  27.552405      34      96  \n",
        "35  0.139687   9.280394   9.280394  26.968250      30      87  \n",
        "36  0.137350   9.312616   9.312616  26.076004      44     114  \n",
        "37  0.135127   9.324989   9.324989  25.590204      38      94  \n",
        "38  0.136329   9.326703   9.326703  25.685951      34      89  \n",
        "39  0.136240   9.327935   9.327935  25.651822      36      90  \n",
        "40  0.136240   9.327935   9.327935  25.651822      46     115  \n",
        "41  0.136240   9.327935   9.327935  25.651822      36      90  \n",
        "42  0.136240   9.327935   9.327935  25.651822      38      95  \n",
        "43  0.136240   9.327935   9.327935  25.651822      46     115  \n",
        "44  0.136125   9.431641   8.884176  24.574214      39     105  \n",
        "45  0.146001  10.065260   8.630120  26.064933      34      92  \n",
        "46  0.135957   9.327188   9.327188  25.636188      42     104  \n",
        "47  0.109761   7.805400   9.392177  20.274768      24      58  \n",
        "48  0.125859   9.300405   9.300405  25.076113      32      79  \n",
        "49  0.142680   9.817235   8.864854  25.925969      33      86  \n",
        "\n",
        "[50 rows x 27 columns]"
       ]
      },
      {
       "output_type": "stream",
       "stream": "stdout",
       "text": [
        "\n",
        "PHI\n",
        "referred for insterval of"
       ]
      },
      {
       "output_type": "stream",
       "stream": "stdout",
       "text": [
        " 515\n",
        "referred for insterval of"
       ]
      },
      {
       "output_type": "stream",
       "stream": "stdout",
       "text": [
        " 54\n",
        "referred for insterval of"
       ]
      },
      {
       "output_type": "stream",
       "stream": "stdout",
       "text": [
        " 287\n",
        "referred for insterval of"
       ]
      },
      {
       "output_type": "stream",
       "stream": "stdout",
       "text": [
        " 246\n",
        "referred for insterval of"
       ]
      },
      {
       "output_type": "stream",
       "stream": "stdout",
       "text": [
        " 323\n",
        "referred for insterval of"
       ]
      },
      {
       "output_type": "stream",
       "stream": "stdout",
       "text": [
        " 350\n",
        "referred for insterval of"
       ]
      },
      {
       "output_type": "stream",
       "stream": "stdout",
       "text": [
        " 490\n",
        "referred for insterval of"
       ]
      },
      {
       "output_type": "stream",
       "stream": "stdout",
       "text": [
        " 121\n",
        "referred for insterval of"
       ]
      },
      {
       "output_type": "stream",
       "stream": "stdout",
       "text": [
        " 518\n",
        "referred for insterval of"
       ]
      },
      {
       "output_type": "stream",
       "stream": "stdout",
       "text": [
        " 548\n",
        "referred for insterval of"
       ]
      },
      {
       "output_type": "stream",
       "stream": "stdout",
       "text": [
        " 568\n",
        "referred for insterval of"
       ]
      },
      {
       "output_type": "stream",
       "stream": "stdout",
       "text": [
        " 417\n",
        "referred for insterval of"
       ]
      },
      {
       "output_type": "stream",
       "stream": "stdout",
       "text": [
        " 185\n",
        "referred for insterval of"
       ]
      },
      {
       "output_type": "stream",
       "stream": "stdout",
       "text": [
        " 126\n",
        "referred for insterval of"
       ]
      },
      {
       "output_type": "stream",
       "stream": "stdout",
       "text": [
        " 482\n",
        "referred for insterval of"
       ]
      },
      {
       "output_type": "stream",
       "stream": "stdout",
       "text": [
        " 82\n",
        "referred for insterval of"
       ]
      },
      {
       "output_type": "stream",
       "stream": "stdout",
       "text": [
        " 395\n",
        "referred for insterval of"
       ]
      },
      {
       "output_type": "stream",
       "stream": "stdout",
       "text": [
        " 510\n",
        "referred for insterval of"
       ]
      },
      {
       "output_type": "stream",
       "stream": "stdout",
       "text": [
        " 577\n",
        "referred for insterval of"
       ]
      },
      {
       "output_type": "stream",
       "stream": "stdout",
       "text": [
        " 548\n",
        "referred for insterval of"
       ]
      },
      {
       "output_type": "stream",
       "stream": "stdout",
       "text": [
        " 523\n",
        "referred for insterval of"
       ]
      },
      {
       "output_type": "stream",
       "stream": "stdout",
       "text": [
        " 479\n",
        "referred for insterval of"
       ]
      },
      {
       "output_type": "stream",
       "stream": "stdout",
       "text": [
        " 625\n",
        "referred for insterval of"
       ]
      },
      {
       "output_type": "stream",
       "stream": "stdout",
       "text": [
        " 143\n",
        "referred for insterval of"
       ]
      },
      {
       "output_type": "stream",
       "stream": "stdout",
       "text": [
        " 62\n",
        "referred for insterval of"
       ]
      },
      {
       "output_type": "stream",
       "stream": "stdout",
       "text": [
        " 76\n",
        "referred for insterval of"
       ]
      },
      {
       "output_type": "stream",
       "stream": "stdout",
       "text": [
        " 262\n",
        "referred for insterval of"
       ]
      },
      {
       "output_type": "stream",
       "stream": "stdout",
       "text": [
        " 400\n",
        "referred for insterval of"
       ]
      },
      {
       "output_type": "stream",
       "stream": "stdout",
       "text": [
        " 40\n",
        "referred for insterval of"
       ]
      },
      {
       "output_type": "stream",
       "stream": "stdout",
       "text": [
        " 537\n",
        "referred for insterval of"
       ]
      },
      {
       "output_type": "stream",
       "stream": "stdout",
       "text": [
        " 57\n",
        "referred for insterval of"
       ]
      },
      {
       "output_type": "stream",
       "stream": "stdout",
       "text": [
        " 550\n",
        "referred for insterval of"
       ]
      },
      {
       "output_type": "stream",
       "stream": "stdout",
       "text": [
        " 566\n",
        "referred for insterval of"
       ]
      },
      {
       "output_type": "stream",
       "stream": "stdout",
       "text": [
        " 555\n",
        "referred for insterval of"
       ]
      },
      {
       "output_type": "stream",
       "stream": "stdout",
       "text": [
        " 429\n",
        "referred for insterval of"
       ]
      },
      {
       "output_type": "stream",
       "stream": "stdout",
       "text": [
        " 634\n",
        "referred for insterval of"
       ]
      },
      {
       "output_type": "stream",
       "stream": "stdout",
       "text": [
        " 153\n",
        "referred for insterval of"
       ]
      },
      {
       "output_type": "stream",
       "stream": "stdout",
       "text": [
        " 508\n",
        "referred for insterval of"
       ]
      },
      {
       "output_type": "stream",
       "stream": "stdout",
       "text": [
        " 513\n",
        "referred for insterval of"
       ]
      },
      {
       "output_type": "stream",
       "stream": "stdout",
       "text": [
        " 658\n",
        "referred for insterval of"
       ]
      },
      {
       "output_type": "stream",
       "stream": "stdout",
       "text": [
        " 399\n",
        "referred for insterval of"
       ]
      },
      {
       "output_type": "stream",
       "stream": "stdout",
       "text": [
        " 120\n",
        "referred for insterval of"
       ]
      },
      {
       "output_type": "stream",
       "stream": "stdout",
       "text": [
        " 682\n",
        "referred for insterval of"
       ]
      },
      {
       "output_type": "stream",
       "stream": "stdout",
       "text": [
        " 26\n",
        "referred for insterval of"
       ]
      },
      {
       "output_type": "stream",
       "stream": "stdout",
       "text": [
        " 307\n",
        "referred for insterval of"
       ]
      },
      {
       "output_type": "stream",
       "stream": "stdout",
       "text": [
        " 579\n",
        "referred for insterval of"
       ]
      },
      {
       "output_type": "stream",
       "stream": "stdout",
       "text": [
        " 306\n",
        "referred for insterval of"
       ]
      },
      {
       "output_type": "stream",
       "stream": "stdout",
       "text": [
        " 641\n",
        "referred for insterval of"
       ]
      },
      {
       "output_type": "stream",
       "stream": "stdout",
       "text": [
        " 629\n",
        "referred for insterval of"
       ]
      },
      {
       "output_type": "stream",
       "stream": "stdout",
       "text": [
        " 557\n",
        "referred for insterval of"
       ]
      },
      {
       "output_type": "stream",
       "stream": "stdout",
       "text": [
        " 198\n",
        "referred for insterval of"
       ]
      },
      {
       "output_type": "stream",
       "stream": "stdout",
       "text": [
        " 587\n",
        "referred for insterval of"
       ]
      },
      {
       "output_type": "stream",
       "stream": "stdout",
       "text": [
        " 214\n",
        "referred for insterval of"
       ]
      },
      {
       "output_type": "stream",
       "stream": "stdout",
       "text": [
        " 388\n",
        "referred for insterval of"
       ]
      },
      {
       "output_type": "stream",
       "stream": "stdout",
       "text": [
        " 22\n",
        "referred for insterval of"
       ]
      },
      {
       "output_type": "stream",
       "stream": "stdout",
       "text": [
        " 601\n",
        "referred for insterval of"
       ]
      },
      {
       "output_type": "stream",
       "stream": "stdout",
       "text": [
        " 503\n",
        "referred for insterval of"
       ]
      },
      {
       "output_type": "stream",
       "stream": "stdout",
       "text": [
        " 266\n",
        "referred for insterval of"
       ]
      },
      {
       "output_type": "stream",
       "stream": "stdout",
       "text": [
        " 108\n",
        "referred for insterval of"
       ]
      },
      {
       "output_type": "stream",
       "stream": "stdout",
       "text": [
        " 551\n",
        "referred for insterval of"
       ]
      },
      {
       "output_type": "stream",
       "stream": "stdout",
       "text": [
        " 693\n",
        "referred for insterval of"
       ]
      },
      {
       "output_type": "stream",
       "stream": "stdout",
       "text": [
        " 627\n",
        "referred for insterval of"
       ]
      },
      {
       "output_type": "stream",
       "stream": "stdout",
       "text": [
        " 606\n",
        "referred for insterval of"
       ]
      },
      {
       "output_type": "stream",
       "stream": "stdout",
       "text": [
        " 151\n",
        "referred for insterval of"
       ]
      },
      {
       "output_type": "stream",
       "stream": "stdout",
       "text": [
        " 277\n",
        "referred for insterval of"
       ]
      },
      {
       "output_type": "stream",
       "stream": "stdout",
       "text": [
        " 431\n",
        "referred for insterval of"
       ]
      },
      {
       "output_type": "stream",
       "stream": "stdout",
       "text": [
        " 154\n",
        "referred for insterval of"
       ]
      },
      {
       "output_type": "stream",
       "stream": "stdout",
       "text": [
        " 316\n",
        "referred for insterval of"
       ]
      },
      {
       "output_type": "stream",
       "stream": "stdout",
       "text": [
        " 209\n",
        "referred for insterval of"
       ]
      },
      {
       "output_type": "stream",
       "stream": "stdout",
       "text": [
        " 681\n",
        "referred for insterval of"
       ]
      },
      {
       "output_type": "stream",
       "stream": "stdout",
       "text": [
        " 625\n",
        "referred for insterval of"
       ]
      },
      {
       "output_type": "stream",
       "stream": "stdout",
       "text": [
        " 483\n",
        "referred for insterval of"
       ]
      },
      {
       "output_type": "stream",
       "stream": "stdout",
       "text": [
        " 202\n",
        "referred for insterval of"
       ]
      },
      {
       "output_type": "stream",
       "stream": "stdout",
       "text": [
        " 481\n",
        "referred for insterval of"
       ]
      },
      {
       "output_type": "stream",
       "stream": "stdout",
       "text": [
        " 688\n",
        "referred for insterval of"
       ]
      },
      {
       "output_type": "stream",
       "stream": "stdout",
       "text": [
        " 672\n",
        "referred for insterval of"
       ]
      },
      {
       "output_type": "stream",
       "stream": "stdout",
       "text": [
        " 160\n",
        "referred for insterval of"
       ]
      },
      {
       "output_type": "stream",
       "stream": "stdout",
       "text": [
        " 667\n",
        "referred for insterval of"
       ]
      },
      {
       "output_type": "stream",
       "stream": "stdout",
       "text": [
        " 503\n",
        "referred for insterval of"
       ]
      },
      {
       "output_type": "stream",
       "stream": "stdout",
       "text": [
        " 264\n",
        "referred for insterval of"
       ]
      },
      {
       "output_type": "stream",
       "stream": "stdout",
       "text": [
        " 491\n",
        "referred for insterval of"
       ]
      },
      {
       "output_type": "stream",
       "stream": "stdout",
       "text": [
        " 565\n",
        "referred for insterval of"
       ]
      },
      {
       "output_type": "stream",
       "stream": "stdout",
       "text": [
        " 89\n",
        "referred for insterval of"
       ]
      },
      {
       "output_type": "stream",
       "stream": "stdout",
       "text": [
        " 481\n",
        "referred for insterval of"
       ]
      },
      {
       "output_type": "stream",
       "stream": "stdout",
       "text": [
        " 439\n",
        "referred for insterval of"
       ]
      },
      {
       "output_type": "stream",
       "stream": "stdout",
       "text": [
        " 63\n",
        "referred for insterval of"
       ]
      },
      {
       "output_type": "stream",
       "stream": "stdout",
       "text": [
        " 607\n",
        "referred for insterval of"
       ]
      },
      {
       "output_type": "stream",
       "stream": "stdout",
       "text": [
        " 679\n",
        "referred for insterval of"
       ]
      },
      {
       "output_type": "stream",
       "stream": "stdout",
       "text": [
        " 505\n",
        "referred for insterval of"
       ]
      },
      {
       "output_type": "stream",
       "stream": "stdout",
       "text": [
        " 654\n",
        "referred for insterval of"
       ]
      },
      {
       "output_type": "stream",
       "stream": "stdout",
       "text": [
        " 194\n",
        "referred for insterval of"
       ]
      },
      {
       "output_type": "stream",
       "stream": "stdout",
       "text": [
        " 637\n",
        "referred for insterval of"
       ]
      },
      {
       "output_type": "stream",
       "stream": "stdout",
       "text": [
        " 534\n",
        "referred for insterval of"
       ]
      },
      {
       "output_type": "stream",
       "stream": "stdout",
       "text": [
        " 614\n",
        "referred for insterval of"
       ]
      },
      {
       "output_type": "stream",
       "stream": "stdout",
       "text": [
        " 559\n",
        "referred for insterval of"
       ]
      },
      {
       "output_type": "stream",
       "stream": "stdout",
       "text": [
        " 585\n",
        "referred for insterval of"
       ]
      },
      {
       "output_type": "stream",
       "stream": "stdout",
       "text": [
        " 486\n",
        "referred for insterval of"
       ]
      },
      {
       "output_type": "stream",
       "stream": "stdout",
       "text": [
        " 519\n",
        "referred for insterval of"
       ]
      },
      {
       "output_type": "stream",
       "stream": "stdout",
       "text": [
        " 476\n",
        "referred for insterval of"
       ]
      },
      {
       "output_type": "stream",
       "stream": "stdout",
       "text": [
        " 561\n",
        "referred for insterval of"
       ]
      },
      {
       "output_type": "stream",
       "stream": "stdout",
       "text": [
        " 420\n",
        "referred for insterval of"
       ]
      },
      {
       "output_type": "stream",
       "stream": "stdout",
       "text": [
        " 29\n",
        "referred for insterval of"
       ]
      },
      {
       "output_type": "stream",
       "stream": "stdout",
       "text": [
        " 576.0\n",
        "referred for insterval of"
       ]
      },
      {
       "output_type": "stream",
       "stream": "stdout",
       "text": [
        " 589.0\n",
        "referred for insterval of"
       ]
      },
      {
       "output_type": "stream",
       "stream": "stdout",
       "text": [
        " 59.0\n",
        "referred for insterval of"
       ]
      },
      {
       "output_type": "stream",
       "stream": "stdout",
       "text": [
        " 206\n",
        "referred for insterval of"
       ]
      },
      {
       "output_type": "stream",
       "stream": "stdout",
       "text": [
        " 574\n",
        "referred for insterval of"
       ]
      },
      {
       "output_type": "stream",
       "stream": "stdout",
       "text": [
        " 472\n",
        "referred for insterval of"
       ]
      },
      {
       "output_type": "stream",
       "stream": "stdout",
       "text": [
        " 575\n",
        "referred for insterval of"
       ]
      },
      {
       "output_type": "stream",
       "stream": "stdout",
       "text": [
        " 406\n",
        "referred for insterval of"
       ]
      },
      {
       "output_type": "stream",
       "stream": "stdout",
       "text": [
        " 436\n",
        "referred for insterval of"
       ]
      },
      {
       "output_type": "stream",
       "stream": "stdout",
       "text": [
        " 585\n",
        "referred for insterval of 131\n",
        "referred for insterval of"
       ]
      },
      {
       "output_type": "stream",
       "stream": "stdout",
       "text": [
        " 642\n",
        "referred for insterval of"
       ]
      },
      {
       "output_type": "stream",
       "stream": "stdout",
       "text": [
        " 50\n",
        "referred for insterval of"
       ]
      },
      {
       "output_type": "stream",
       "stream": "stdout",
       "text": [
        " 154\n",
        "referred for insterval of"
       ]
      },
      {
       "output_type": "stream",
       "stream": "stdout",
       "text": [
        " 494\n",
        "referred for insterval of"
       ]
      },
      {
       "output_type": "stream",
       "stream": "stdout",
       "text": [
        " 65\n",
        "referred for insterval of"
       ]
      },
      {
       "output_type": "stream",
       "stream": "stdout",
       "text": [
        " 359\n",
        "referred for insterval of"
       ]
      },
      {
       "output_type": "stream",
       "stream": "stdout",
       "text": [
        " 328\n",
        "referred for insterval of"
       ]
      },
      {
       "output_type": "stream",
       "stream": "stdout",
       "text": [
        " 125\n",
        "referred for insterval of"
       ]
      },
      {
       "output_type": "stream",
       "stream": "stdout",
       "text": [
        " 289\n",
        "referred for insterval of"
       ]
      },
      {
       "output_type": "stream",
       "stream": "stdout",
       "text": [
        " 903\n",
        "referred for insterval of"
       ]
      },
      {
       "output_type": "stream",
       "stream": "stdout",
       "text": [
        " 554\n",
        "referred for insterval of"
       ]
      },
      {
       "output_type": "stream",
       "stream": "stdout",
       "text": [
        " 430\n",
        "referred for insterval of"
       ]
      },
      {
       "output_type": "stream",
       "stream": "stdout",
       "text": [
        " 214\n",
        "referred for insterval of"
       ]
      },
      {
       "output_type": "stream",
       "stream": "stdout",
       "text": [
        " 536\n",
        "referred for insterval of"
       ]
      },
      {
       "output_type": "stream",
       "stream": "stdout",
       "text": [
        " 85\n",
        "referred for insterval of"
       ]
      },
      {
       "output_type": "stream",
       "stream": "stdout",
       "text": [
        " 304\n",
        "referred for insterval of"
       ]
      },
      {
       "output_type": "stream",
       "stream": "stdout",
       "text": [
        " 720\n",
        "referred for insterval of"
       ]
      },
      {
       "output_type": "stream",
       "stream": "stdout",
       "text": [
        " 574\n",
        "referred for insterval of"
       ]
      },
      {
       "output_type": "stream",
       "stream": "stdout",
       "text": [
        " 342\n",
        "referred for insterval of"
       ]
      },
      {
       "output_type": "stream",
       "stream": "stdout",
       "text": [
        " 591\n",
        "referred for insterval of"
       ]
      },
      {
       "output_type": "stream",
       "stream": "stdout",
       "text": [
        " 49\n",
        "referred for insterval of"
       ]
      },
      {
       "output_type": "stream",
       "stream": "stdout",
       "text": [
        " 126\n",
        "referred for insterval of"
       ]
      },
      {
       "output_type": "stream",
       "stream": "stdout",
       "text": [
        " 462\n",
        "referred for insterval of"
       ]
      },
      {
       "output_type": "stream",
       "stream": "stdout",
       "text": [
        " 47\n",
        "referred for insterval of"
       ]
      },
      {
       "output_type": "stream",
       "stream": "stdout",
       "text": [
        " 464\n",
        "referred for insterval of"
       ]
      },
      {
       "output_type": "stream",
       "stream": "stdout",
       "text": [
        " 166\n",
        "referred for insterval of"
       ]
      },
      {
       "output_type": "stream",
       "stream": "stdout",
       "text": [
        " 458\n",
        "referred for insterval of"
       ]
      },
      {
       "output_type": "stream",
       "stream": "stdout",
       "text": [
        " 180\n",
        "referred for insterval of"
       ]
      },
      {
       "output_type": "stream",
       "stream": "stdout",
       "text": [
        " 348\n",
        "referred for insterval of"
       ]
      },
      {
       "output_type": "stream",
       "stream": "stdout",
       "text": [
        " 372\n",
        "referred for insterval of"
       ]
      },
      {
       "output_type": "stream",
       "stream": "stdout",
       "text": [
        " 439\n",
        "referred for insterval of 104\n",
        "referred for insterval of"
       ]
      },
      {
       "output_type": "stream",
       "stream": "stdout",
       "text": [
        " 63\n",
        "referred for insterval of"
       ]
      },
      {
       "output_type": "stream",
       "stream": "stdout",
       "text": [
        " 1\n",
        "referred for insterval of"
       ]
      },
      {
       "output_type": "stream",
       "stream": "stdout",
       "text": [
        " 420.0\n",
        "referred for insterval of"
       ]
      },
      {
       "output_type": "stream",
       "stream": "stdout",
       "text": [
        " 133.0\n",
        "                 SN   NO  interval  PTD    P        FGM        FGA       FGP  \\\n",
        "0   20081226.PHIDEN  300      2880   -4  101  44.578492  84.149228  0.529755   \n",
        "1   20081229.PHIUTA  153      2880  -17   95  44.375812  83.694013  0.530215   \n",
        "2   20081231.PHILAC  190      2880    8  100  44.659010  84.459604  0.528762   \n",
        "3   20090102.PHIDAL  210      2880  -10   86  44.509476  83.883191  0.530613   \n",
        "4   20090103.PHISAS  120      2880   -2  106  44.536097  83.985805  0.530281   \n",
        "5   20090106.HOUPHI  276      2880    8  104  43.704164  82.609421  0.529046   \n",
        "6   20090107.PHIMIL  276      2880    5  110  44.562388  84.087153  0.529955   \n",
        "7   20090109.CHAPHI  210      2880    6   93  44.490086  83.808447  0.530854   \n",
        "8   20090111.PHIATL  136      2880   15  109  44.530510  83.964269  0.530351   \n",
        "9   20090114.PORPHI  210      2880   21  100  44.352572  83.499442  0.531172   \n",
        "10  20090116.SASPHI  210      2880   22  109  44.115166  83.216872  0.530123   \n",
        "11  20090117.PHINYK  120      2880   10  107  44.493044  83.819849  0.530818   \n",
        "12  20090119.DALPHI  210      2880   -2   93  44.536425  83.987072  0.530277   \n",
        "13  20090124.NYKPHI  153      2880    6  116  44.434217  83.593084  0.531554   \n",
        "14  20090126.PHINOH  171      2880  -15   86  44.474969  83.750173  0.531043   \n",
        "15  20090128.PHIHOU  465      2880    2   95  44.689246  84.576154  0.528391   \n",
        "16  20090130.WASPHI  153      2880   10  104  44.627132  84.336721  0.529154   \n",
        "17  20090131.NJNPHI  276      2880   -2   83  44.568633  84.111223  0.529877   \n",
        "18  20090203.BOSPHI  231      2880   -1   99  44.548585  84.033945  0.530126   \n",
        "19  20090205.INDPHI  136      2880    5   99  44.404967  83.480335  0.531921   \n",
        "20  20090207.MIAPHI  136      2880   10   94  44.370006  83.539181  0.531128   \n",
        "21  20090209.PHXPHI  120      2880   17  108  44.496988  83.835051  0.530768   \n",
        "22  20090211.MEMPHI  171      2880    4   91  44.105080  83.274798  0.529633   \n",
        "23  20090217.PHIIND  171      2880   -9   91  44.426000  83.561413  0.531657   \n",
        "24  20090218.DENPHI  276      2880  -12   89  44.434921  83.748232  0.530577   \n",
        "25  20090221.PHIMIA  351      2880   -6   91  42.980042  81.182197  0.529427   \n",
        "26  20090223.PHINJN  210      2880   -2   96  44.430601  83.579149  0.531599   \n",
        "27  20090225.PHIWAS  190      2880    8  106  44.362807  83.521734  0.531153   \n",
        "28  20090227.PHINYK  105      2880    5  108  44.412855  83.510739  0.531822   \n",
        "29  20090228.ORLPHI  253      2880   -6  100  44.588023  84.185966  0.529637   \n",
        "30  20090302.NOHPHI  153      2880   -7   91  44.607742  84.261977  0.529393   \n",
        "31  20090307.PHIMEM  190      2880    5  110  44.112074  83.134550  0.530611   \n",
        "32  20090308.PHIOKC  210      2880  -15   74  44.273825  83.529245  0.530040   \n",
        "33  20090311.TORPHI  190      2880    9  115  44.437174  83.604486  0.531517   \n",
        "34  20090313.CHIPHI  136      2880    3  104  44.415155  83.519607  0.531793   \n",
        "35  20090315.MIAPHI  153      2880    8   85  44.474969  83.750173  0.531043   \n",
        "36  20090317.PHILAL  171      2880    1   94  44.474311  83.747639  0.531052   \n",
        "37  20090318.PHIPHX  253      2880  -10  116  44.507833  83.876857  0.530633   \n",
        "38  20090320.PHIGSW  253      2880   -8  111  44.532810  83.973137  0.530322   \n",
        "39  20090322.PHISAC  153      2880   12  112  44.527881  83.954134  0.530383   \n",
        "40  20090323.PHIPOR  351      3180    6  114  49.062747  92.300565  0.531554   \n",
        "41  20090325.MINPHI  190      2880    8   96  44.516049  83.908528  0.530531   \n",
        "42  20090327.CHAPHI  253      2880   -5   95  44.537411  83.990873  0.530265   \n",
        "43  20090329.PHIDET  190      2880   -4   97  44.716523  84.681302  0.528057   \n",
        "44  20090331.ATLPHI  171      2880   13   98  43.059577  80.869837  0.532455   \n",
        "45  20090402.MILPHI  300      2880   10  105  43.806268  82.605624  0.530306   \n",
        "46  20090404.DETPHI  231      2880    5   95  39.681240  74.941346  0.529497   \n",
        "47  20090405.PHINJN  153      2880  -29   67  43.982049  82.843427  0.530906   \n",
        "48  20090407.PHICHA  190      2880   -3   98  42.439459  80.084311  0.529935   \n",
        "49  20090409.PHICHI  136      2880  -14   99  42.165791  79.164929  0.532632   \n",
        "50  20090410.CLEPHI  276      2880  -10   92  42.921027  80.776823  0.531353   \n",
        "51  20090412.PHITOR  171      2880   -7  104  42.479620  80.034332  0.530767   \n",
        "52  20090414.BOSPHI  378      2880   -2   98  44.155526  82.999319  0.531999   \n",
        "53  20090415.PHICLE  406      3180    1  111  49.276038  93.257008  0.528390   \n",
        "\n",
        "         B3M        B3A    ...          DRBP        TRB      TRBP        TOV  \\\n",
        "0   4.411472   9.419228    ...      0.144911  40.564544  0.058656  12.571876   \n",
        "1   4.642441   9.225751    ...      0.188556  40.010151  0.081819  11.805965   \n",
        "2   4.432797   9.291214    ...      0.191977  40.509959  0.080776  12.825482   \n",
        "3   4.393192   9.528954    ...      0.187472  40.611331  0.079535  12.354499   \n",
        "4   4.400243   9.486631    ...      0.206424  40.593284  0.087186  12.438345   \n",
        "5   4.334279   8.902842    ...      0.164466  40.140324  0.072831  12.716925   \n",
        "6   4.407206   9.444831    ...      0.178116  40.575461  0.075479  12.521155   \n",
        "7   4.388057   9.559782    ...      0.187340  40.624476  0.079558  12.293427   \n",
        "8   4.398763   9.495514    ...      0.202335  40.597072  0.085540  12.420747   \n",
        "9   4.544634   9.428750    ...      0.145051  40.248650  0.060320  11.773830   \n",
        "10  4.360750   9.266790    ...      0.172653  40.404394  0.077048  12.464438   \n",
        "11  4.388840   9.555079    ...      0.206109  40.622470  0.087243  12.302743   \n",
        "12  4.400330   9.486109    ...      0.187655  40.593062  0.079502  12.439380   \n",
        "13  4.373259   9.648608    ...      0.159809  40.662351  0.064681  12.117455   \n",
        "14  4.384053   9.583817    ...      0.194308  40.634724  0.082484  12.245811   \n",
        "15  4.440805   9.243143    ...      0.159690  40.489462  0.067427  12.920713   \n",
        "16  4.424354   9.341897    ...      0.199129  40.531570  0.083824  12.725075   \n",
        "17  4.408860   9.434903    ...      0.178157  40.571228  0.075471  12.540822   \n",
        "18  4.403550   9.466776    ...      0.184385  40.584818  0.078110  12.477679   \n",
        "19  4.365512   9.695111    ...      0.162156  40.682179  0.065650  12.025329   \n",
        "20  4.372581   9.549050    ...      0.156679  40.598319  0.064792  12.221828   \n",
        "21  4.389885   9.548809    ...      0.206138  40.619797  0.087238  12.315164   \n",
        "22  4.366243   9.182003    ...      0.186401  40.357451  0.080819  12.585978   \n",
        "23  4.371083   9.661671    ...      0.193964  40.667920  0.082546  12.091577   \n",
        "24  4.506518   9.406396    ...      0.172110  40.338465  0.074242  12.060053   \n",
        "25  4.257532   8.633427    ...      0.156171  39.873401  0.069000  12.596416   \n",
        "26  4.372302   9.654356    ...      0.186934  40.664801  0.079631  12.106069   \n",
        "27  4.532363   9.439620    ...      0.183405  40.278122  0.079400  11.812780   \n",
        "28  4.367601   9.682571    ...      0.209722  40.676832  0.089071  12.050172   \n",
        "29  4.413996   9.404075    ...      0.181411  40.558083  0.076733  12.601894   \n",
        "30  4.419218   9.372725    ...      0.198991  40.544715  0.083849  12.664002   \n",
        "31  4.353994   9.345031    ...      0.182651  40.445603  0.079548  12.343204   \n",
        "32  4.377537   9.326174    ...      0.179874  40.463067  0.078195  12.490305   \n",
        "33  4.374043   9.643905    ...      0.190445  40.660345  0.081052  12.126772   \n",
        "34  4.368211   9.678913    ...      0.162218  40.675273  0.065640  12.057418   \n",
        "35  4.384053   9.583817    ...      0.198048  40.634724  0.084019  12.245811   \n",
        "36  4.383879   9.584862    ...      0.194303  40.635170  0.082485  12.243741   \n",
        "37  4.392757   9.531567    ...      0.180880  40.612445  0.076828  12.349324   \n",
        "38  4.399372   9.491856    ...      0.181045  40.595512  0.076799  12.427993   \n",
        "39  4.398067   9.499694    ...      0.160373  40.598854  0.064586  12.412466   \n",
        "40  4.828798  10.653726    ...      0.130846  44.898035  0.052274  13.379582   \n",
        "41  4.394933   9.518504    ...      0.190991  40.606875  0.080954  12.375202   \n",
        "42  4.400591   9.484541    ...      0.181076  40.592393  0.076793  12.442485   \n",
        "43  4.448030   9.199775    ...      0.249223  40.470970  0.113532  13.006629   \n",
        "44  4.841810   8.730119    ...      0.199276  38.941266  0.104697  10.325724   \n",
        "45  5.006912   8.689271    ...      0.245631  38.943321  0.142158  10.708723   \n",
        "46  4.421134   6.797821    ...      0.250826  37.536961  0.148639  11.230758   \n",
        "47  5.120672   8.796410    ...      0.322840  38.861378  0.190626  10.304747   \n",
        "48  4.794607   8.057105    ...      0.265379  38.506424  0.163505  10.959981   \n",
        "49  5.166653   8.054421    ...      0.294986  37.756613  0.188072   9.228181   \n",
        "50  5.065230   8.338358    ...      0.217418  38.347491  0.137768  10.029644   \n",
        "51  4.924908   8.112757    ...      0.268177  38.321047  0.169322  10.419270   \n",
        "52  4.718932   9.331693    ...      0.109749  39.831796  0.045531  11.051724   \n",
        "53  5.002499  10.102266    ...      0.214746  44.468586  0.099378  13.998866   \n",
        "\n",
        "        TOVP       STL       BLK          F  oppORB  oppDRB  \n",
        "0   0.121392  5.471533  4.875249  13.366922     183     468  \n",
        "1   0.114777  5.380522  4.965352  14.019584     128     321  \n",
        "2   0.123483  5.189454  4.763834  13.392974     131     330  \n",
        "3   0.119590  5.713316  4.970746  13.344592     134     336  \n",
        "4   0.120286  5.620057  4.933912  13.353205     119     306  \n",
        "5   0.124373  5.160285  4.926000  14.488146     157     354  \n",
        "6   0.120972  5.527949  4.897531  13.361712     143     354  \n",
        "7   0.119082  5.781245  4.997577  13.338318     134     336  \n",
        "8   0.120140  5.639630  4.941642  13.351398     122     312  \n",
        "9   0.114579  5.719866  5.058798  13.780805     177     450  \n",
        "10  0.121316  5.521122  4.975833  13.871816     148     336  \n",
        "11  0.119159  5.770883  4.993484  13.339275     119     306  \n",
        "12  0.120294  5.618906  4.933457  13.353312     134     336  \n",
        "13  0.117615  5.976974  5.074885  13.320242     162     426  \n",
        "14  0.118685  5.834207  5.018495  13.333427     128     324  \n",
        "15  0.124265  5.083530  4.721997  13.402757     164     396  \n",
        "16  0.122656  5.301134  4.807945  13.382660     125     318  \n",
        "17  0.121135  5.506074  4.888891  13.363732     143     354  \n",
        "18  0.120612  5.576306  4.916631  13.357246     137     342  \n",
        "19  0.116844  6.079444  5.115357  13.310778     159     420  \n",
        "20  0.118667  5.845027  5.041139  13.447978     166     420  \n",
        "21  0.119263  5.757067  4.988027  13.340551     119     306  \n",
        "22  0.122422  5.378008  4.928492  13.942808     135     324  \n",
        "23  0.117398  6.005758  5.086253  13.317583     128     324  \n",
        "24  0.117027  5.600016  4.984924  13.656241     146     357  \n",
        "25  0.124721  5.182610  5.064247  15.300191     166     372  \n",
        "26  0.117519  5.989639  5.079887  13.319072     134     336  \n",
        "27  0.114919  5.726171  5.054654  13.746315     134     333  \n",
        "28  0.117052  6.051812  5.104443  13.313330     116     300  \n",
        "29  0.121640  5.438144  4.862061  13.370006     140     348  \n",
        "30  0.122153  5.369064  4.834776  13.376386     125     318  \n",
        "31  0.120237  5.661734  5.024690  13.816811     138     330  \n",
        "32  0.121245  5.516856  4.945757  13.693631     141     336  \n",
        "33  0.117692  5.966612  5.070792  13.321199     131     330  \n",
        "34  0.117113  6.043752  5.101260  13.314074     159     420  \n",
        "35  0.118685  5.834207  5.018495  13.333427     125     318  \n",
        "36  0.118668  5.836510  5.019405  13.333214     128     324  \n",
        "37  0.119547  5.719073  4.973020  13.344061     140     348  \n",
        "38  0.120200  5.631571  4.938459  13.352142     140     348  \n",
        "39  0.120071  5.648841  4.945280  13.350547     162     426  \n",
        "40  0.117614  6.599696  5.603566  14.707756     226     588  \n",
        "41  0.119762  5.690289  4.961651  13.346719     131     330  \n",
        "42  0.120320  5.615452  4.932093  13.353631     140     348  \n",
        "43  0.124969  4.987968  4.684253  13.411582      94     222  \n",
        "44  0.103329  5.566269  5.384674  15.971470     111     222  \n",
        "45  0.105580  5.006912  5.078894  15.452629      85     150  \n",
        "46  0.118208  4.421134  5.559562  20.093968      83     132  \n",
        "47  0.101528  5.120672  5.120672  15.362016      57     108  \n",
        "48  0.110325  4.794607  5.225393  16.968538      77     120  \n",
        "49  0.094194  5.166653  5.545390  17.772383      61     102  \n",
        "50  0.100673  5.065230  5.311078  16.670774      96     144  \n",
        "51  0.105120  4.924908  5.308075  17.073726      74     114  \n",
        "52  0.108283  5.772802  5.180000  14.288529     235     600  \n",
        "53  0.122181  5.522623  5.230053  15.072512     124     279  \n",
        "\n",
        "[54 rows x 27 columns]"
       ]
      },
      {
       "output_type": "stream",
       "stream": "stdout",
       "text": [
        "\n",
        "ATL\n",
        "referred for insterval of"
       ]
      },
      {
       "output_type": "stream",
       "stream": "stdout",
       "text": [
        " 511\n",
        "referred for insterval of"
       ]
      },
      {
       "output_type": "stream",
       "stream": "stdout",
       "text": [
        " 203\n",
        "referred for insterval of"
       ]
      },
      {
       "output_type": "stream",
       "stream": "stdout",
       "text": [
        " 141\n",
        "referred for insterval of"
       ]
      },
      {
       "output_type": "stream",
       "stream": "stdout",
       "text": [
        " 395\n",
        "referred for insterval of"
       ]
      },
      {
       "output_type": "stream",
       "stream": "stdout",
       "text": [
        " 233\n",
        "referred for insterval of"
       ]
      },
      {
       "output_type": "stream",
       "stream": "stdout",
       "text": [
        " 424\n",
        "referred for insterval of"
       ]
      },
      {
       "output_type": "stream",
       "stream": "stdout",
       "text": [
        " 687\n",
        "referred for insterval of"
       ]
      },
      {
       "output_type": "stream",
       "stream": "stdout",
       "text": [
        " 257\n",
        "referred for insterval of"
       ]
      },
      {
       "output_type": "stream",
       "stream": "stdout",
       "text": [
        " 270\n",
        "referred for insterval of"
       ]
      },
      {
       "output_type": "stream",
       "stream": "stdout",
       "text": [
        " 235\n",
        "referred for insterval of 115\n",
        "referred for insterval of"
       ]
      },
      {
       "output_type": "stream",
       "stream": "stdout",
       "text": [
        " 237\n",
        "referred for insterval of 92\n",
        "referred for insterval of"
       ]
      },
      {
       "output_type": "stream",
       "stream": "stdout",
       "text": [
        " 270\n",
        "referred for insterval of"
       ]
      },
      {
       "output_type": "stream",
       "stream": "stdout",
       "text": [
        " 486\n",
        "referred for insterval of"
       ]
      },
      {
       "output_type": "stream",
       "stream": "stdout",
       "text": [
        " 332.0\n",
        "referred for insterval of"
       ]
      },
      {
       "output_type": "stream",
       "stream": "stdout",
       "text": [
        " 457.0\n",
        "referred for insterval of"
       ]
      },
      {
       "output_type": "stream",
       "stream": "stdout",
       "text": [
        " 527.0\n",
        "referred for insterval of"
       ]
      },
      {
       "output_type": "stream",
       "stream": "stdout",
       "text": [
        " 280\n",
        "referred for insterval of"
       ]
      },
      {
       "output_type": "stream",
       "stream": "stdout",
       "text": [
        " 310\n",
        "referred for insterval of"
       ]
      },
      {
       "output_type": "stream",
       "stream": "stdout",
       "text": [
        " 93\n",
        "referred for insterval of"
       ]
      },
      {
       "output_type": "stream",
       "stream": "stdout",
       "text": [
        " 426\n",
        "referred for insterval of"
       ]
      },
      {
       "output_type": "stream",
       "stream": "stdout",
       "text": [
        " 237\n",
        "referred for insterval of"
       ]
      },
      {
       "output_type": "stream",
       "stream": "stdout",
       "text": [
        " 231\n",
        "referred for insterval of"
       ]
      },
      {
       "output_type": "stream",
       "stream": "stdout",
       "text": [
        " 1\n",
        "referred for insterval of"
       ]
      },
      {
       "output_type": "stream",
       "stream": "stdout",
       "text": [
        " 388\n",
        "referred for insterval of"
       ]
      },
      {
       "output_type": "stream",
       "stream": "stdout",
       "text": [
        " 63\n",
        "referred for insterval of"
       ]
      },
      {
       "output_type": "stream",
       "stream": "stdout",
       "text": [
        " 55\n",
        "referred for insterval of"
       ]
      },
      {
       "output_type": "stream",
       "stream": "stdout",
       "text": [
        " 252\n",
        "referred for insterval of"
       ]
      },
      {
       "output_type": "stream",
       "stream": "stdout",
       "text": [
        " 31\n",
        "referred for insterval of"
       ]
      },
      {
       "output_type": "stream",
       "stream": "stdout",
       "text": [
        " 331\n",
        "referred for insterval of"
       ]
      },
      {
       "output_type": "stream",
       "stream": "stdout",
       "text": [
        " 364\n",
        "referred for insterval of"
       ]
      },
      {
       "output_type": "stream",
       "stream": "stdout",
       "text": [
        " 307\n",
        "referred for insterval of 56\n",
        "referred for insterval of"
       ]
      },
      {
       "output_type": "stream",
       "stream": "stdout",
       "text": [
        " 38\n",
        "referred for insterval of"
       ]
      },
      {
       "output_type": "stream",
       "stream": "stdout",
       "text": [
        " 256\n",
        "referred for insterval of 5\n",
        "referred for insterval of"
       ]
      },
      {
       "output_type": "stream",
       "stream": "stdout",
       "text": [
        " 41\n",
        "referred for insterval of"
       ]
      },
      {
       "output_type": "stream",
       "stream": "stdout",
       "text": [
        " 28\n",
        "referred for insterval of"
       ]
      },
      {
       "output_type": "stream",
       "stream": "stdout",
       "text": [
        " 614\n",
        "referred for insterval of"
       ]
      },
      {
       "output_type": "stream",
       "stream": "stdout",
       "text": [
        " 375\n",
        "referred for insterval of"
       ]
      },
      {
       "output_type": "stream",
       "stream": "stdout",
       "text": [
        " 203\n",
        "referred for insterval of"
       ]
      },
      {
       "output_type": "stream",
       "stream": "stdout",
       "text": [
        " 101\n",
        "referred for insterval of"
       ]
      },
      {
       "output_type": "stream",
       "stream": "stdout",
       "text": [
        " 382\n",
        "referred for insterval of"
       ]
      },
      {
       "output_type": "stream",
       "stream": "stdout",
       "text": [
        " 121\n",
        "referred for insterval of 256\n",
        "referred for insterval of"
       ]
      },
      {
       "output_type": "stream",
       "stream": "stdout",
       "text": [
        " 462\n",
        "referred for insterval of"
       ]
      },
      {
       "output_type": "stream",
       "stream": "stdout",
       "text": [
        " 318\n",
        "referred for insterval of 6\n",
        "referred for insterval of"
       ]
      },
      {
       "output_type": "stream",
       "stream": "stdout",
       "text": [
        " 4\n",
        "referred for insterval of"
       ]
      },
      {
       "output_type": "stream",
       "stream": "stdout",
       "text": [
        " 0\n",
        "referred for insterval of"
       ]
      },
      {
       "output_type": "stream",
       "stream": "stdout",
       "text": [
        " 379\n",
        "referred for insterval of"
       ]
      },
      {
       "output_type": "stream",
       "stream": "stdout",
       "text": [
        " 156\n",
        "referred for insterval of"
       ]
      },
      {
       "output_type": "stream",
       "stream": "stdout",
       "text": [
        " 444\n",
        "referred for insterval of 35\n",
        "referred for insterval of"
       ]
      },
      {
       "output_type": "stream",
       "stream": "stdout",
       "text": [
        " 269\n",
        "referred for insterval of"
       ]
      },
      {
       "output_type": "stream",
       "stream": "stdout",
       "text": [
        " 376\n",
        "referred for insterval of"
       ]
      },
      {
       "output_type": "stream",
       "stream": "stdout",
       "text": [
        " 132\n",
        "referred for insterval of"
       ]
      },
      {
       "output_type": "stream",
       "stream": "stdout",
       "text": [
        " 581\n",
        "referred for insterval of"
       ]
      },
      {
       "output_type": "stream",
       "stream": "stdout",
       "text": [
        " 478\n",
        "referred for insterval of 73\n",
        "referred for insterval of"
       ]
      },
      {
       "output_type": "stream",
       "stream": "stdout",
       "text": [
        " 305\n",
        "referred for insterval of"
       ]
      },
      {
       "output_type": "stream",
       "stream": "stdout",
       "text": [
        " 186\n",
        "referred for insterval of"
       ]
      },
      {
       "output_type": "stream",
       "stream": "stdout",
       "text": [
        " 106\n",
        "referred for insterval of"
       ]
      },
      {
       "output_type": "stream",
       "stream": "stdout",
       "text": [
        " 97\n",
        "referred for insterval of"
       ]
      },
      {
       "output_type": "stream",
       "stream": "stdout",
       "text": [
        " 516\n",
        "referred for insterval of"
       ]
      },
      {
       "output_type": "stream",
       "stream": "stdout",
       "text": [
        " 175\n",
        "referred for insterval of"
       ]
      },
      {
       "output_type": "stream",
       "stream": "stdout",
       "text": [
        " 114\n",
        "referred for insterval of"
       ]
      },
      {
       "output_type": "stream",
       "stream": "stdout",
       "text": [
        " 107\n",
        "referred for insterval of"
       ]
      },
      {
       "output_type": "stream",
       "stream": "stdout",
       "text": [
        " 720\n",
        "referred for insterval of"
       ]
      },
      {
       "output_type": "stream",
       "stream": "stdout",
       "text": [
        " 496\n",
        "referred for insterval of"
       ]
      },
      {
       "output_type": "stream",
       "stream": "stdout",
       "text": [
        " 174\n",
        "referred for insterval of"
       ]
      },
      {
       "output_type": "stream",
       "stream": "stdout",
       "text": [
        " 190\n",
        "referred for insterval of 270\n",
        "referred for insterval of"
       ]
      },
      {
       "output_type": "stream",
       "stream": "stdout",
       "text": [
        " 520\n",
        "referred for insterval of 79\n",
        "referred for insterval of"
       ]
      },
      {
       "output_type": "stream",
       "stream": "stdout",
       "text": [
        " 285\n",
        "referred for insterval of"
       ]
      },
      {
       "output_type": "stream",
       "stream": "stdout",
       "text": [
        " 414\n",
        "referred for insterval of"
       ]
      },
      {
       "output_type": "stream",
       "stream": "stdout",
       "text": [
        " 393\n",
        "referred for insterval of 190\n",
        "referred for insterval of"
       ]
      },
      {
       "output_type": "stream",
       "stream": "stdout",
       "text": [
        " 153\n",
        "referred for insterval of"
       ]
      },
      {
       "output_type": "stream",
       "stream": "stdout",
       "text": [
        " 648\n",
        "referred for insterval of"
       ]
      },
      {
       "output_type": "stream",
       "stream": "stdout",
       "text": [
        " 188\n",
        "referred for insterval of"
       ]
      },
      {
       "output_type": "stream",
       "stream": "stdout",
       "text": [
        " 354\n",
        "referred for insterval of"
       ]
      },
      {
       "output_type": "stream",
       "stream": "stdout",
       "text": [
        " 112\n",
        "referred for insterval of"
       ]
      },
      {
       "output_type": "stream",
       "stream": "stdout",
       "text": [
        " 125\n",
        "referred for insterval of"
       ]
      },
      {
       "output_type": "stream",
       "stream": "stdout",
       "text": [
        " 102\n",
        "referred for insterval of"
       ]
      },
      {
       "output_type": "stream",
       "stream": "stdout",
       "text": [
        " 258\n",
        "referred for insterval of"
       ]
      },
      {
       "output_type": "stream",
       "stream": "stdout",
       "text": [
        " 308\n",
        "referred for insterval of"
       ]
      },
      {
       "output_type": "stream",
       "stream": "stdout",
       "text": [
        " 570\n",
        "referred for insterval of"
       ]
      },
      {
       "output_type": "stream",
       "stream": "stdout",
       "text": [
        " 308\n",
        "referred for insterval of"
       ]
      },
      {
       "output_type": "stream",
       "stream": "stdout",
       "text": [
        " 177\n",
        "referred for insterval of"
       ]
      },
      {
       "output_type": "stream",
       "stream": "stdout",
       "text": [
        " 475\n",
        "referred for insterval of"
       ]
      },
      {
       "output_type": "stream",
       "stream": "stdout",
       "text": [
        " 244\n",
        "referred for insterval of"
       ]
      },
      {
       "output_type": "stream",
       "stream": "stdout",
       "text": [
        " 274\n",
        "referred for insterval of 259\n",
        "referred for insterval of"
       ]
      },
      {
       "output_type": "stream",
       "stream": "stdout",
       "text": [
        " 523\n",
        "referred for insterval of"
       ]
      },
      {
       "output_type": "stream",
       "stream": "stdout",
       "text": [
        " 7\n",
        "referred for insterval of"
       ]
      },
      {
       "output_type": "stream",
       "stream": "stdout",
       "text": [
        " 269\n",
        "referred for insterval of"
       ]
      },
      {
       "output_type": "stream",
       "stream": "stdout",
       "text": [
        " 131\n",
        "referred for insterval of 403\n",
        "referred for insterval of"
       ]
      },
      {
       "output_type": "stream",
       "stream": "stdout",
       "text": [
        " 120\n",
        "referred for insterval of"
       ]
      },
      {
       "output_type": "stream",
       "stream": "stdout",
       "text": [
        " 412\n",
        "referred for insterval of 37\n",
        "referred for insterval of"
       ]
      },
      {
       "output_type": "stream",
       "stream": "stdout",
       "text": [
        " 140\n",
        "referred for insterval of"
       ]
      },
      {
       "output_type": "stream",
       "stream": "stdout",
       "text": [
        " 390\n",
        "referred for insterval of"
       ]
      },
      {
       "output_type": "stream",
       "stream": "stdout",
       "text": [
        " 88\n",
        "referred for insterval of"
       ]
      },
      {
       "output_type": "stream",
       "stream": "stdout",
       "text": [
        " 327\n",
        "referred for insterval of"
       ]
      },
      {
       "output_type": "stream",
       "stream": "stdout",
       "text": [
        " 398\n",
        "referred for insterval of"
       ]
      },
      {
       "output_type": "stream",
       "stream": "stdout",
       "text": [
        " 105\n",
        "referred for insterval of 58\n",
        "referred for insterval of"
       ]
      },
      {
       "output_type": "stream",
       "stream": "stdout",
       "text": [
        " 527\n",
        "referred for insterval of"
       ]
      },
      {
       "output_type": "stream",
       "stream": "stdout",
       "text": [
        " 48\n",
        "referred for insterval of"
       ]
      },
      {
       "output_type": "stream",
       "stream": "stdout",
       "text": [
        " 484\n",
        "referred for insterval of"
       ]
      },
      {
       "output_type": "stream",
       "stream": "stdout",
       "text": [
        " 23\n",
        "referred for insterval of 286\n",
        "referred for insterval of"
       ]
      },
      {
       "output_type": "stream",
       "stream": "stdout",
       "text": [
        " 330\n",
        "referred for insterval of"
       ]
      },
      {
       "output_type": "stream",
       "stream": "stdout",
       "text": [
        " 571\n",
        "referred for insterval of"
       ]
      },
      {
       "output_type": "stream",
       "stream": "stdout",
       "text": [
        " 533\n",
        "referred for insterval of 99\n",
        "referred for insterval of"
       ]
      },
      {
       "output_type": "stream",
       "stream": "stdout",
       "text": [
        " 69\n",
        "referred for insterval of 106\n",
        "referred for insterval of"
       ]
      },
      {
       "output_type": "stream",
       "stream": "stdout",
       "text": [
        " 360\n",
        "referred for insterval of"
       ]
      },
      {
       "output_type": "stream",
       "stream": "stdout",
       "text": [
        " 153\n",
        "referred for insterval of"
       ]
      },
      {
       "output_type": "stream",
       "stream": "stdout",
       "text": [
        " 551\n",
        "referred for insterval of 17\n",
        "referred for insterval of"
       ]
      },
      {
       "output_type": "stream",
       "stream": "stdout",
       "text": [
        " 389\n",
        "referred for insterval of"
       ]
      },
      {
       "output_type": "stream",
       "stream": "stdout",
       "text": [
        " 686\n",
        "referred for insterval of"
       ]
      },
      {
       "output_type": "stream",
       "stream": "stdout",
       "text": [
        " 470\n",
        "referred for insterval of"
       ]
      },
      {
       "output_type": "stream",
       "stream": "stdout",
       "text": [
        " 17\n",
        "referred for insterval of"
       ]
      },
      {
       "output_type": "stream",
       "stream": "stdout",
       "text": [
        " 693\n",
        "referred for insterval of"
       ]
      },
      {
       "output_type": "stream",
       "stream": "stdout",
       "text": [
        " 317\n",
        "referred for insterval of"
       ]
      },
      {
       "output_type": "stream",
       "stream": "stdout",
       "text": [
        " 488\n",
        "referred for insterval of 19\n",
        "referred for insterval of"
       ]
      },
      {
       "output_type": "stream",
       "stream": "stdout",
       "text": [
        " 259\n",
        "referred for insterval of"
       ]
      },
      {
       "output_type": "stream",
       "stream": "stdout",
       "text": [
        " 281\n",
        "referred for insterval of"
       ]
      },
      {
       "output_type": "stream",
       "stream": "stdout",
       "text": [
        " 198\n",
        "referred for insterval of"
       ]
      },
      {
       "output_type": "stream",
       "stream": "stdout",
       "text": [
        " 504\n",
        "referred for insterval of"
       ]
      },
      {
       "output_type": "stream",
       "stream": "stdout",
       "text": [
        " 473\n",
        "referred for insterval of 204\n",
        "referred for insterval of"
       ]
      },
      {
       "output_type": "stream",
       "stream": "stdout",
       "text": [
        " 515\n",
        "referred for insterval of"
       ]
      },
      {
       "output_type": "stream",
       "stream": "stdout",
       "text": [
        " 137\n",
        "referred for insterval of"
       ]
      },
      {
       "output_type": "stream",
       "stream": "stdout",
       "text": [
        " 142\n",
        "referred for insterval of"
       ]
      },
      {
       "output_type": "stream",
       "stream": "stdout",
       "text": [
        " 333\n",
        "referred for insterval of"
       ]
      },
      {
       "output_type": "stream",
       "stream": "stdout",
       "text": [
        " 344\n",
        "referred for insterval of"
       ]
      },
      {
       "output_type": "stream",
       "stream": "stdout",
       "text": [
        " 359\n",
        "referred for insterval of"
       ]
      },
      {
       "output_type": "stream",
       "stream": "stdout",
       "text": [
        " 437\n",
        "referred for insterval of 108\n",
        "referred for insterval of"
       ]
      },
      {
       "output_type": "stream",
       "stream": "stdout",
       "text": [
        " 406\n",
        "referred for insterval of"
       ]
      },
      {
       "output_type": "stream",
       "stream": "stdout",
       "text": [
        " 492\n",
        "referred for insterval of"
       ]
      },
      {
       "output_type": "stream",
       "stream": "stdout",
       "text": [
        " 202\n",
        "referred for insterval of"
       ]
      },
      {
       "output_type": "stream",
       "stream": "stdout",
       "text": [
        " 113\n",
        "referred for insterval of"
       ]
      },
      {
       "output_type": "stream",
       "stream": "stdout",
       "text": [
        " 61\n",
        "referred for insterval of"
       ]
      },
      {
       "output_type": "stream",
       "stream": "stdout",
       "text": [
        " 431\n",
        "referred for insterval of"
       ]
      },
      {
       "output_type": "stream",
       "stream": "stdout",
       "text": [
        " 369\n",
        "referred for insterval of 77\n",
        "referred for insterval of"
       ]
      },
      {
       "output_type": "stream",
       "stream": "stdout",
       "text": [
        " 286\n",
        "referred for insterval of"
       ]
      },
      {
       "output_type": "stream",
       "stream": "stdout",
       "text": [
        " 157\n",
        "referred for insterval of"
       ]
      },
      {
       "output_type": "stream",
       "stream": "stdout",
       "text": [
        " 355\n",
        "referred for insterval of"
       ]
      },
      {
       "output_type": "stream",
       "stream": "stdout",
       "text": [
        " 413\n",
        "referred for insterval of"
       ]
      },
      {
       "output_type": "stream",
       "stream": "stdout",
       "text": [
        " 55\n",
        "referred for insterval of"
       ]
      },
      {
       "output_type": "stream",
       "stream": "stdout",
       "text": [
        " 129\n",
        "referred for insterval of"
       ]
      },
      {
       "output_type": "stream",
       "stream": "stdout",
       "text": [
        " 210\n",
        "referred for insterval of"
       ]
      },
      {
       "output_type": "stream",
       "stream": "stdout",
       "text": [
        " 355\n",
        "referred for insterval of 114\n",
        "referred for insterval of"
       ]
      },
      {
       "output_type": "stream",
       "stream": "stdout",
       "text": [
        " 476\n",
        "referred for insterval of"
       ]
      },
      {
       "output_type": "stream",
       "stream": "stdout",
       "text": [
        " 502\n",
        "referred for insterval of"
       ]
      },
      {
       "output_type": "stream",
       "stream": "stdout",
       "text": [
        " 109\n",
        "referred for insterval of 85\n",
        "referred for insterval of"
       ]
      },
      {
       "output_type": "stream",
       "stream": "stdout",
       "text": [
        " 571\n",
        "referred for insterval of"
       ]
      },
      {
       "output_type": "stream",
       "stream": "stdout",
       "text": [
        " 223\n",
        "referred for insterval of"
       ]
      },
      {
       "output_type": "stream",
       "stream": "stdout",
       "text": [
        " 382\n",
        "referred for insterval of 77\n",
        "referred for insterval of"
       ]
      },
      {
       "output_type": "stream",
       "stream": "stdout",
       "text": [
        " 171\n",
        "referred for insterval of"
       ]
      },
      {
       "output_type": "stream",
       "stream": "stdout",
       "text": [
        " 435\n",
        "referred for insterval of"
       ]
      },
      {
       "output_type": "stream",
       "stream": "stdout",
       "text": [
        " 586\n",
        "referred for insterval of"
       ]
      },
      {
       "output_type": "stream",
       "stream": "stdout",
       "text": [
        " 44\n",
        "referred for insterval of"
       ]
      },
      {
       "output_type": "stream",
       "stream": "stdout",
       "text": [
        " 449\n",
        "referred for insterval of"
       ]
      },
      {
       "output_type": "stream",
       "stream": "stdout",
       "text": [
        " 253\n",
        "referred for insterval of 153\n",
        "referred for insterval of"
       ]
      },
      {
       "output_type": "stream",
       "stream": "stdout",
       "text": [
        " 530\n",
        "                 SN   NO  interval  PTD    P        FGM        FGA       FGP  \\\n",
        "0   20081227.CHIATL  190      2880   12  129  35.825074  77.535231  0.462049   \n",
        "1   20081229.DENATL  231      2880   18  109  36.141274  77.635700  0.465524   \n",
        "2   20081230.ATLIND  171      2880    6  110  36.801788  78.156402  0.470874   \n",
        "3   20090102.ATLNJN  276      3180   -2   91  39.936123  85.724291  0.465867   \n",
        "4   20090103.HOUATL  253      2880    3  103  35.933569  78.124167  0.459955   \n",
        "5   20090107.ORLATL  190      2880   -4  102  37.170920  78.234315  0.475123   \n",
        "6   20090109.ATLORL  300      2880  -34   87  36.099466  77.703461  0.464580   \n",
        "7   20090111.PHIATL  276      2880  -15   94  35.659141  77.611071  0.459459   \n",
        "8   20090113.ATLPHX  253      2880   -5  102  35.618920  77.374269  0.460346   \n",
        "9   20090114.ATLLAC  171      2880   17   97  35.631673  77.449352  0.460064   \n",
        "10  20090116.ATLGSW  153      2880   -5  114  35.659141  77.611071  0.459459   \n",
        "11  20090119.TORATL  153      2880    3   87  35.659141  77.611071  0.459459   \n",
        "12  20090120.ATLCHI  210      2880    3  105  35.659141  77.611071  0.459459   \n",
        "13  20090125.PHXATL  276      2880   -5   99  35.659141  77.611071  0.459459   \n",
        "14  20090128.ATLNYK  231      2880   -8  104  35.659141  77.611071  0.459459   \n",
        "15  20090130.NJNATL  231      2880   17  105  35.056810  74.064822  0.473326   \n",
        "16  20090204.ATLMIN  153      2880    8   94  35.659141  77.611071  0.459459   \n",
        "17  20090206.ATLCHA  153      2880    5  102  35.659141  77.611071  0.459459   \n",
        "18  20090207.LACATL  253      2880  -24   97  35.659141  77.611071  0.459459   \n",
        "19  20090210.WASATL  253      2880   21  111  35.898445  77.623295  0.462470   \n",
        "20  20090211.ATLDET  276      2880    4   99  34.752844  77.221531  0.450041   \n",
        "21  20090217.ATLLAL  190      2880  -13   83  36.126374  77.695607  0.464973   \n",
        "22  20090218.ATLSAC  136      2880    5  105  36.552088  77.885493  0.469305   \n",
        "23  20090220.ATLPOR  276      2880  -10   98  36.058886  77.694642  0.464110   \n",
        "24  20090223.ATLUTA  210      2880  -19   89  35.902674  77.623511  0.462523   \n",
        "25  20090225.ATLDEN  153      2880   -1  109  37.077456  77.084676  0.480996   \n",
        "26  20090227.MIAATL  136      2880    8   91  36.653791  77.991225  0.469973   \n",
        "27  20090301.CLEATL  120      2880   -1   87  35.643528  77.576786  0.459461   \n",
        "28  20090302.ATLWAS  210      2880    9   98  36.422478  77.887917  0.467627   \n",
        "29  20090304.ATLNYK  210      2880   -4  105  35.915946  77.478165  0.463562   \n",
        "30  20090306.ATLCHA  136      2880   -7   91  36.235362  77.527864  0.467385   \n",
        "31  20090307.DETATL  231      2880    4   87  35.759266  77.748202  0.459937   \n",
        "32  20090309.NOHATL  171      2880   10   89  37.458772  78.717746  0.475862   \n",
        "33  20090311.UTAATL  171      2880    7  100  37.963752  79.091362  0.479999   \n",
        "34  20090313.INDATL  210      2880   14  101  38.757990  79.381801  0.488248   \n",
        "35  20090315.PORATL  153      2880   18   98  38.206174  79.292708  0.481837   \n",
        "36  20090317.SACATL  210      2880   22  119  38.448021  79.293239  0.484884   \n",
        "37  20090319.DALATL  136      2880    8   95  37.410200  78.909524  0.474090   \n",
        "38  20090321.ATLCLE  171      2880   -6   96  38.992297  79.597545  0.489868   \n",
        "39  20090323.MINATL  253      2880   12  109  37.307483  78.743610  0.473784   \n",
        "40  20090325.SASATL  153      2880  -10   92  37.504540  78.968911  0.474928   \n",
        "41  20090327.BOSATL  190      2880   -6   93  36.241788  78.164907  0.463658   \n",
        "42  20090329.LALATL  231      2880   10   86  37.319003  78.768276  0.473782   \n",
        "43  20090331.ATLPHI  210      2880  -13   85  37.703255  78.814414  0.478380   \n",
        "44  20090403.ATLBOS  325      2880  -12   92  36.512854  78.504169  0.465107   \n",
        "45  20090404.ORLATL  136      2880   -6   82  37.388265  78.931815  0.473678   \n",
        "46  20090407.ATLTOR  171      2880    8  118  38.979195  79.589405  0.489754   \n",
        "47  20090408.ATLMIL  190      2880    8  113  37.664889  79.029656  0.476592   \n",
        "48  20090410.INDATL  231      2880    4  122  33.298811  76.813579  0.433502   \n",
        "49  20090414.MIAATL  120      2880    2   81  35.659141  77.611071  0.459459   \n",
        "50  20090415.ATLMEM  190      2880   -8   90  35.659141  77.611071  0.459459   \n",
        "\n",
        "          B3M        B3A    ...          DRBP        TRB      TRBP        TOV  \\\n",
        "0    8.296433  16.798405    ...      0.243857  35.436448  0.139824  14.763445   \n",
        "1    8.503829  17.007658    ...      0.239519  35.116554  0.136578  14.805182   \n",
        "2    9.697409  18.170285    ...      0.263288  35.954790  0.149218  13.846872   \n",
        "3    9.396735  18.793470    ...      0.232611  38.740617  0.133708  16.486113   \n",
        "4    9.650247  18.027280    ...      0.314276  37.639182  0.154487  11.776229   \n",
        "5    9.842356  18.321075    ...      0.234573  35.386174  0.137483  14.014844   \n",
        "6    8.665539  17.148719    ...      0.229466  35.432438  0.127716  13.408242   \n",
        "7    8.390386  16.780772    ...      0.267292  35.659141  0.146952  12.585579   \n",
        "8    8.270940  16.675430    ...      0.276423  35.618920  0.153121  12.606735   \n",
        "9    8.308813  16.708831    ...      0.318182  35.631673  0.181210  12.600027   \n",
        "10   8.390386  16.780772    ...      0.330455  35.659141  0.189014  12.585579   \n",
        "11   8.390386  16.780772    ...      0.330455  35.659141  0.189014  12.585579   \n",
        "12   8.390386  16.780772    ...      0.295536  35.659141  0.165350  12.585579   \n",
        "13   8.390386  16.780772    ...      0.267292  35.659141  0.146952  12.585579   \n",
        "14   8.390386  16.780772    ...      0.285481  35.659141  0.158726  12.585579   \n",
        "15   6.601602  15.203205    ...      0.290579  35.056810  0.157165  12.902403   \n",
        "16   8.390386  16.780772    ...      0.330455  35.659141  0.189014  12.585579   \n",
        "17   8.390386  16.780772    ...      0.330455  35.659141  0.189014  12.585579   \n",
        "18   8.390386  16.780772    ...      0.276087  35.659141  0.152612  12.585579   \n",
        "19   8.446693  16.893386    ...      0.231755  35.389831  0.132850  13.687268   \n",
        "20   7.635723  16.108181    ...      0.210096  36.532711  0.115781  14.169361   \n",
        "21   8.622130  17.092744    ...      0.258219  35.292030  0.148728  14.122083   \n",
        "22   9.059875  17.548322    ...      0.284639  35.252784  0.167669  14.378898   \n",
        "23   8.638514  17.115530    ...      0.221521  35.513263  0.123519  14.207188   \n",
        "24   8.447688  16.895376    ...      0.260348  35.385071  0.149062  13.706738   \n",
        "25   8.262833  17.832610    ...      0.292357  34.463567  0.175420  12.394249   \n",
        "26   9.285656  17.748800    ...      0.284032  35.401331  0.168256  13.828787   \n",
        "27   8.392825  16.859111    ...      0.326354  35.962264  0.185409  13.984682   \n",
        "28   9.086914  17.574349    ...      0.255861  35.622634  0.142706  14.298181   \n",
        "29   8.278005  16.893781    ...      0.229593  35.385939  0.133338  14.221417   \n",
        "30   8.439203  17.124239    ...      0.286665  35.086017  0.171918  13.974160   \n",
        "31   8.815397  17.282177    ...      0.259732  36.585755  0.139329  13.814073   \n",
        "32  10.915758  19.288314    ...      0.343964  36.617046  0.182522  11.589137   \n",
        "33  11.784635  20.150240    ...      0.360627  37.221814  0.184064  11.189100   \n",
        "34  12.396229  20.760079    ...      0.322974  36.590145  0.168937  11.127304   \n",
        "35  12.257605  20.619194    ...      0.380868  37.629239  0.197395  10.955082   \n",
        "36  12.220515  20.584284    ...      0.329152  36.968694  0.168063  11.104096   \n",
        "37  11.410675  19.776868    ...      0.390353  37.771702  0.205536  11.192868   \n",
        "38  12.907067  21.266383    ...      0.346735  37.096517  0.184471  10.860763   \n",
        "39  11.005510  19.375894    ...      0.304876  37.169780  0.154765  11.445907   \n",
        "40  11.546548  19.911764    ...      0.375332  37.829230  0.196180  11.138011   \n",
        "41   9.704752  18.083327    ...      0.339655  37.010731  0.176233  11.889652   \n",
        "42  11.066343  19.436069    ...      0.316790  37.269558  0.163270  11.405960   \n",
        "43  11.122476  19.494268    ...      0.316041  36.461302  0.166901  11.556244   \n",
        "44  10.523533  18.894093    ...      0.295663  38.074137  0.143096  11.410097   \n",
        "45  11.470791  19.836097    ...      0.404093  37.950594  0.201918  11.136702   \n",
        "46  12.888470  21.247918    ...      0.355966  37.089099  0.186294  10.868176   \n",
        "47  11.675380  20.040176    ...      0.354380  37.712935  0.180693  11.121509   \n",
        "48   6.767273  15.184692    ...      0.287090  38.026777  0.147375  13.071072   \n",
        "49   8.390386  16.780772    ...      0.358711  35.659141  0.208949  12.585579   \n",
        "50   8.390386  16.780772    ...      0.306326  35.659141  0.172551  12.585579   \n",
        "\n",
        "        TOVP        STL       BLK          F  oppORB  oppDRB  \n",
        "0   0.147817   8.514209  3.015730  24.512910      81     137  \n",
        "1   0.148114   8.580348  3.074157  24.563287      81     141  \n",
        "2   0.139964   7.976337  2.489888  24.614491      74     131  \n",
        "3   0.149248   9.354907  3.586517  26.952871      93     158  \n",
        "4   0.121131   8.739933  0.000000  26.283322      62     144  \n",
        "5   0.141318   8.165270  2.626966  24.701598      83     139  \n",
        "6   0.135312   9.807202  1.265169  26.115982      85     157  \n",
        "7   0.127768  10.487983  0.000000  27.268755      69     138  \n",
        "8   0.128073  10.539000  0.000000  27.347980      66     131  \n",
        "9   0.127977  10.522824  0.000000  27.322860      54     107  \n",
        "10  0.127768  10.487983  0.000000  27.268755      51     102  \n",
        "11  0.127768  10.487983  0.000000  27.268755      51     102  \n",
        "12  0.127768  10.487983  0.000000  27.268755      60     120  \n",
        "13  0.127768  10.487983  0.000000  27.268755      69     138  \n",
        "14  0.127768  10.487983  0.000000  27.268755      63     126  \n",
        "15  0.132383  11.252003  0.000000  28.455208      63     125  \n",
        "16  0.127768  10.487983  0.000000  27.268755      51     102  \n",
        "17  0.127768  10.487983  0.000000  27.268755      51     102  \n",
        "18  0.127768  10.487983  0.000000  27.268755      66     132  \n",
        "19  0.137941   9.541138  1.525843  25.925909      84     147  \n",
        "20  0.142664   8.711531  2.191011  24.926110     105     174  \n",
        "21  0.141958   9.045844  2.200000  25.304244      73     129  \n",
        "22  0.144415   8.488140  2.755056  24.737157      64     111  \n",
        "23  0.142839   8.763998  2.395506  25.024866      91     161  \n",
        "24  0.138120   9.524404  1.552809  25.902177      72     130  \n",
        "25  0.122932  16.209791  0.000000  27.507679      60     102  \n",
        "26  0.139464   8.759436  2.112360  25.255776      64     111  \n",
        "27  0.140913   8.804884  2.098876  25.151827      55     103  \n",
        "28  0.143837   8.245324  2.761798  24.573766      76     138  \n",
        "29  0.142473   9.653081  2.296629  25.185757      87     143  \n",
        "30  0.139919  10.339898  1.973034  25.577292      63     106  \n",
        "31  0.139699   8.148931  2.231461  24.712408      79     147  \n",
        "32  0.119251   8.828205  0.000000  26.543015      50     114  \n",
        "33  0.115812   8.088599  0.000000  26.179117      48     117  \n",
        "34  0.115125   8.215591  0.000000  26.361761      54     126  \n",
        "35  0.113793   7.638089  0.000000  25.948569      45     108  \n",
        "36  0.114996   8.058409  0.000000  26.227506      54     129  \n",
        "37  0.115962   7.910718  0.000000  25.999525      44     102  \n",
        "38  0.112831   7.688388  0.000000  26.085230      50     114  \n",
        "39  0.118096   8.451538  0.000000  26.301973      62     141  \n",
        "40  0.115482   7.817748  0.000000  25.957992      47     108  \n",
        "41  0.121994   9.101675  0.000000  26.537036      53     120  \n",
        "42  0.117762   8.364579  0.000000  26.252660      59     132  \n",
        "43  0.118925   8.835753  0.000000  26.580779      56     126  \n",
        "44  0.117971   8.102457  0.000000  25.989321      69     159  \n",
        "45  0.115496   7.775608  0.000000  25.917474      42     108  \n",
        "46  0.112897   7.700834  0.000000  26.090726      48     114  \n",
        "47  0.115309   7.834231  0.000000  25.989509      51     120  \n",
        "48  0.132856   9.251757  0.667416  25.864123      75     145  \n",
        "49  0.127768  10.487983  0.000000  27.268755      45      90  \n",
        "50  0.127768  10.487983  0.000000  27.268755      57     114  \n",
        "\n",
        "[51 rows x 27 columns]"
       ]
      },
      {
       "output_type": "stream",
       "stream": "stdout",
       "text": [
        "\n",
        "MIN\n",
        "referred for insterval of"
       ]
      },
      {
       "output_type": "stream",
       "stream": "stdout",
       "text": [
        " 432\n",
        "referred for insterval of 156\n",
        "referred for insterval of"
       ]
      },
      {
       "output_type": "stream",
       "stream": "stdout",
       "text": [
        " 341\n",
        "referred for insterval of"
       ]
      },
      {
       "output_type": "stream",
       "stream": "stdout",
       "text": [
        " 510\n",
        "referred for insterval of"
       ]
      },
      {
       "output_type": "stream",
       "stream": "stdout",
       "text": [
        " 438\n",
        "referred for insterval of"
       ]
      },
      {
       "output_type": "stream",
       "stream": "stdout",
       "text": [
        " 320\n",
        "referred for insterval of"
       ]
      },
      {
       "output_type": "stream",
       "stream": "stdout",
       "text": [
        " 140\n",
        "referred for insterval of"
       ]
      },
      {
       "output_type": "stream",
       "stream": "stdout",
       "text": [
        " 190.0\n",
        "referred for insterval of 387.0\n",
        "referred for insterval of"
       ]
      },
      {
       "output_type": "stream",
       "stream": "stdout",
       "text": [
        " 331.0\n",
        "referred for insterval of"
       ]
      },
      {
       "output_type": "stream",
       "stream": "stdout",
       "text": [
        " 188.0\n",
        "referred for insterval of"
       ]
      },
      {
       "output_type": "stream",
       "stream": "stdout",
       "text": [
        " 471.0\n",
        "referred for insterval of"
       ]
      },
      {
       "output_type": "stream",
       "stream": "stdout",
       "text": [
        " 437\n",
        "referred for insterval of"
       ]
      },
      {
       "output_type": "stream",
       "stream": "stdout",
       "text": [
        " 619\n",
        "referred for insterval of"
       ]
      },
      {
       "output_type": "stream",
       "stream": "stdout",
       "text": [
        " 628\n",
        "referred for insterval of"
       ]
      },
      {
       "output_type": "stream",
       "stream": "stdout",
       "text": [
        " 167\n",
        "referred for insterval of"
       ]
      },
      {
       "output_type": "stream",
       "stream": "stdout",
       "text": [
        " 169\n",
        "referred for insterval of"
       ]
      },
      {
       "output_type": "stream",
       "stream": "stdout",
       "text": [
        " 167\n",
        "referred for insterval of"
       ]
      },
      {
       "output_type": "stream",
       "stream": "stdout",
       "text": [
        " 216\n",
        "referred for insterval of"
       ]
      },
      {
       "output_type": "stream",
       "stream": "stdout",
       "text": [
        " 235\n",
        "referred for insterval of"
       ]
      },
      {
       "output_type": "stream",
       "stream": "stdout",
       "text": [
        " 61\n",
        "referred for insterval of"
       ]
      },
      {
       "output_type": "stream",
       "stream": "stdout",
       "text": [
        " 370\n",
        "referred for insterval of"
       ]
      },
      {
       "output_type": "stream",
       "stream": "stdout",
       "text": [
        " 363\n",
        "referred for insterval of"
       ]
      },
      {
       "output_type": "stream",
       "stream": "stdout",
       "text": [
        " 599\n",
        "referred for insterval of"
       ]
      },
      {
       "output_type": "stream",
       "stream": "stdout",
       "text": [
        " 482\n",
        "referred for insterval of"
       ]
      },
      {
       "output_type": "stream",
       "stream": "stdout",
       "text": [
        " 185\n",
        "referred for insterval of"
       ]
      },
      {
       "output_type": "stream",
       "stream": "stdout",
       "text": [
        " 640\n",
        "referred for insterval of"
       ]
      },
      {
       "output_type": "stream",
       "stream": "stdout",
       "text": [
        " 438\n",
        "referred for insterval of"
       ]
      },
      {
       "output_type": "stream",
       "stream": "stdout",
       "text": [
        " 313\n",
        "referred for insterval of"
       ]
      },
      {
       "output_type": "stream",
       "stream": "stdout",
       "text": [
        " 443\n",
        "referred for insterval of"
       ]
      },
      {
       "output_type": "stream",
       "stream": "stdout",
       "text": [
        " 543\n",
        "referred for insterval of"
       ]
      },
      {
       "output_type": "stream",
       "stream": "stdout",
       "text": [
        " 489\n",
        "referred for insterval of"
       ]
      },
      {
       "output_type": "stream",
       "stream": "stdout",
       "text": [
        " 504\n",
        "referred for insterval of"
       ]
      },
      {
       "output_type": "stream",
       "stream": "stdout",
       "text": [
        " 500\n",
        "referred for insterval of"
       ]
      },
      {
       "output_type": "stream",
       "stream": "stdout",
       "text": [
        " 704\n",
        "referred for insterval of"
       ]
      },
      {
       "output_type": "stream",
       "stream": "stdout",
       "text": [
        " 452\n",
        "referred for insterval of"
       ]
      },
      {
       "output_type": "stream",
       "stream": "stdout",
       "text": [
        " 468\n",
        "referred for insterval of"
       ]
      },
      {
       "output_type": "stream",
       "stream": "stdout",
       "text": [
        " 590\n",
        "referred for insterval of"
       ]
      },
      {
       "output_type": "stream",
       "stream": "stdout",
       "text": [
        " 544\n",
        "referred for insterval of"
       ]
      },
      {
       "output_type": "stream",
       "stream": "stdout",
       "text": [
        " 315.0\n",
        "referred for insterval of"
       ]
      },
      {
       "output_type": "stream",
       "stream": "stdout",
       "text": [
        " 620.0\n",
        "referred for insterval of"
       ]
      },
      {
       "output_type": "stream",
       "stream": "stdout",
       "text": [
        " 474\n",
        "referred for insterval of"
       ]
      },
      {
       "output_type": "stream",
       "stream": "stdout",
       "text": [
        " 551\n",
        "referred for insterval of"
       ]
      },
      {
       "output_type": "stream",
       "stream": "stdout",
       "text": [
        " 529\n",
        "referred for insterval of"
       ]
      },
      {
       "output_type": "stream",
       "stream": "stdout",
       "text": [
        " 220\n",
        "referred for insterval of"
       ]
      },
      {
       "output_type": "stream",
       "stream": "stdout",
       "text": [
        " 204\n",
        "referred for insterval of"
       ]
      },
      {
       "output_type": "stream",
       "stream": "stdout",
       "text": [
        " 383\n",
        "referred for insterval of"
       ]
      },
      {
       "output_type": "stream",
       "stream": "stdout",
       "text": [
        " 514\n",
        "referred for insterval of"
       ]
      },
      {
       "output_type": "stream",
       "stream": "stdout",
       "text": [
        " 157\n",
        "referred for insterval of"
       ]
      },
      {
       "output_type": "stream",
       "stream": "stdout",
       "text": [
        " 676\n",
        "referred for insterval of"
       ]
      },
      {
       "output_type": "stream",
       "stream": "stdout",
       "text": [
        " 60\n",
        "referred for insterval of"
       ]
      },
      {
       "output_type": "stream",
       "stream": "stdout",
       "text": [
        " 27\n",
        "referred for insterval of"
       ]
      },
      {
       "output_type": "stream",
       "stream": "stdout",
       "text": [
        " 555\n",
        "referred for insterval of"
       ]
      },
      {
       "output_type": "stream",
       "stream": "stdout",
       "text": [
        " 282\n",
        "referred for insterval of"
       ]
      },
      {
       "output_type": "stream",
       "stream": "stdout",
       "text": [
        " 435\n",
        "referred for insterval of"
       ]
      },
      {
       "output_type": "stream",
       "stream": "stdout",
       "text": [
        " 171\n",
        "referred for insterval of"
       ]
      },
      {
       "output_type": "stream",
       "stream": "stdout",
       "text": [
        " 93\n",
        "referred for insterval of"
       ]
      },
      {
       "output_type": "stream",
       "stream": "stdout",
       "text": [
        " 263\n",
        "referred for insterval of"
       ]
      },
      {
       "output_type": "stream",
       "stream": "stdout",
       "text": [
        " 10\n",
        "referred for insterval of"
       ]
      },
      {
       "output_type": "stream",
       "stream": "stdout",
       "text": [
        " 305\n",
        "referred for insterval of"
       ]
      },
      {
       "output_type": "stream",
       "stream": "stdout",
       "text": [
        " 317\n",
        "referred for insterval of"
       ]
      },
      {
       "output_type": "stream",
       "stream": "stdout",
       "text": [
        " 159\n",
        "referred for insterval of"
       ]
      },
      {
       "output_type": "stream",
       "stream": "stdout",
       "text": [
        " 291\n",
        "referred for insterval of"
       ]
      },
      {
       "output_type": "stream",
       "stream": "stdout",
       "text": [
        " 337\n",
        "referred for insterval of"
       ]
      },
      {
       "output_type": "stream",
       "stream": "stdout",
       "text": [
        " 4\n",
        "referred for insterval of"
       ]
      },
      {
       "output_type": "stream",
       "stream": "stdout",
       "text": [
        " 356\n",
        "referred for insterval of"
       ]
      },
      {
       "output_type": "stream",
       "stream": "stdout",
       "text": [
        " 365\n",
        "referred for insterval of"
       ]
      },
      {
       "output_type": "stream",
       "stream": "stdout",
       "text": [
        " 190\n",
        "referred for insterval of"
       ]
      },
      {
       "output_type": "stream",
       "stream": "stdout",
       "text": [
        " 523\n",
        "referred for insterval of"
       ]
      },
      {
       "output_type": "stream",
       "stream": "stdout",
       "text": [
        " 484\n",
        "referred for insterval of"
       ]
      },
      {
       "output_type": "stream",
       "stream": "stdout",
       "text": [
        " 129\n",
        "referred for insterval of"
       ]
      },
      {
       "output_type": "stream",
       "stream": "stdout",
       "text": [
        " 67\n",
        "referred for insterval of"
       ]
      },
      {
       "output_type": "stream",
       "stream": "stdout",
       "text": [
        " 530\n",
        "referred for insterval of"
       ]
      },
      {
       "output_type": "stream",
       "stream": "stdout",
       "text": [
        " 720\n",
        "referred for insterval of"
       ]
      },
      {
       "output_type": "stream",
       "stream": "stdout",
       "text": [
        " 720\n",
        "referred for insterval of"
       ]
      },
      {
       "output_type": "stream",
       "stream": "stdout",
       "text": [
        " 443\n",
        "referred for insterval of"
       ]
      },
      {
       "output_type": "stream",
       "stream": "stdout",
       "text": [
        " 161\n",
        "referred for insterval of"
       ]
      },
      {
       "output_type": "stream",
       "stream": "stdout",
       "text": [
        " 321\n",
        "referred for insterval of"
       ]
      },
      {
       "output_type": "stream",
       "stream": "stdout",
       "text": [
        " 356\n",
        "referred for insterval of"
       ]
      },
      {
       "output_type": "stream",
       "stream": "stdout",
       "text": [
        " 507\n",
        "referred for insterval of"
       ]
      },
      {
       "output_type": "stream",
       "stream": "stdout",
       "text": [
        " 484\n",
        "referred for insterval of 122\n",
        "referred for insterval of"
       ]
      },
      {
       "output_type": "stream",
       "stream": "stdout",
       "text": [
        " 280\n",
        "referred for insterval of"
       ]
      },
      {
       "output_type": "stream",
       "stream": "stdout",
       "text": [
        " 263\n",
        "referred for insterval of"
       ]
      },
      {
       "output_type": "stream",
       "stream": "stdout",
       "text": [
        " 71\n",
        "referred for insterval of"
       ]
      },
      {
       "output_type": "stream",
       "stream": "stdout",
       "text": [
        " 339\n",
        "referred for insterval of"
       ]
      },
      {
       "output_type": "stream",
       "stream": "stdout",
       "text": [
        " 6\n",
        "referred for insterval of"
       ]
      },
      {
       "output_type": "stream",
       "stream": "stdout",
       "text": [
        " 379\n",
        "referred for insterval of"
       ]
      },
      {
       "output_type": "stream",
       "stream": "stdout",
       "text": [
        " 683\n",
        "referred for insterval of"
       ]
      },
      {
       "output_type": "stream",
       "stream": "stdout",
       "text": [
        " 76\n",
        "referred for insterval of"
       ]
      },
      {
       "output_type": "stream",
       "stream": "stdout",
       "text": [
        " 368\n",
        "referred for insterval of"
       ]
      },
      {
       "output_type": "stream",
       "stream": "stdout",
       "text": [
        " 168\n",
        "referred for insterval of"
       ]
      },
      {
       "output_type": "stream",
       "stream": "stdout",
       "text": [
        " 165\n",
        "referred for insterval of"
       ]
      },
      {
       "output_type": "stream",
       "stream": "stdout",
       "text": [
        " 278\n",
        "referred for insterval of"
       ]
      },
      {
       "output_type": "stream",
       "stream": "stdout",
       "text": [
        " 524\n",
        "referred for insterval of"
       ]
      },
      {
       "output_type": "stream",
       "stream": "stdout",
       "text": [
        " 329\n",
        "referred for insterval of"
       ]
      },
      {
       "output_type": "stream",
       "stream": "stdout",
       "text": [
        " 517\n",
        "referred for insterval of"
       ]
      },
      {
       "output_type": "stream",
       "stream": "stdout",
       "text": [
        " 44\n",
        "referred for insterval of"
       ]
      },
      {
       "output_type": "stream",
       "stream": "stdout",
       "text": [
        " 12\n",
        "referred for insterval of"
       ]
      },
      {
       "output_type": "stream",
       "stream": "stdout",
       "text": [
        " 608\n",
        "referred for insterval of"
       ]
      },
      {
       "output_type": "stream",
       "stream": "stdout",
       "text": [
        " 197\n",
        "referred for insterval of 375\n",
        "referred for insterval of"
       ]
      },
      {
       "output_type": "stream",
       "stream": "stdout",
       "text": [
        " 563\n",
        "referred for insterval of"
       ]
      },
      {
       "output_type": "stream",
       "stream": "stdout",
       "text": [
        " 203\n",
        "referred for insterval of"
       ]
      },
      {
       "output_type": "stream",
       "stream": "stdout",
       "text": [
        " 401\n",
        "referred for insterval of"
       ]
      },
      {
       "output_type": "stream",
       "stream": "stdout",
       "text": [
        " 486\n",
        "referred for insterval of"
       ]
      },
      {
       "output_type": "stream",
       "stream": "stdout",
       "text": [
        " 873\n",
        "referred for insterval of"
       ]
      },
      {
       "output_type": "stream",
       "stream": "stdout",
       "text": [
        " 410\n",
        "referred for insterval of"
       ]
      },
      {
       "output_type": "stream",
       "stream": "stdout",
       "text": [
        " 561\n",
        "referred for insterval of"
       ]
      },
      {
       "output_type": "stream",
       "stream": "stdout",
       "text": [
        " 149\n",
        "referred for insterval of"
       ]
      },
      {
       "output_type": "stream",
       "stream": "stdout",
       "text": [
        " 339\n",
        "referred for insterval of"
       ]
      },
      {
       "output_type": "stream",
       "stream": "stdout",
       "text": [
        " 14\n",
        "referred for insterval of"
       ]
      },
      {
       "output_type": "stream",
       "stream": "stdout",
       "text": [
        " 103\n",
        "referred for insterval of"
       ]
      },
      {
       "output_type": "stream",
       "stream": "stdout",
       "text": [
        " 720\n",
        "                 SN   NO  interval  PTD    P        FGM        FGA       FGP  \\\n",
        "0   20081226.MINNYK  136      2880   13  120  38.082585  84.888392  0.448619   \n",
        "1   20081227.ORLMIN  210      2880  -24   94  38.228606  81.584600  0.468576   \n",
        "2   20081229.MEMMIN  190      3180   10  108  43.460616  92.566191  0.469509   \n",
        "3   20081230.MINDAL   55      2880   -7  100  38.529163  86.389764  0.445992   \n",
        "4   20090102.GSWMIN  171      2880    7  115  39.712282  81.118548  0.489559   \n",
        "5   20090103.MINCHI  210      2880   10  102  39.967943  81.745340  0.488932   \n",
        "6   20090106.MINMEM  136      2880    7   94  41.391063  81.688944  0.506691   \n",
        "7   20090107.OKCMIN  153      2880   42  129  41.794936  82.104645  0.509045   \n",
        "8   20090110.MILMIN  153      2880    2  106  41.144056  81.434704  0.505240   \n",
        "9   20090113.MIAMIN  120      2880   -3   96  41.419158  81.717862  0.506856   \n",
        "10  20090116.MINPHX  120      2880    2  105  41.427353  81.726297  0.506904   \n",
        "11  20090119.MINLAC  105      2880    8   94  41.674359  81.980537  0.508345   \n",
        "12  20090120.MINUTA  120      2880   -5  107  41.341896  81.638337  0.506403   \n",
        "13  20090123.NOHMIN  120      2880    8  116  41.592414  81.896192  0.507867   \n",
        "14  20090125.CHIMIN  190      3180    1  109  45.553716  90.044932  0.505900   \n",
        "15  20090126.MINMIL  120      2880    7   90  41.464814  81.764855  0.507123   \n",
        "16  20090128.DETMIN  105      2880   -9   89  41.141715  81.432294  0.505226   \n",
        "17  20090130.LALMIN  105      2880  -13  119  40.952070  81.237095  0.504106   \n",
        "18  20090201.MINBOS   78      2880   -8  101  41.050405  81.338309  0.504687   \n",
        "19  20090203.MININD   91      2880    5  116  41.056258  81.344334  0.504722   \n",
        "20  20090204.ATLMIN  105      2880   -8   86  40.264901  80.529801  0.500000   \n",
        "21  20090207.MINHOU  105      2880  -17   90  40.216678  80.521204  0.499455   \n",
        "22  20090208.MINNOH  120      2880   -4   97  40.243201  80.525933  0.499755   \n",
        "23  20090210.TORMIN  190      2880   -8  102  39.030404  80.309710  0.485999   \n",
        "24  20090217.MINWAS  190      2880   -8  103  39.545581  80.401558  0.491851   \n",
        "25  20090218.MINMIA  210      2880    7  111  39.629167  80.416460  0.492799   \n",
        "26  20090220.INDMIN  136      2880   -7  105  39.978780  80.478791  0.496762   \n",
        "27  20090222.LALMIN  153      2880   -3  108  39.398503  80.375336  0.490181   \n",
        "28  20090224.MINTOR  153      2880   -8  110  39.217989  79.870935  0.491017   \n",
        "29  20090225.MEMIND   55      2880  -99    0  20.132450  40.264901  0.500000   \n",
        "30  20090225.UTAMIN  171      2880  -17  103  38.734984  79.667684  0.486207   \n",
        "31  20090227.PORMIN  153      2880  -20   82  36.869812  82.928532  0.444597   \n",
        "32  20090301.HOUMIN  120      2880  -11   94  40.264901  80.529801  0.500000   \n",
        "33  20090303.GSWMIN  171      2880  -24   94  40.264901  80.529801  0.500000   \n",
        "34  20090306.MINLAL  153      2880  -20   90  40.264901  80.529801  0.500000   \n",
        "35  20090307.MINPOR  171      2880   -2   93  39.930558  80.470193  0.496216   \n",
        "36  20090309.WASMIN  120      2880  -11   99  39.350280  80.366739  0.489634   \n",
        "37  20090311.MEMMIN  153      2880   25  104  40.264901  80.529801  0.500000   \n",
        "38  20090313.NYKMIN  171      2880   -8   94  40.264901  80.529801  0.500000   \n",
        "39  20090314.CHAMIN   91      2880    8  108  40.264901  80.529801  0.500000   \n",
        "40  20090317.MINSAS  105      2880   -7   86  36.919481  82.531221  0.447340   \n",
        "41  20090318.MINNOH  190      2880   -1   93  38.451380  81.529536  0.471625   \n",
        "42  20090320.MINHOU  105      2880  -19   88  36.652990  83.123120  0.440948   \n",
        "43  20090322.OKCMIN   78      2880   -7   90  39.649260  80.420042  0.493027   \n",
        "44  20090323.MINATL   55      2880  -12   97  38.346713  76.992108  0.498060   \n",
        "45  20090325.MINPHI  136      2880   -8   88  38.769786  78.216966  0.495670   \n",
        "46  20090327.MINCLE  120      2880  -22   85  40.170867  80.513037  0.498936   \n",
        "47  20090329.NJNMIN  120      2880    9  108  40.264901  80.529801  0.500000   \n",
        "48  20090331.DALMIN  120      2880  -20   88  40.264901  80.529801  0.500000   \n",
        "49  20090403.MINUTA  231      2880    1  103  40.264901  80.529801  0.500000   \n",
        "50  20090405.DENMIN   78      2880  -23   87  40.264901  80.529801  0.500000   \n",
        "51  20090407.MINLAC  105      2880   10   87  40.264901  80.529801  0.500000   \n",
        "52  20090408.MINGSW  105      2880    8  105  42.198675  81.397351  0.518428   \n",
        "53  20090411.PHXMIN  153      2880  -13   97  40.264901  80.529801  0.500000   \n",
        "54  20090413.MINDAL   91      2880   -2   94  40.264901  80.529801  0.500000   \n",
        "55  20090415.SACMIN  153      2880   -7   90  40.264901  80.529801  0.500000   \n",
        "\n",
        "          B3M        B3A    ...          DRBP        TRB      TRBP        TOV  \\\n",
        "0    7.565017  17.506118    ...      0.336304  45.833473  0.185310  12.615213   \n",
        "1    6.807132  17.175705    ...      0.301585  42.623510  0.176405  11.833542   \n",
        "2    7.942960  19.130936    ...      0.316295  48.568212  0.174349  12.976141   \n",
        "3    6.933033  15.380415    ...      0.493300  49.974112  0.335455  10.569311   \n",
        "4    6.660171  17.317302    ...      0.306272  40.820871  0.171645  11.258605   \n",
        "5    7.199763  18.345902    ...      0.275943  40.198303  0.143978  11.884580   \n",
        "6    7.149147  18.578534    ...      0.305979  38.475911  0.164796  11.793781   \n",
        "7    7.433012  19.161265    ...      0.279066  37.834330  0.143402  12.223328   \n",
        "8    6.975537  18.222139    ...      0.297713  38.868299  0.159710  11.531071   \n",
        "9    7.168894  18.619072    ...      0.317880  38.431280  0.171621  11.823662   \n",
        "10   7.174654  18.630895    ...      0.317772  38.418262  0.171573  11.832378   \n",
        "11   7.348264  18.987290    ...      0.327723  38.025875  0.177670  12.095087   \n",
        "12   7.114590  18.507592    ...      0.318895  38.554017  0.172075  11.741488   \n",
        "13   7.290668  18.869055    ...      0.315594  38.156051  0.170601  12.007932   \n",
        "14   7.789183  20.298933    ...      0.296105  42.720383  0.160470  12.863916   \n",
        "15   7.200983  18.684945    ...      0.317279  38.358753  0.171352  11.872220   \n",
        "16   6.973891  18.218760    ...      0.334874  38.872018  0.180908  11.528581   \n",
        "17   6.840598  17.945130    ...      0.337384  39.173282  0.182055  11.326881   \n",
        "18   6.909713  18.087013    ...      0.366500  39.017071  0.199049  11.431466   \n",
        "19   6.913827  18.095458    ...      0.366420  39.007773  0.211990  11.437691   \n",
        "20   6.357616  16.953642    ...      0.377136  40.264901  0.232389  10.596026   \n",
        "21   6.488709  17.215376    ...      0.384442  40.216678  0.230182  10.550971   \n",
        "22   6.416608  17.071422    ...      0.367775  40.243201  0.218424  10.575752   \n",
        "23   9.713593  23.654013    ...      0.333994  39.030404  0.171917   9.442616   \n",
        "24   8.313084  20.857830    ...      0.328685  39.545581  0.174945   9.923955   \n",
        "25   8.085857  20.404159    ...      0.316437  39.629167  0.168184  10.002050   \n",
        "26   7.135434  18.506593    ...      0.352348  39.978780  0.206631  10.328700   \n",
        "27   8.712918  21.656116    ...      0.349974  39.398503  0.191815   9.786537   \n",
        "28   9.173536  22.239718    ...      0.345652  39.661288  0.193318   9.752969   \n",
        "29   3.178808   8.476821    ...      0.280772  20.132450  0.152366   5.298013   \n",
        "30  10.479117  24.763013    ...      0.336911  39.288248  0.182069   9.335200   \n",
        "31   6.815550  17.995759    ...      0.339275  44.241522  0.208941  11.231668   \n",
        "32   6.357616  16.953642    ...      0.361072  40.264901  0.220310  10.596026   \n",
        "33   6.357616  16.953642    ...      0.320160  40.264901  0.190590  10.596026   \n",
        "34   6.357616  16.953642    ...      0.332727  40.264901  0.199563  10.596026   \n",
        "35   7.266526  18.768326    ...      0.336335  39.930558  0.185352  10.283645   \n",
        "36   8.844010  21.917849    ...      0.381513  39.350280  0.211163   9.741482   \n",
        "37   6.357616  16.953642    ...      0.332727  40.264901  0.199563  10.596026   \n",
        "38   6.357616  16.953642    ...      0.320160  40.264901  0.190590  10.596026   \n",
        "39   6.357616  16.953642    ...      0.394696  40.264901  0.245870  10.596026   \n",
        "40   7.866510  20.076769    ...      0.390293  43.294481  0.235559  10.763242   \n",
        "41   7.424402  19.139832    ...      0.321126  41.698091  0.182728  10.578657   \n",
        "42   6.723917  17.822736    ...      0.377499  44.597069  0.244908  11.324735   \n",
        "43   8.031235  20.295103    ...      0.431722  39.649260  0.253109  10.020823   \n",
        "44  11.368453  24.683859    ...      0.459492  41.346713  0.297787   9.718042   \n",
        "45  10.291617  23.351873    ...      0.344222  40.690748  0.209002   9.784503   \n",
        "46   6.613247  17.464022    ...      0.374705  40.170867  0.216355  10.508169   \n",
        "47   6.357616  16.953642    ...      0.361072  40.264901  0.220310  10.596026   \n",
        "48   6.357616  16.953642    ...      0.361072  40.264901  0.220310  10.596026   \n",
        "49   6.357616  16.953642    ...      0.287576  40.264901  0.167935  10.596026   \n",
        "50   6.357616  16.953642    ...      0.413972  40.264901  0.261011  10.596026   \n",
        "51   6.357616  16.953642    ...      0.377136  40.264901  0.232389  10.596026   \n",
        "52   6.768212  16.715232    ...      0.387009  40.198675  0.227498   7.947020   \n",
        "53   6.357616  16.953642    ...      0.332727  40.264901  0.199563  10.596026   \n",
        "54   6.357616  16.953642    ...      0.394696  40.264901  0.245870  10.596026   \n",
        "55   6.357616  16.953642    ...      0.332727  40.264901  0.199563  10.596026   \n",
        "\n",
        "        TOVP       STL       BLK          F  oppORB  oppDRB  \n",
        "0   0.122876  5.603751  2.976085  14.555922    65.5     136  \n",
        "1   0.121748  3.561442  4.293926  13.614263    73.0     126  \n",
        "2   0.116878  6.373838  3.426352  15.331638    76.0     154  \n",
        "3   0.102479  5.323719  3.210209  15.135856    37.0      62  \n",
        "4   0.117015  4.439763  4.013038  13.004055    68.0     129  \n",
        "5   0.121341  5.550543  3.462970  13.164381    77.0     162  \n",
        "6   0.120677  6.830997  2.822664  12.476325    63.0     132  \n",
        "7   0.123766  7.760771  2.314937  12.390646    70.0     156  \n",
        "8   0.118755  6.262353  3.133186  12.528725    66.5     138  \n",
        "9   0.120894  6.895677  2.787344  12.470364    59.5     126  \n",
        "10  0.120957  6.914542  2.777042  12.468626    59.5     126  \n",
        "11  0.122851  7.483186  2.466519  12.416225    56.0     120  \n",
        "12  0.120296  6.717807  2.884474  12.486755    59.5     126  \n",
        "13  0.122225  7.294536  2.569536  12.433609    59.5     126  \n",
        "14  0.119630  7.199733  3.303900  13.807533    73.5     150  \n",
        "15  0.121246  7.000782  2.729948  12.460679    59.5     126  \n",
        "16  0.118736  6.256963  3.136130  12.529222    56.0     120  \n",
        "17  0.117244  5.820373  3.374540  12.569454    56.0     120  \n",
        "18  0.118020  6.046753  3.250920  12.548593    49.0     108  \n",
        "19  0.118066  6.060228  3.243561  12.547351    49.0      96  \n",
        "20  0.111707  4.238411  4.238411  12.715232    49.0      84  \n",
        "21  0.111024  4.237958  4.325806  12.889570    47.5      87  \n",
        "22  0.111399  4.238207  4.277738  12.793684    51.0      93  \n",
        "23  0.094988  4.226827  6.475729  17.178284    59.0     129  \n",
        "24  0.101775  4.231661  5.542056  15.315773    60.5     126  \n",
        "25  0.102901  4.232445  5.390571  15.013588    64.0     132  \n",
        "26  0.107690  4.235726  4.756956  13.749637    54.5      99  \n",
        "27  0.099810  4.230281  5.808612  15.847504    55.0     111  \n",
        "28  0.099117  4.040413  5.770902  16.173283    55.5     110  \n",
        "29  0.111707  4.119205  7.119205   6.357616    38.0      74  \n",
        "30  0.093258  3.989202  6.555761  17.838409    57.5     119  \n",
        "31  0.112819  3.136041  6.181858  13.042520    59.5     108  \n",
        "32  0.111707  4.238411  4.238411  12.715232    52.5      90  \n",
        "33  0.111707  4.238411  4.238411  12.715232    63.0     108  \n",
        "34  0.111707  4.238411  4.238411  12.715232    59.5     102  \n",
        "35  0.107022  4.235273  4.844351  13.923975    58.5     117  \n",
        "36  0.099171  4.229828  5.896007  16.021842    48.0      99  \n",
        "37  0.111707  4.238411  4.238411  12.715232    59.5     102  \n",
        "38  0.111707  4.238411  4.238411  12.715232    63.0     108  \n",
        "39  0.111707  4.238411  4.238411  12.715232    45.5      78  \n",
        "40  0.107172  3.281248  6.661007  14.478262    47.5      93  \n",
        "41  0.107836  3.749910  5.671092  14.009858    63.5     123  \n",
        "42  0.113534  3.050888  6.247963  12.898787    50.5      87  \n",
        "43  0.103173  4.232634  5.354156  14.940947    39.0      78  \n",
        "44  0.097403  2.946953  5.245635  17.438224    32.5      65  \n",
        "45  0.098845  3.408960  5.366996  16.704235    54.0     100  \n",
        "46  0.110377  4.237528  4.408831  13.055191    49.5      96  \n",
        "47  0.111707  4.238411  4.238411  12.715232    52.5      90  \n",
        "48  0.111707  4.238411  4.238411  12.715232    52.5      90  \n",
        "49  0.111707  4.238411  4.238411  12.715232    73.5     126  \n",
        "50  0.111707  4.238411  4.238411  12.715232    42.0      72  \n",
        "51  0.111707  4.238411  4.238411  12.715232    49.0      84  \n",
        "52  0.085432  4.178808  6.178808  13.536424    49.5      87  \n",
        "53  0.111707  4.238411  4.238411  12.715232    59.5     102  \n",
        "54  0.111707  4.238411  4.238411  12.715232    45.5      78  \n",
        "55  0.111707  4.238411  4.238411  12.715232    59.5     102  \n",
        "\n",
        "[56 rows x 27 columns]"
       ]
      },
      {
       "output_type": "stream",
       "stream": "stdout",
       "text": [
        "\n",
        "DEN\n"
       ]
      },
      {
       "ename": "KeyboardInterrupt",
       "evalue": "",
       "output_type": "pyerr",
       "traceback": [
        "\u001b[0;31m---------------------------------------------------------------------------\u001b[0m\n\u001b[0;31mKeyboardInterrupt\u001b[0m                         Traceback (most recent call last)",
        "\u001b[0;32m<ipython-input-8-6b9ce443c440>\u001b[0m in \u001b[0;36m<module>\u001b[0;34m()\u001b[0m\n\u001b[1;32m      4\u001b[0m     \u001b[0;32mprint\u001b[0m \u001b[0mteam\u001b[0m\u001b[0;34m\u001b[0m\u001b[0m\n\u001b[1;32m      5\u001b[0m     \u001b[0mteam_median\u001b[0m \u001b[0;34m=\u001b[0m \u001b[0mteams_median\u001b[0m\u001b[0;34m[\u001b[0m\u001b[0mteams_median\u001b[0m\u001b[0;34m.\u001b[0m\u001b[0mteamname\u001b[0m\u001b[0;34m==\u001b[0m\u001b[0mteamname\u001b[0m\u001b[0;34m]\u001b[0m\u001b[0;34m.\u001b[0m\u001b[0msqueeze\u001b[0m\u001b[0;34m(\u001b[0m\u001b[0;34m)\u001b[0m\u001b[0;34m\u001b[0m\u001b[0m\n\u001b[0;32m----> 6\u001b[0;31m     \u001b[0mdata\u001b[0m \u001b[0;34m=\u001b[0m \u001b[0mgenerate_supplied_data\u001b[0m\u001b[0;34m(\u001b[0m\u001b[0mreference\u001b[0m\u001b[0;34m,\u001b[0m\u001b[0mteam_median\u001b[0m\u001b[0;34m)\u001b[0m\u001b[0;34m\u001b[0m\u001b[0m\n\u001b[0m\u001b[1;32m      7\u001b[0m     \u001b[0magg_data\u001b[0m \u001b[0;34m=\u001b[0m \u001b[0maggregate_teams_data\u001b[0m\u001b[0;34m(\u001b[0m\u001b[0mdata\u001b[0m\u001b[0;34m.\u001b[0m\u001b[0mgroupby\u001b[0m\u001b[0;34m(\u001b[0m\u001b[0;34m'SN'\u001b[0m\u001b[0;34m,\u001b[0m\u001b[0mas_index\u001b[0m\u001b[0;34m=\u001b[0m\u001b[0mFalse\u001b[0m\u001b[0;34m)\u001b[0m\u001b[0;34m)\u001b[0m\u001b[0;34m\u001b[0m\u001b[0m\n\u001b[1;32m      8\u001b[0m     \u001b[0;32mprint\u001b[0m \u001b[0magg_data\u001b[0m\u001b[0;34m\u001b[0m\u001b[0m\n",
        "\u001b[0;32m<ipython-input-3-b7cfabf69859>\u001b[0m in \u001b[0;36mgenerate_supplied_data\u001b[0;34m(dfr, team_median)\u001b[0m\n\u001b[1;32m     52\u001b[0m             \u001b[0;32mfor\u001b[0m \u001b[0mnth_combi\u001b[0m \u001b[0;32min\u001b[0m \u001b[0mrange\u001b[0m\u001b[0;34m(\u001b[0m\u001b[0;36m1\u001b[0m\u001b[0;34m,\u001b[0m\u001b[0mteam\u001b[0m\u001b[0;34m.\u001b[0m\u001b[0mtotalcombi\u001b[0m\u001b[0;34m+\u001b[0m\u001b[0;36m1\u001b[0m\u001b[0;34m)\u001b[0m\u001b[0;34m:\u001b[0m \u001b[0;31m#LOOP OVER TEAMS OF A GAME\u001b[0m\u001b[0;34m\u001b[0m\u001b[0m\n\u001b[1;32m     53\u001b[0m                 \u001b[0mcombi_data_raw\u001b[0m \u001b[0;34m=\u001b[0m \u001b[0mteam\u001b[0m\u001b[0;34m.\u001b[0m\u001b[0mgive_nth_combination\u001b[0m\u001b[0;34m(\u001b[0m\u001b[0mnth_combi\u001b[0m\u001b[0;34m)\u001b[0m\u001b[0;34m.\u001b[0m\u001b[0mcopy\u001b[0m\u001b[0;34m(\u001b[0m\u001b[0;34m)\u001b[0m \u001b[0;31m#This is used to obtain teh members of the team\u001b[0m\u001b[0;34m\u001b[0m\u001b[0m\n\u001b[0;32m---> 54\u001b[0;31m                 \u001b[0mcombi_data\u001b[0m \u001b[0;34m=\u001b[0m \u001b[0mBasketballPart\u001b[0m\u001b[0;34m(\u001b[0m\u001b[0mteam\u001b[0m\u001b[0;34m,\u001b[0m\u001b[0mnth_combi\u001b[0m\u001b[0;34m)\u001b[0m\u001b[0;34m\u001b[0m\u001b[0m\n\u001b[0m\u001b[1;32m     55\u001b[0m \u001b[0;34m\u001b[0m\u001b[0m\n\u001b[1;32m     56\u001b[0m                 \u001b[0mplayer_list\u001b[0m \u001b[0;34m=\u001b[0m \u001b[0mget_player_list\u001b[0m\u001b[0;34m(\u001b[0m\u001b[0mcombi_data_raw\u001b[0m\u001b[0;34m,\u001b[0m\u001b[0mteam\u001b[0m\u001b[0;34m.\u001b[0m\u001b[0mteamno\u001b[0m\u001b[0;34m)\u001b[0m\u001b[0;34m\u001b[0m\u001b[0m\n",
        "\u001b[0;32m/Users/luoyicheng/Developer/research/data_analysis/src/Basketball.pyc\u001b[0m in \u001b[0;36m__init__\u001b[0;34m(self, Basketball, nth_combination)\u001b[0m\n\u001b[1;32m    144\u001b[0m                 \u001b[0mpart\u001b[0m \u001b[0;34m=\u001b[0m \u001b[0mBasketball\u001b[0m\u001b[0;34m.\u001b[0m\u001b[0mgive_nth_combination\u001b[0m\u001b[0;34m(\u001b[0m\u001b[0mnth_combination\u001b[0m\u001b[0;34m)\u001b[0m\u001b[0;34m\u001b[0m\u001b[0m\n\u001b[1;32m    145\u001b[0m                 \u001b[0mselector\u001b[0m \u001b[0;34m=\u001b[0m \u001b[0mpart\u001b[0m\u001b[0;34m[\u001b[0m\u001b[0mpart\u001b[0m\u001b[0;34m[\u001b[0m\u001b[0;34m'team'\u001b[0m\u001b[0;34m]\u001b[0m\u001b[0;34m==\u001b[0m\u001b[0mteamname\u001b[0m\u001b[0;34m]\u001b[0m\u001b[0;34m\u001b[0m\u001b[0m\n\u001b[0;32m--> 146\u001b[0;31m                 \u001b[0mself\u001b[0m\u001b[0;34m.\u001b[0m\u001b[0mFGM\u001b[0m \u001b[0;34m=\u001b[0m \u001b[0mcalculate_FGM\u001b[0m\u001b[0;34m(\u001b[0m\u001b[0mselector\u001b[0m\u001b[0;34m)\u001b[0m\u001b[0;34m\u001b[0m\u001b[0m\n\u001b[0m\u001b[1;32m    147\u001b[0m                 \u001b[0mself\u001b[0m\u001b[0;34m.\u001b[0m\u001b[0mFGA\u001b[0m \u001b[0;34m=\u001b[0m \u001b[0mcalculate_FGA\u001b[0m\u001b[0;34m(\u001b[0m\u001b[0mselector\u001b[0m\u001b[0;34m)\u001b[0m\u001b[0;34m\u001b[0m\u001b[0m\n\u001b[1;32m    148\u001b[0m                 \u001b[0mself\u001b[0m\u001b[0;34m.\u001b[0m\u001b[0mFGP\u001b[0m \u001b[0;34m=\u001b[0m \u001b[0mfloat\u001b[0m\u001b[0;34m(\u001b[0m\u001b[0mself\u001b[0m\u001b[0;34m.\u001b[0m\u001b[0mFGM\u001b[0m\u001b[0;34m)\u001b[0m \u001b[0;34m/\u001b[0m \u001b[0mself\u001b[0m\u001b[0;34m.\u001b[0m\u001b[0mFGA\u001b[0m \u001b[0;32mif\u001b[0m \u001b[0mself\u001b[0m\u001b[0;34m.\u001b[0m\u001b[0mFGA\u001b[0m\u001b[0;34m!=\u001b[0m\u001b[0;36m0\u001b[0m \u001b[0;32melse\u001b[0m \u001b[0;36m0\u001b[0m\u001b[0;34m\u001b[0m\u001b[0m\n",
        "\u001b[0;32m/Users/luoyicheng/Developer/research/data_analysis/src/calc.pyc\u001b[0m in \u001b[0;36mcalculate_FGM\u001b[0;34m(df)\u001b[0m\n\u001b[1;32m      8\u001b[0m \u001b[0;32mdef\u001b[0m \u001b[0mcalculate_FGM\u001b[0m\u001b[0;34m(\u001b[0m\u001b[0mdf\u001b[0m\u001b[0;34m)\u001b[0m\u001b[0;34m:\u001b[0m\u001b[0;34m\u001b[0m\u001b[0m\n\u001b[1;32m      9\u001b[0m         \u001b[0mcond_pt\u001b[0m \u001b[0;34m=\u001b[0m \u001b[0;34m(\u001b[0m\u001b[0mdf\u001b[0m\u001b[0;34m[\u001b[0m\u001b[0;34m'etype'\u001b[0m\u001b[0;34m]\u001b[0m\u001b[0;34m==\u001b[0m\u001b[0;34m'shot'\u001b[0m\u001b[0;34m)\u001b[0m \u001b[0;34m&\u001b[0m \u001b[0;34m(\u001b[0m\u001b[0mdf\u001b[0m\u001b[0;34m[\u001b[0m\u001b[0;34m'result'\u001b[0m\u001b[0;34m]\u001b[0m\u001b[0;34m==\u001b[0m\u001b[0;34m'made'\u001b[0m\u001b[0;34m)\u001b[0m\u001b[0;34m\u001b[0m\u001b[0m\n\u001b[0;32m---> 10\u001b[0;31m         \u001b[0;32mreturn\u001b[0m \u001b[0mlen\u001b[0m\u001b[0;34m(\u001b[0m\u001b[0mdf\u001b[0m\u001b[0;34m[\u001b[0m\u001b[0mcond_pt\u001b[0m\u001b[0;34m]\u001b[0m\u001b[0;34m.\u001b[0m\u001b[0mindex\u001b[0m\u001b[0;34m)\u001b[0m\u001b[0;34m\u001b[0m\u001b[0m\n\u001b[0m\u001b[1;32m     11\u001b[0m \u001b[0;32mdef\u001b[0m \u001b[0mcalculate_FGA\u001b[0m\u001b[0;34m(\u001b[0m\u001b[0mdf\u001b[0m\u001b[0;34m)\u001b[0m\u001b[0;34m:\u001b[0m\u001b[0;34m\u001b[0m\u001b[0m\n\u001b[1;32m     12\u001b[0m         \u001b[0mshot_cond\u001b[0m\u001b[0;34m=\u001b[0m \u001b[0mdf\u001b[0m\u001b[0;34m[\u001b[0m\u001b[0;34m'etype'\u001b[0m\u001b[0;34m]\u001b[0m\u001b[0;34m==\u001b[0m\u001b[0;34m'shot'\u001b[0m\u001b[0;34m\u001b[0m\u001b[0m\n",
        "\u001b[0;32m/Users/luoyicheng/.virtualenvs/venv/lib/python2.7/site-packages/pandas/core/frame.pyc\u001b[0m in \u001b[0;36m__getitem__\u001b[0;34m(self, key)\u001b[0m\n\u001b[1;32m   1676\u001b[0m         \u001b[0;32mif\u001b[0m \u001b[0misinstance\u001b[0m\u001b[0;34m(\u001b[0m\u001b[0mkey\u001b[0m\u001b[0;34m,\u001b[0m \u001b[0;34m(\u001b[0m\u001b[0mSeries\u001b[0m\u001b[0;34m,\u001b[0m \u001b[0mnp\u001b[0m\u001b[0;34m.\u001b[0m\u001b[0mndarray\u001b[0m\u001b[0;34m,\u001b[0m \u001b[0mlist\u001b[0m\u001b[0;34m)\u001b[0m\u001b[0;34m)\u001b[0m\u001b[0;34m:\u001b[0m\u001b[0;34m\u001b[0m\u001b[0m\n\u001b[1;32m   1677\u001b[0m             \u001b[0;31m# either boolean or fancy integer index\u001b[0m\u001b[0;34m\u001b[0m\u001b[0;34m\u001b[0m\u001b[0m\n\u001b[0;32m-> 1678\u001b[0;31m             \u001b[0;32mreturn\u001b[0m \u001b[0mself\u001b[0m\u001b[0;34m.\u001b[0m\u001b[0m_getitem_array\u001b[0m\u001b[0;34m(\u001b[0m\u001b[0mkey\u001b[0m\u001b[0;34m)\u001b[0m\u001b[0;34m\u001b[0m\u001b[0m\n\u001b[0m\u001b[1;32m   1679\u001b[0m         \u001b[0;32melif\u001b[0m \u001b[0misinstance\u001b[0m\u001b[0;34m(\u001b[0m\u001b[0mkey\u001b[0m\u001b[0;34m,\u001b[0m \u001b[0mDataFrame\u001b[0m\u001b[0;34m)\u001b[0m\u001b[0;34m:\u001b[0m\u001b[0;34m\u001b[0m\u001b[0m\n\u001b[1;32m   1680\u001b[0m             \u001b[0;32mreturn\u001b[0m \u001b[0mself\u001b[0m\u001b[0;34m.\u001b[0m\u001b[0m_getitem_frame\u001b[0m\u001b[0;34m(\u001b[0m\u001b[0mkey\u001b[0m\u001b[0;34m)\u001b[0m\u001b[0;34m\u001b[0m\u001b[0m\n",
        "\u001b[0;32m/Users/luoyicheng/.virtualenvs/venv/lib/python2.7/site-packages/pandas/core/frame.pyc\u001b[0m in \u001b[0;36m_getitem_array\u001b[0;34m(self, key)\u001b[0m\n\u001b[1;32m   1718\u001b[0m             \u001b[0mkey\u001b[0m \u001b[0;34m=\u001b[0m \u001b[0m_check_bool_indexer\u001b[0m\u001b[0;34m(\u001b[0m\u001b[0mself\u001b[0m\u001b[0;34m.\u001b[0m\u001b[0mindex\u001b[0m\u001b[0;34m,\u001b[0m \u001b[0mkey\u001b[0m\u001b[0;34m)\u001b[0m\u001b[0;34m\u001b[0m\u001b[0m\n\u001b[1;32m   1719\u001b[0m             \u001b[0mindexer\u001b[0m \u001b[0;34m=\u001b[0m \u001b[0mkey\u001b[0m\u001b[0;34m.\u001b[0m\u001b[0mnonzero\u001b[0m\u001b[0;34m(\u001b[0m\u001b[0;34m)\u001b[0m\u001b[0;34m[\u001b[0m\u001b[0;36m0\u001b[0m\u001b[0;34m]\u001b[0m\u001b[0;34m\u001b[0m\u001b[0m\n\u001b[0;32m-> 1720\u001b[0;31m             \u001b[0;32mreturn\u001b[0m \u001b[0mself\u001b[0m\u001b[0;34m.\u001b[0m\u001b[0mtake\u001b[0m\u001b[0;34m(\u001b[0m\u001b[0mindexer\u001b[0m\u001b[0;34m,\u001b[0m \u001b[0maxis\u001b[0m\u001b[0;34m=\u001b[0m\u001b[0;36m0\u001b[0m\u001b[0;34m,\u001b[0m \u001b[0mconvert\u001b[0m\u001b[0;34m=\u001b[0m\u001b[0mFalse\u001b[0m\u001b[0;34m)\u001b[0m\u001b[0;34m\u001b[0m\u001b[0m\n\u001b[0m\u001b[1;32m   1721\u001b[0m         \u001b[0;32melse\u001b[0m\u001b[0;34m:\u001b[0m\u001b[0;34m\u001b[0m\u001b[0m\n\u001b[1;32m   1722\u001b[0m             \u001b[0mindexer\u001b[0m \u001b[0;34m=\u001b[0m \u001b[0mself\u001b[0m\u001b[0;34m.\u001b[0m\u001b[0mix\u001b[0m\u001b[0;34m.\u001b[0m\u001b[0m_convert_to_indexer\u001b[0m\u001b[0;34m(\u001b[0m\u001b[0mkey\u001b[0m\u001b[0;34m,\u001b[0m \u001b[0maxis\u001b[0m\u001b[0;34m=\u001b[0m\u001b[0;36m1\u001b[0m\u001b[0;34m)\u001b[0m\u001b[0;34m\u001b[0m\u001b[0m\n",
        "\u001b[0;32m/Users/luoyicheng/.virtualenvs/venv/lib/python2.7/site-packages/pandas/core/generic.pyc\u001b[0m in \u001b[0;36mtake\u001b[0;34m(self, indices, axis, convert, is_copy)\u001b[0m\n\u001b[1;32m   1233\u001b[0m         new_data = self._data.take(indices,\n\u001b[1;32m   1234\u001b[0m                                    \u001b[0maxis\u001b[0m\u001b[0;34m=\u001b[0m\u001b[0mself\u001b[0m\u001b[0;34m.\u001b[0m\u001b[0m_get_block_manager_axis\u001b[0m\u001b[0;34m(\u001b[0m\u001b[0maxis\u001b[0m\u001b[0;34m)\u001b[0m\u001b[0;34m,\u001b[0m\u001b[0;34m\u001b[0m\u001b[0m\n\u001b[0;32m-> 1235\u001b[0;31m                                    convert=True, verify=True)\n\u001b[0m\u001b[1;32m   1236\u001b[0m         \u001b[0mresult\u001b[0m \u001b[0;34m=\u001b[0m \u001b[0mself\u001b[0m\u001b[0;34m.\u001b[0m\u001b[0m_constructor\u001b[0m\u001b[0;34m(\u001b[0m\u001b[0mnew_data\u001b[0m\u001b[0;34m)\u001b[0m\u001b[0;34m.\u001b[0m\u001b[0m__finalize__\u001b[0m\u001b[0;34m(\u001b[0m\u001b[0mself\u001b[0m\u001b[0;34m)\u001b[0m\u001b[0;34m\u001b[0m\u001b[0m\n\u001b[1;32m   1237\u001b[0m \u001b[0;34m\u001b[0m\u001b[0m\n",
        "\u001b[0;32m/Users/luoyicheng/.virtualenvs/venv/lib/python2.7/site-packages/pandas/core/internals.pyc\u001b[0m in \u001b[0;36mtake\u001b[0;34m(self, indexer, axis, verify, convert)\u001b[0m\n\u001b[1;32m   2930\u001b[0m                                 'the axis length')\n\u001b[1;32m   2931\u001b[0m \u001b[0;34m\u001b[0m\u001b[0m\n\u001b[0;32m-> 2932\u001b[0;31m         \u001b[0mnew_labels\u001b[0m \u001b[0;34m=\u001b[0m \u001b[0mself\u001b[0m\u001b[0;34m.\u001b[0m\u001b[0maxes\u001b[0m\u001b[0;34m[\u001b[0m\u001b[0maxis\u001b[0m\u001b[0;34m]\u001b[0m\u001b[0;34m.\u001b[0m\u001b[0mtake\u001b[0m\u001b[0;34m(\u001b[0m\u001b[0mindexer\u001b[0m\u001b[0;34m)\u001b[0m\u001b[0;34m\u001b[0m\u001b[0m\n\u001b[0m\u001b[1;32m   2933\u001b[0m         return self.reindex_indexer(new_axis=new_labels, indexer=indexer,\n\u001b[1;32m   2934\u001b[0m                                     axis=axis, allow_dups=True)\n",
        "\u001b[0;31mKeyboardInterrupt\u001b[0m: "
       ]
      }
     ],
     "prompt_number": 8
    },
    {
     "cell_type": "code",
     "collapsed": false,
     "input": [
      "print output"
     ],
     "language": "python",
     "metadata": {},
     "outputs": [
      {
       "output_type": "stream",
       "stream": "stdout",
       "text": [
        "                  SN   NO  interval  PTD    P        FGM        FGA       FGP  \\\n",
        "0    20081228.MIACLE   91      2880    7   93  34.797441  65.501066  0.531250   \n",
        "1    20081230.CLEMIA  253      2880   -9   95  34.797441  65.501066  0.531250   \n",
        "2    20090102.CHICLE  253      2880   25  117  34.797441  65.501066  0.531250   \n",
        "3    20090104.CLEWAS  171      2880   -3   77  34.797441  65.501066  0.531250   \n",
        "4    20090107.CHACLE  171      2880   30  111  34.797441  65.501066  0.531250   \n",
        "5    20090109.BOSCLE  153      2880   15   98  34.797441  65.501066  0.531250   \n",
        "6    20090113.CLEMEM  210      2880   15  102  34.797441  65.501066  0.531250   \n",
        "7    20090115.CLECHI  171      3180   -9   93  38.422175  72.324094  0.531250   \n",
        "8    20090116.NOHCLE  210      2880   14   92  34.797441  65.501066  0.531250   \n",
        "9    20090119.CLELAL  153      2880  -17   88  34.797441  65.501066  0.531250   \n",
        "10   20090121.CLEPOR  325      2880    6  104  34.797441  65.501066  0.531250   \n",
        "11   20090123.CLEGSW  210      2880    1  106  34.797441  65.501066  0.531250   \n",
        "12   20090124.CLEUTA  171      2880    5  102  34.797441  65.501066  0.531250   \n",
        "13   20090127.SACCLE  136      2880    7  117  34.797441  65.501066  0.531250   \n",
        "14   20090129.CLEORL  231      2880  -11   88  34.797441  65.501066  0.531250   \n",
        "15   20090130.LACCLE  210      2880   17  112  34.797441  65.501066  0.531250   \n",
        "16   20090201.CLEDET  153      2880   10   90  34.797441  65.501066  0.531250   \n",
        "17   20090203.TORCLE  190      2880   18  101  34.797441  65.501066  0.531250   \n",
        "18   20090204.CLENYK  300      2880    5  107  34.797441  65.501066  0.531250   \n",
        "19   20090208.LALCLE  105      2880  -10   91  34.797441  65.501066  0.531250   \n",
        "20   20090210.CLEIND  253      2880   -1   95  34.797441  65.501066  0.531250   \n",
        "21   20090211.PHXCLE  171      2880   17  109  34.797441  65.501066  0.531250   \n",
        "22   20090218.CLETOR  171      2880   17   93  34.797441  65.501066  0.531250   \n",
        "23   20090220.CLEMIL  300      2880    8  111  34.797441  65.501066  0.531250   \n",
        "24   20090222.DETCLE   91      2880   21   99  34.797441  65.501066  0.531250   \n",
        "25   20090224.MEMCLE  136      2880   15   94  34.797441  65.501066  0.531250   \n",
        "26   20090226.CLEHOU  120      2880  -19   74  34.797441  65.501066  0.531250   \n",
        "27   20090227.CLESAS  231      2880   11   97  34.797441  65.501066  0.531250   \n",
        "28   20090301.CLEATL  171      2880    1   88  34.797441  65.501066  0.531250   \n",
        "29   20090302.CLEMIA  210      2880    7  107  34.797441  65.501066  0.531250   \n",
        "..               ...  ...       ...  ...  ...        ...        ...       ...   \n",
        "338  20090220.INDMIN  136      2880   -7  105  39.978780  80.478791  0.496762   \n",
        "339  20090222.LALMIN  153      2880   -3  108  39.398503  80.375336  0.490181   \n",
        "340  20090224.MINTOR  153      2880   -8  110  39.217989  79.870935  0.491017   \n",
        "341  20090225.MEMIND   55      2880  -99    0  20.132450  40.264901  0.500000   \n",
        "342  20090225.UTAMIN  171      2880  -17  103  38.734984  79.667684  0.486207   \n",
        "343  20090227.PORMIN  153      2880  -20   82  36.869812  82.928532  0.444597   \n",
        "344  20090301.HOUMIN  120      2880  -11   94  40.264901  80.529801  0.500000   \n",
        "345  20090303.GSWMIN  171      2880  -24   94  40.264901  80.529801  0.500000   \n",
        "346  20090306.MINLAL  153      2880  -20   90  40.264901  80.529801  0.500000   \n",
        "347  20090307.MINPOR  171      2880   -2   93  39.930558  80.470193  0.496216   \n",
        "348  20090309.WASMIN  120      2880  -11   99  39.350280  80.366739  0.489634   \n",
        "349  20090311.MEMMIN  153      2880   25  104  40.264901  80.529801  0.500000   \n",
        "350  20090313.NYKMIN  171      2880   -8   94  40.264901  80.529801  0.500000   \n",
        "351  20090314.CHAMIN   91      2880    8  108  40.264901  80.529801  0.500000   \n",
        "352  20090317.MINSAS  105      2880   -7   86  36.919481  82.531221  0.447340   \n",
        "353  20090318.MINNOH  190      2880   -1   93  38.451380  81.529536  0.471625   \n",
        "354  20090320.MINHOU  105      2880  -19   88  36.652990  83.123120  0.440948   \n",
        "355  20090322.OKCMIN   78      2880   -7   90  39.649260  80.420042  0.493027   \n",
        "356  20090323.MINATL   55      2880  -12   97  38.346713  76.992108  0.498060   \n",
        "357  20090325.MINPHI  136      2880   -8   88  38.769786  78.216966  0.495670   \n",
        "358  20090327.MINCLE  120      2880  -22   85  40.170867  80.513037  0.498936   \n",
        "359  20090329.NJNMIN  120      2880    9  108  40.264901  80.529801  0.500000   \n",
        "360  20090331.DALMIN  120      2880  -20   88  40.264901  80.529801  0.500000   \n",
        "361  20090403.MINUTA  231      2880    1  103  40.264901  80.529801  0.500000   \n",
        "362  20090405.DENMIN   78      2880  -23   87  40.264901  80.529801  0.500000   \n",
        "363  20090407.MINLAC  105      2880   10   87  40.264901  80.529801  0.500000   \n",
        "364  20090408.MINGSW  105      2880    8  105  42.198675  81.397351  0.518428   \n",
        "365  20090411.PHXMIN  153      2880  -13   97  40.264901  80.529801  0.500000   \n",
        "366  20090413.MINDAL   91      2880   -2   94  40.264901  80.529801  0.500000   \n",
        "367  20090415.SACMIN  153      2880   -7   90  40.264901  80.529801  0.500000   \n",
        "\n",
        "           B3M        B3A    ...          DRBP        TRB      TRBP  \\\n",
        "0    12.281450  24.562900    ...      0.485789  40.938166  0.259204   \n",
        "1    12.281450  24.562900    ...      0.358254  40.938166  0.171334   \n",
        "2    12.281450  24.562900    ...      0.358254  40.938166  0.171334   \n",
        "3    12.281450  24.562900    ...      0.405577  40.938166  0.201727   \n",
        "4    12.281450  24.562900    ...      0.405577  40.938166  0.201727   \n",
        "5    12.281450  24.562900    ...      0.419428  40.938166  0.211089   \n",
        "6    12.281450  24.562900    ...      0.380449  40.938166  0.185292   \n",
        "7    13.560768  27.121535    ...      0.429672  45.202559  0.218156   \n",
        "8    12.281450  24.562900    ...      0.380449  40.938166  0.185292   \n",
        "9    12.281450  24.562900    ...      0.419428  40.938166  0.211089   \n",
        "10   12.281450  24.562900    ...      0.329425  40.938166  0.153939   \n",
        "11   12.281450  24.562900    ...      0.380449  40.938166  0.185292   \n",
        "12   12.281450  24.562900    ...      0.405577  40.938166  0.201727   \n",
        "13   12.281450  24.562900    ...      0.434258  40.938166  0.221361   \n",
        "14   12.281450  24.562900    ...      0.369018  40.938166  0.178040   \n",
        "15   12.281450  24.562900    ...      0.380449  40.938166  0.185292   \n",
        "16   12.281450  24.562900    ...      0.419428  40.938166  0.211089   \n",
        "17   12.281450  24.562900    ...      0.392611  40.938166  0.193161   \n",
        "18   12.281450  24.562900    ...      0.338505  40.938166  0.159331   \n",
        "19   12.281450  24.562900    ...      0.467305  40.938166  0.245230   \n",
        "20   12.281450  24.562900    ...      0.358254  40.938166  0.171334   \n",
        "21   12.281450  24.562900    ...      0.405577  40.938166  0.201727   \n",
        "22   12.281450  24.562900    ...      0.405577  40.938166  0.201727   \n",
        "23   12.281450  24.562900    ...      0.338505  40.938166  0.159331   \n",
        "24   12.281450  24.562900    ...      0.485789  40.938166  0.259204   \n",
        "25   12.281450  24.562900    ...      0.434258  40.938166  0.221361   \n",
        "26   12.281450  24.562900    ...      0.434258  40.938166  0.221361   \n",
        "27   12.281450  24.562900    ...      0.338505  40.938166  0.159331   \n",
        "28   12.281450  24.562900    ...      0.358254  40.938166  0.171334   \n",
        "29   12.281450  24.562900    ...      0.338505  40.938166  0.159331   \n",
        "..         ...        ...    ...           ...        ...       ...   \n",
        "338   7.135434  18.506593    ...      0.352348  39.978780  0.206631   \n",
        "339   8.712918  21.656116    ...      0.349974  39.398503  0.191815   \n",
        "340   9.173536  22.239718    ...      0.345652  39.661288  0.193318   \n",
        "341   3.178808   8.476821    ...      0.280772  20.132450  0.152366   \n",
        "342  10.479117  24.763013    ...      0.336911  39.288248  0.182069   \n",
        "343   6.815550  17.995759    ...      0.339275  44.241522  0.208941   \n",
        "344   6.357616  16.953642    ...      0.361072  40.264901  0.220310   \n",
        "345   6.357616  16.953642    ...      0.320160  40.264901  0.190590   \n",
        "346   6.357616  16.953642    ...      0.332727  40.264901  0.199563   \n",
        "347   7.266526  18.768326    ...      0.336335  39.930558  0.185352   \n",
        "348   8.844010  21.917849    ...      0.381513  39.350280  0.211163   \n",
        "349   6.357616  16.953642    ...      0.332727  40.264901  0.199563   \n",
        "350   6.357616  16.953642    ...      0.320160  40.264901  0.190590   \n",
        "351   6.357616  16.953642    ...      0.394696  40.264901  0.245870   \n",
        "352   7.866510  20.076769    ...      0.390293  43.294481  0.235559   \n",
        "353   7.424402  19.139832    ...      0.321126  41.698091  0.182728   \n",
        "354   6.723917  17.822736    ...      0.377499  44.597069  0.244908   \n",
        "355   8.031235  20.295103    ...      0.431722  39.649260  0.253109   \n",
        "356  11.368453  24.683859    ...      0.459492  41.346713  0.297787   \n",
        "357  10.291617  23.351873    ...      0.344222  40.690748  0.209002   \n",
        "358   6.613247  17.464022    ...      0.374705  40.170867  0.216355   \n",
        "359   6.357616  16.953642    ...      0.361072  40.264901  0.220310   \n",
        "360   6.357616  16.953642    ...      0.361072  40.264901  0.220310   \n",
        "361   6.357616  16.953642    ...      0.287576  40.264901  0.167935   \n",
        "362   6.357616  16.953642    ...      0.413972  40.264901  0.261011   \n",
        "363   6.357616  16.953642    ...      0.377136  40.264901  0.232389   \n",
        "364   6.768212  16.715232    ...      0.387009  40.198675  0.227498   \n",
        "365   6.357616  16.953642    ...      0.332727  40.264901  0.199563   \n",
        "366   6.357616  16.953642    ...      0.394696  40.264901  0.245870   \n",
        "367   6.357616  16.953642    ...      0.332727  40.264901  0.199563   \n",
        "\n",
        "           TOV      TOVP       STL       BLK          F  oppORB  oppDRB  \n",
        "0    20.469083  0.215517  6.140725  6.140725  34.797441    39.0      78  \n",
        "1    20.469083  0.215517  6.140725  6.140725  34.797441    66.0     132  \n",
        "2    20.469083  0.215517  6.140725  6.140725  34.797441    66.0     132  \n",
        "3    20.469083  0.215517  6.140725  6.140725  34.797441    54.0     108  \n",
        "4    20.469083  0.215517  6.140725  6.140725  34.797441    54.0     108  \n",
        "5    20.469083  0.215517  6.140725  6.140725  34.797441    51.0     102  \n",
        "6    20.469083  0.215517  6.140725  6.140725  34.797441    60.0     120  \n",
        "7    22.601279  0.215517  6.780384  6.780384  38.422175    54.0     108  \n",
        "8    20.469083  0.215517  6.140725  6.140725  34.797441    60.0     120  \n",
        "9    20.469083  0.215517  6.140725  6.140725  34.797441    51.0     102  \n",
        "10   20.469083  0.215517  6.140725  6.140725  34.797441    75.0     150  \n",
        "11   20.469083  0.215517  6.140725  6.140725  34.797441    60.0     120  \n",
        "12   20.469083  0.215517  6.140725  6.140725  34.797441    54.0     108  \n",
        "13   20.469083  0.215517  6.140725  6.140725  34.797441    48.0      96  \n",
        "14   20.469083  0.215517  6.140725  6.140725  34.797441    63.0     126  \n",
        "15   20.469083  0.215517  6.140725  6.140725  34.797441    60.0     120  \n",
        "16   20.469083  0.215517  6.140725  6.140725  34.797441    51.0     102  \n",
        "17   20.469083  0.215517  6.140725  6.140725  34.797441    57.0     114  \n",
        "18   20.469083  0.215517  6.140725  6.140725  34.797441    72.0     144  \n",
        "19   20.469083  0.215517  6.140725  6.140725  34.797441    42.0      84  \n",
        "20   20.469083  0.215517  6.140725  6.140725  34.797441    66.0     132  \n",
        "21   20.469083  0.215517  6.140725  6.140725  34.797441    54.0     108  \n",
        "22   20.469083  0.215517  6.140725  6.140725  34.797441    54.0     108  \n",
        "23   20.469083  0.215517  6.140725  6.140725  34.797441    72.0     144  \n",
        "24   20.469083  0.215517  6.140725  6.140725  34.797441    39.0      78  \n",
        "25   20.469083  0.215517  6.140725  6.140725  34.797441    48.0      96  \n",
        "26   20.469083  0.215517  6.140725  6.140725  34.797441    48.0      96  \n",
        "27   20.469083  0.215517  6.140725  6.140725  34.797441    72.0     144  \n",
        "28   20.469083  0.215517  6.140725  6.140725  34.797441    66.0     132  \n",
        "29   20.469083  0.215517  6.140725  6.140725  34.797441    72.0     144  \n",
        "..         ...       ...       ...       ...        ...     ...     ...  \n",
        "338  10.328700  0.107690  4.235726  4.756956  13.749637    54.5      99  \n",
        "339   9.786537  0.099810  4.230281  5.808612  15.847504    55.0     111  \n",
        "340   9.752969  0.099117  4.040413  5.770902  16.173283    55.5     110  \n",
        "341   5.298013  0.111707  4.119205  7.119205   6.357616    38.0      74  \n",
        "342   9.335200  0.093258  3.989202  6.555761  17.838409    57.5     119  \n",
        "343  11.231668  0.112819  3.136041  6.181858  13.042520    59.5     108  \n",
        "344  10.596026  0.111707  4.238411  4.238411  12.715232    52.5      90  \n",
        "345  10.596026  0.111707  4.238411  4.238411  12.715232    63.0     108  \n",
        "346  10.596026  0.111707  4.238411  4.238411  12.715232    59.5     102  \n",
        "347  10.283645  0.107022  4.235273  4.844351  13.923975    58.5     117  \n",
        "348   9.741482  0.099171  4.229828  5.896007  16.021842    48.0      99  \n",
        "349  10.596026  0.111707  4.238411  4.238411  12.715232    59.5     102  \n",
        "350  10.596026  0.111707  4.238411  4.238411  12.715232    63.0     108  \n",
        "351  10.596026  0.111707  4.238411  4.238411  12.715232    45.5      78  \n",
        "352  10.763242  0.107172  3.281248  6.661007  14.478262    47.5      93  \n",
        "353  10.578657  0.107836  3.749910  5.671092  14.009858    63.5     123  \n",
        "354  11.324735  0.113534  3.050888  6.247963  12.898787    50.5      87  \n",
        "355  10.020823  0.103173  4.232634  5.354156  14.940947    39.0      78  \n",
        "356   9.718042  0.097403  2.946953  5.245635  17.438224    32.5      65  \n",
        "357   9.784503  0.098845  3.408960  5.366996  16.704235    54.0     100  \n",
        "358  10.508169  0.110377  4.237528  4.408831  13.055191    49.5      96  \n",
        "359  10.596026  0.111707  4.238411  4.238411  12.715232    52.5      90  \n",
        "360  10.596026  0.111707  4.238411  4.238411  12.715232    52.5      90  \n",
        "361  10.596026  0.111707  4.238411  4.238411  12.715232    73.5     126  \n",
        "362  10.596026  0.111707  4.238411  4.238411  12.715232    42.0      72  \n",
        "363  10.596026  0.111707  4.238411  4.238411  12.715232    49.0      84  \n",
        "364   7.947020  0.085432  4.178808  6.178808  13.536424    49.5      87  \n",
        "365  10.596026  0.111707  4.238411  4.238411  12.715232    59.5     102  \n",
        "366  10.596026  0.111707  4.238411  4.238411  12.715232    45.5      78  \n",
        "367  10.596026  0.111707  4.238411  4.238411  12.715232    59.5     102  \n",
        "\n",
        "[368 rows x 27 columns]\n"
       ]
      }
     ],
     "prompt_number": 9
    },
    {
     "cell_type": "code",
     "collapsed": false,
     "input": [
      "output.to_csv(SUPOUTPUTPATH+'output2.csv',index=False)"
     ],
     "language": "python",
     "metadata": {},
     "outputs": [],
     "prompt_number": 10
    }
   ],
   "metadata": {}
  }
 ]
}