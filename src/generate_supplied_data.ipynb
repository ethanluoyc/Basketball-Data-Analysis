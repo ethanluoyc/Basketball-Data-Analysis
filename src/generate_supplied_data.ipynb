{
 "metadata": {
  "name": "",
  "signature": "sha256:a97b50d786363e23d5208da37dde5010d56ab2b45501b4fe26b0de40f1d10781"
 },
 "nbformat": 3,
 "nbformat_minor": 0,
 "worksheets": [
  {
   "cells": [
    {
     "cell_type": "code",
     "collapsed": false,
     "input": [
      "from data_operation import *\n",
      "from calc import *\n",
      "from Basketball import BasketballGame,BasketballPart\n",
      "import numpy as np\n",
      "import pandas as pd\n",
      "import glob\n",
      "import re,os\n",
      "teamname   = 'CLE' \n",
      "FOLDERPATH = '../data/input/test/training set/'\n",
      "OUTPUTPATH = '../data/output/test/'\n",
      "FILENAMES = [os.path.basename(x) for x in glob.glob(FOLDERPATH+'*.csv')]\n",
      "COL = ['SN', 'NO',\n",
      "       'P1','P2','P3','P4','P5']\n",
      "\n",
      "COLS =['interval',\n",
      "       'FGM','FGA','FGP',\n",
      "       'B3M','B3A','B3P',\n",
      "       'FTM','FTA','FTP',\n",
      "       'ORB','ORBP',\n",
      "       'DRB','DRBP',\n",
      "       'TRB','TRBP',\n",
      "       'TOV','TOVP',\n",
      "       'STL','BLK','F',\n",
      "       'PTD','P'\n",
      "      ]\n",
      "PLAYERCOL = ['P1','P2','P3','P4','P5']\n",
      "\n",
      "def generate_row(df,col):\n",
      "    row = []\n",
      "    for attribute in col:\n",
      "        item = getattr(df,attribute)\n",
      "        row.append(item)\n",
      "    return row"
     ],
     "language": "python",
     "metadata": {},
     "outputs": [],
     "prompt_number": 2
    },
    {
     "cell_type": "code",
     "collapsed": false,
     "input": [],
     "language": "python",
     "metadata": {},
     "outputs": []
    }
   ],
   "metadata": {}
  }
 ]
}