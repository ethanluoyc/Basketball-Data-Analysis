{
 "metadata": {
  "name": "",
  "signature": "sha256:ca889c66ff6d48a0dc9e7bed16ed158cc2d1bf55b4b2a16677028f0b111527eb"
 },
 "nbformat": 3,
 "nbformat_minor": 0,
 "worksheets": [
  {
   "cells": [
    {
     "cell_type": "heading",
     "level": 1,
     "metadata": {},
     "source": [
      "This is a file which will slice games into segments of lineups"
     ]
    },
    {
     "cell_type": "code",
     "collapsed": false,
     "input": [
      "import pandas as pd\n",
      "import datetime\n",
      "from Basketball import BasketballLineup\n",
      "from calc import *\n",
      "PATH = '../../data/play_by_play/2008-2009.regular_season/20081028.CLEBOS.csv'\n",
      "namecolumns = ['a1','a2','a3','a4','a5','h1','h2','h3','h4','h5']\n",
      "df = pd.read_csv(PATH)"
     ],
     "language": "python",
     "metadata": {},
     "outputs": [],
     "prompt_number": 63
    },
    {
     "cell_type": "code",
     "collapsed": true,
     "input": [
      "teamname= \"CLE\"\n",
      "oppteamname = 'BOS'\n",
      "df['timeleft']=0\n",
      "end_period = df.tail(1).period.item()\n",
      "df.ix[:,'time']=pd.to_datetime(df.time, format='%M:%S')\n",
      "df.ix[(df.period<=4),'timeleft']= (end_period-4)*5*60\n",
      "if end_period>4:\n",
      "    df.ix[(df.period>4),'timeleft']=(end_period - df.period)*5*60\n",
      "df.ix[df.period<=4,'timeleft']+=(4-df.period)*12*60\n",
      "df.ix[:,'timeleft'] = df.ix[:,'timeleft']+pd.DatetimeIndex(df.time).minute*60+pd.DatetimeIndex(df.time).second\n",
      "\n",
      "# this part handles gives a reference number for each row.\n",
      "msk = (df.ix[:,namecolumns]!=df.ix[:,namecolumns].shift(-1)).any(1)\n",
      "counter =0\n",
      "combinations = df[(msk)].index\n",
      "print combinations\n",
      "for index in combinations:\n",
      "    counter +=1\n",
      "    if counter==1: df.ix[0:,'lineup_no']=counter\n",
      "    df.ix[index:,'lineup_no']=counter\n",
      "total_lineup = counter\n",
      "score= 0\n",
      "for lineup_no in range(1,(total_lineup+1)):\n",
      "    interval = df.head(1).timeleft-df.tail(1).timeleft\n",
      "    team1 = df[df.team==teamname]\n",
      "    team1players = \n",
      "    team2 = df[df.team==oppteamname]\n",
      "    team1lineupseg = team1[team1['lineup_no']==lineup_no]\n",
      "    team2lineupseg = team2[team2['lineup_no']==lineup_no]\n",
      "    \n",
      "    score += score_calculate()\n",
      "score\n",
      "    "
     ],
     "language": "python",
     "metadata": {},
     "outputs": [
      {
       "output_type": "stream",
       "stream": "stdout",
       "text": [
        "Int64Index([42, 58, 72, 74, 79, 80, 103, 155, 156, 157, 158, 159, 166, 167, 168, 175, 199, 213, 214, 222, 263, 264, 271, 278, 296, 297, 299, 301, 307, 314, 345, 354, 355, 356, 366, 370, 375, 386, 410, 413, 442, 443, 447, 461, 465], dtype='int64')\n"
       ]
      },
      {
       "metadata": {},
       "output_type": "pyout",
       "prompt_number": 70,
       "text": [
        "0"
       ]
      }
     ],
     "prompt_number": 70
    },
    {
     "cell_type": "code",
     "collapsed": false,
     "input": [],
     "language": "python",
     "metadata": {},
     "outputs": []
    }
   ],
   "metadata": {}
  }
 ]
}