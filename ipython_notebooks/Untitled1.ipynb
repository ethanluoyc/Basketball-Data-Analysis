{
 "metadata": {
  "name": "",
  "signature": "sha256:4700f7ff5ec0cbbdc214843d7f76514346a2358ae48eb86cfb802d384cbe235a"
 },
 "nbformat": 3,
 "nbformat_minor": 0,
 "worksheets": [
  {
   "cells": [
    {
     "cell_type": "code",
     "collapsed": false,
     "input": [
      "from src/data_operation import *\n",
      "from src/calc import *\n",
      "from Basketball import BasketballGame,Player\n",
      "import glob\n",
      "import re,os\n",
      "\n",
      "teamname = 'CLE'\n",
      "FOLDERPATH = '../data/input/2008-2009.regular_season/'\n",
      "OUTPUTPATH = '../data/output/'\n",
      "FILENAMES = [os.path.basename(x) for x in glob.glob(FOLDERPATH+'*.csv')]\n",
      "COL = ['SN', 'NO','P1','P2','P3','P4','P5','SCORE','POINT SPREAD','TIME','FGM','FGA']\n",
      "# col2= ['SN','name','FGM','FGA','FGP','B3M','B3A','B3P','FTM','FTA','FTP','P','time']\n"
     ],
     "language": "python",
     "metadata": {},
     "outputs": [
      {
       "ename": "ImportError",
       "evalue": "No module named data_operation",
       "output_type": "pyerr",
       "traceback": [
        "\u001b[0;31m---------------------------------------------------------------------------\u001b[0m\n\u001b[0;31mImportError\u001b[0m                               Traceback (most recent call last)",
        "\u001b[0;32m<ipython-input-1-43a50e69f56d>\u001b[0m in \u001b[0;36m<module>\u001b[0;34m()\u001b[0m\n\u001b[0;32m----> 1\u001b[0;31m \u001b[0;32mfrom\u001b[0m \u001b[0mdata_operation\u001b[0m \u001b[0;32mimport\u001b[0m \u001b[0;34m*\u001b[0m\u001b[0;34m\u001b[0m\u001b[0m\n\u001b[0m\u001b[1;32m      2\u001b[0m \u001b[0;32mfrom\u001b[0m \u001b[0mcalc\u001b[0m \u001b[0;32mimport\u001b[0m \u001b[0;34m*\u001b[0m\u001b[0;34m\u001b[0m\u001b[0m\n\u001b[1;32m      3\u001b[0m \u001b[0;32mfrom\u001b[0m \u001b[0mBasketball\u001b[0m \u001b[0;32mimport\u001b[0m \u001b[0mBasketballGame\u001b[0m\u001b[0;34m,\u001b[0m\u001b[0mPlayer\u001b[0m\u001b[0;34m\u001b[0m\u001b[0m\n\u001b[1;32m      4\u001b[0m \u001b[0;32mimport\u001b[0m \u001b[0mglob\u001b[0m\u001b[0;34m\u001b[0m\u001b[0m\n\u001b[1;32m      5\u001b[0m \u001b[0;32mimport\u001b[0m \u001b[0mre\u001b[0m\u001b[0;34m,\u001b[0m\u001b[0mos\u001b[0m\u001b[0;34m\u001b[0m\u001b[0m\n",
        "\u001b[0;31mImportError\u001b[0m: No module named data_operation"
       ]
      }
     ],
     "prompt_number": 1
    },
    {
     "cell_type": "code",
     "collapsed": false,
     "input": [],
     "language": "python",
     "metadata": {},
     "outputs": []
    }
   ],
   "metadata": {}
  }
 ]
}