{
 "metadata": {
  "name": "",
  "signature": "sha256:cc26e05a4f1d955388a5265857f35f35a3838c1fce70692147a5eb1b1722e524"
 },
 "nbformat": 3,
 "nbformat_minor": 0,
 "worksheets": [
  {
   "cells": [
    {
     "cell_type": "code",
     "collapsed": false,
     "input": [
      "import pandas as pd\n",
      "import numpy as np\n",
      "dfIn = pd.read_csv('data_test_input/total_sorted.csv')\n",
      "\n",
      "playerMultipleValues=[]\n",
      "nameindexInitial = dfIn.ix[0,['P1','P2','P3','P4','P5']]\n",
      "row_iterator= dfIn.itertuples()\n",
      "last = row_iterator.next()\n",
      "record = []\n",
      "rowdata = []\n",
      "rowdata.extend(last[4:10])\n",
      "# record.append(rowdata)\n",
      "for row in row_iterator:\n",
      "    if row[4:9]==last[4:9]:\n",
      "        newScore= row[10].item()\n",
      "        rowdata.append(newScore)\n",
      "        last = row\n",
      "        \n",
      "    else:\n",
      "        record.append(rowdata)\n",
      "        rowdata=[]\n",
      "        rowdata.extend(row[4:10])\n",
      "        last=row\n",
      "# print record\n",
      "# np.savetxt('outcome.csv',record,delimiter=',')  \n",
      "\n",
      "dfo = pd.DataFrame(record )\n",
      "dfo.to_csv('outomeyeah.csv',index=False)"
     ],
     "language": "python",
     "metadata": {},
     "outputs": [],
     "prompt_number": 44
    },
    {
     "cell_type": "code",
     "collapsed": false,
     "input": [],
     "language": "python",
     "metadata": {},
     "outputs": []
    }
   ],
   "metadata": {}
  }
 ]
}