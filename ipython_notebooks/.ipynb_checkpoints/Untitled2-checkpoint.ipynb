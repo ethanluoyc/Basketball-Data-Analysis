{
 "metadata": {
  "name": "",
  "signature": "sha256:2506d1b76d985b8b6fbd923fc1d2490594f2fcc03c09174de3d845b39bff3b04"
 },
 "nbformat": 3,
 "nbformat_minor": 0,
 "worksheets": [
  {
   "cells": [
    {
     "cell_type": "heading",
     "level": 1,
     "metadata": {},
     "source": [
      "This is a file which will slice games into segments of lineups"
     ]
    },
    {
     "cell_type": "code",
     "collapsed": false,
     "input": [
      "import pandas as pd\n",
      "import datetime\n",
      "from Basketball import BasketballLineup\n",
      "PATH = '../../data/play_by_play/2008-2009.regular_season/20081028.CLEBOS.csv'\n",
      "namecolumns = ['a1','a2','a3','a4','a5','h1','h2','h3','h4','h5']\n",
      "df = pd.read_csv(PATH)"
     ],
     "language": "python",
     "metadata": {},
     "outputs": [],
     "prompt_number": 17
    },
    {
     "cell_type": "code",
     "collapsed": true,
     "input": [
      "\n",
      "df['timeleft']=0\n",
      "end_period = df.tail(1).period.item()\n",
      "df.ix[:,'time']=pd.to_datetime(df.time, format='%M:%S')\n",
      "df.ix[(df.period<=4),'timeleft']= (end_period-4)*5*60\n",
      "if end_period>4:\n",
      "    df.ix[(df.period>4),'timeleft']=(end_period - df.period)*5*60\n",
      "df.ix[df.period<=4,'timeleft']+=(4-df.period)*12*60\n",
      "df.ix[:,'timeleft'] = df.ix[:,'timeleft']+pd.DatetimeIndex(df.time).minute*60+pd.DatetimeIndex(df.time).second\n",
      "\n",
      "# this part handles gives a reference number for each row.\n",
      "msk = (df.ix[:,namecolumns]!=df.ix[:,namecolumns].shift(-1)).any(1)\n",
      "counter =0\n",
      "combinations = df[(msk)].index\n",
      "print combinations\n",
      "for index in combinations:\n",
      "    counter +=1\n",
      "    if counter==1: df.ix[0:,'lineup_no']=counter\n",
      "    df.ix[index:,'lineup_no']=counter\n",
      "\n",
      "total_lineup = counter\n",
      "for lineup in range(1,(total_lineup+1)):\n",
      "    lineuprow = "
     ],
     "language": "python",
     "metadata": {},
     "outputs": [
      {
       "ename": "IndentationError",
       "evalue": "expected an indented block (<ipython-input-50-b57ebbdd5195>, line 22)",
       "output_type": "pyerr",
       "traceback": [
        "\u001b[0;36m  File \u001b[0;32m\"<ipython-input-50-b57ebbdd5195>\"\u001b[0;36m, line \u001b[0;32m22\u001b[0m\n\u001b[0;31m    for lineup in range(1,(total_lineup+1)):\u001b[0m\n\u001b[0m                                            ^\u001b[0m\n\u001b[0;31mIndentationError\u001b[0m\u001b[0;31m:\u001b[0m expected an indented block\n"
       ]
      }
     ],
     "prompt_number": 50
    },
    {
     "cell_type": "code",
     "collapsed": false,
     "input": [],
     "language": "python",
     "metadata": {},
     "outputs": []
    }
   ],
   "metadata": {}
  }
 ]
}