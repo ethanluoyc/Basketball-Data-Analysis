{
 "metadata": {
  "name": "",
  "signature": "sha256:2c7c46e2646af43fdde129a561b572b0847737afda3416529ae4accf3f813cf5"
 },
 "nbformat": 3,
 "nbformat_minor": 0,
 "worksheets": [
  {
   "cells": [
    {
     "cell_type": "code",
     "collapsed": false,
     "input": [
      "import pandas as pd\n",
      "import numpy as np\n",
      "import pylab as plt\n",
      "%matplotlib inline\n"
     ],
     "language": "python",
     "metadata": {},
     "outputs": [
      {
       "output_type": "stream",
       "stream": "stderr",
       "text": [
        "/Users/luoyicheng/.virtualenvs/venv/lib/python2.7/site-packages/pandas/io/excel.py:626: UserWarning: Installed openpyxl is not supported at this time. Use >=1.6.1 and <2.0.0.\n",
        "  .format(openpyxl_compat.start_ver, openpyxl_compat.stop_ver))\n"
       ]
      }
     ],
     "prompt_number": 1
    },
    {
     "cell_type": "code",
     "collapsed": false,
     "input": [
      "df = pd.read_csv('data/output/total_sorted.csv')\n",
      "total_time = df.TIME.sum()\n",
      "print total_time/60\n",
      "print total_time/60*0.05"
     ],
     "language": "python",
     "metadata": {},
     "outputs": [
      {
       "output_type": "stream",
       "stream": "stdout",
       "text": [
        "3759.0\n",
        "187.95\n"
       ]
      }
     ],
     "prompt_number": 2
    },
    {
     "cell_type": "code",
     "collapsed": false,
     "input": [
      "#this calculate the mean FGP for different combinations of players for CLE in 07-08 season\n",
      "sorted  = df.sort(['P1','P2','P3','P4','P5'])\n",
      "grouped = sorted.groupby(['P1','P2','P3','P4','P5'],as_index=False)\n",
      "\n",
      "result  = grouped.sum()\n",
      "result['FGP'] = result.FGM/result.FGA\n",
      "# result[['P1','P2','P3','P4','P5','FGA','FGP']].sort('FGA',ascending=False)"
     ],
     "language": "python",
     "metadata": {},
     "outputs": [],
     "prompt_number": 3
    },
    {
     "cell_type": "code",
     "collapsed": false,
     "input": [
      "#this calculate the deviation of the FGP for different teams for CLE in 07-08 season\n",
      "df1 = df[df.FGA>20]\n",
      "df1['FGP']=df1.FGM/df1.FGA\n",
      "grouped = df1.groupby(['P1','P2','P3','P4','P5'],as_index=False)\n",
      "result = grouped.agg({'TIME': np.sum,\n",
      "                      'FGM' : np.sum,\n",
      "                      'FGA' : np.sum,\n",
      "                      'FGP' : np.std })\n",
      "print 'the mean deviation of FGP is : ',result.FGP.mean()\n",
      "result.sort('TIME',ascending=False)"
     ],
     "language": "python",
     "metadata": {},
     "outputs": [
      {
       "output_type": "stream",
       "stream": "stdout",
       "text": [
        "the mean deviation of FGP is :  0.160277537069\n"
       ]
      }
     ],
     "prompt_number": 4
    },
    {
     "cell_type": "code",
     "collapsed": false,
     "input": [
      "df1 = df[df.FGA>10]\n",
      "df1['FGP']=df1.FGM/df1.FGA\n",
      "grouped = df1.groupby(['P1','P2','P3','P4','P5'],as_index=False)\n",
      "\n",
      "plt.figure()\n",
      "plt.hold =True\n",
      "boxes=[]\n",
      "for players,data in grouped:\n",
      "    boxes.append(data.FGP)\n",
      "plt.boxplot(boxes,vert=1)\n",
      "plt.show()\n",
      "df1.boxplot(column=['FGP'])\n",
      "\n",
      "# grouped.ix[:,'TIME']=grouped.ix['TIME']/60\n",
      "time_grouped = grouped.sum().sort('TIME',ascending=False)\n",
      "time_grouped.ix[:,'TIME']=time_grouped.TIME/60\n",
      "time_grouped['FGP']=time_grouped.FGM/time_grouped.FGA\n",
      "# grouped.boxplot()\n",
      "# time_grouped.plot(x='FGP',y='POINT SPREAD',kind='scatter')"
     ],
     "language": "python",
     "metadata": {},
     "outputs": [
      {
       "metadata": {},
       "output_type": "display_data",
       "png": "[encoded data removed]",
       "text": [
        "<matplotlib.figure.Figure at 0x11ce27c50>"
       ]
      },
      {
       "metadata": {},
       "output_type": "display_data",
       "png": "[encoded data removed]",
       "text": [
        "<matplotlib.figure.Figure at 0x11ce25a90>"
       ]
      }
     ],
     "prompt_number": 31
    },
    {
     "cell_type": "code",
     "collapsed": false,
     "input": [],
     "language": "python",
     "metadata": {},
     "outputs": []
    }
   ],
   "metadata": {}
  }
 ]
}